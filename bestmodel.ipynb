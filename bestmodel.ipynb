{
  "nbformat": 4,
  "nbformat_minor": 0,
  "metadata": {
    "colab": {
      "name": "bestmodel.ipynb",
      "provenance": [],
      "collapsed_sections": []
    },
    "kernelspec": {
      "name": "python3",
      "display_name": "Python 3"
    }
  },
  "cells": [
    {
      "cell_type": "code",
      "metadata": {
        "id": "1pq6EQxS1fmZ",
        "colab": {
          "base_uri": "https://localhost:8080/"
        },
        "outputId": "0240bef4-4a5f-450f-92b7-cbdfb8b438fd"
      },
      "source": [
        "#Dostęp do dysku\r\n",
        "from google.colab import drive\r\n",
        "drive.mount('/content/drive')"
      ],
      "execution_count": null,
      "outputs": [
        {
          "output_type": "stream",
          "text": [
            "Drive already mounted at /content/drive; to attempt to forcibly remount, call drive.mount(\"/content/drive\", force_remount=True).\n"
          ],
          "name": "stdout"
        }
      ]
    },
    {
      "cell_type": "code",
      "metadata": {
        "id": "CFNIjOO4BF1z"
      },
      "source": [
        "#Biblioteki\r\n",
        "import pandas as pd\r\n",
        "import numpy as np\r\n",
        "from tqdm import tqdm\r\n",
        "tqdm.pandas(desc=\"progress-bar\")\r\n",
        "from gensim.models import Doc2Vec\r\n",
        "from sklearn import utils\r\n",
        "from sklearn.model_selection import train_test_split\r\n",
        "import gensim\r\n",
        "from sklearn.linear_model import LogisticRegression\r\n",
        "from gensim.models.doc2vec import TaggedDocument\r\n",
        "import re\r\n",
        "import seaborn as sns\r\n",
        "import matplotlib.pyplot as plt\r\n",
        "from sklearn.metrics import accuracy_score, f1_score"
      ],
      "execution_count": 169,
      "outputs": []
    },
    {
      "cell_type": "code",
      "metadata": {
        "colab": {
          "base_uri": "https://localhost:8080/",
          "height": 1000
        },
        "id": "WJA4SPE6lDN6",
        "outputId": "0c2d8a8f-d40a-42cf-e2e2-c833471ffa1d"
      },
      "source": [
        "#Wczytanie dnaych do trenowania\r\n",
        "df = pd.read_csv('/content/drive/MyDrive/result.csv', sep='\\t')\r\n",
        "df = df[['Category','Title','RawWiki','CleanWiki']]\r\n",
        "df.head(45)"
      ],
      "execution_count": null,
      "outputs": [
        {
          "output_type": "execute_result",
          "data": {
            "text/html": [
              "<div>\n",
              "<style scoped>\n",
              "    .dataframe tbody tr th:only-of-type {\n",
              "        vertical-align: middle;\n",
              "    }\n",
              "\n",
              "    .dataframe tbody tr th {\n",
              "        vertical-align: top;\n",
              "    }\n",
              "\n",
              "    .dataframe thead th {\n",
              "        text-align: right;\n",
              "    }\n",
              "</style>\n",
              "<table border=\"1\" class=\"dataframe\">\n",
              "  <thead>\n",
              "    <tr style=\"text-align: right;\">\n",
              "      <th></th>\n",
              "      <th>Category</th>\n",
              "      <th>Title</th>\n",
              "      <th>RawWiki</th>\n",
              "      <th>CleanWiki</th>\n",
              "    </tr>\n",
              "  </thead>\n",
              "  <tbody>\n",
              "    <tr>\n",
              "      <th>0</th>\n",
              "      <td>Animals</td>\n",
              "      <td>Tiger</td>\n",
              "      <td>The tiger (Panthera tigris) is the largest ext...</td>\n",
              "      <td>the tiger panthera tigris is the largest extan...</td>\n",
              "    </tr>\n",
              "    <tr>\n",
              "      <th>1</th>\n",
              "      <td>Animals</td>\n",
              "      <td>Rabbit</td>\n",
              "      <td>Rabbits are small mammals in the family Lepori...</td>\n",
              "      <td>rabbits are small mammals in the family lepori...</td>\n",
              "    </tr>\n",
              "    <tr>\n",
              "      <th>2</th>\n",
              "      <td>Animals</td>\n",
              "      <td>Koala Bear</td>\n",
              "      <td>The koala or, inaccurately, koala bear[a]  (Ph...</td>\n",
              "      <td>the koala or inaccurately koala bear a phascol...</td>\n",
              "    </tr>\n",
              "    <tr>\n",
              "      <th>3</th>\n",
              "      <td>Animals</td>\n",
              "      <td>Guinea Pig</td>\n",
              "      <td>The  guinea pig or domestic guinea pig (Cavia ...</td>\n",
              "      <td>the guinea pig or domestic guinea pig cavia po...</td>\n",
              "    </tr>\n",
              "    <tr>\n",
              "      <th>4</th>\n",
              "      <td>Animals</td>\n",
              "      <td>Mouse</td>\n",
              "      <td>A mouse, plural mice, is a small rodent. Chara...</td>\n",
              "      <td>a mouse plural mice is a small rodent characte...</td>\n",
              "    </tr>\n",
              "    <tr>\n",
              "      <th>5</th>\n",
              "      <td>Animals</td>\n",
              "      <td>Penguin</td>\n",
              "      <td>Penguins (order Sphenisciformes /sfɪˈnɪsɪfɔːrm...</td>\n",
              "      <td>penguins order sphenisciformes sfɪˈnɪsɪfɔːrmiː...</td>\n",
              "    </tr>\n",
              "    <tr>\n",
              "      <th>6</th>\n",
              "      <td>Animals</td>\n",
              "      <td>Cat</td>\n",
              "      <td>The cat (Felis catus) is a domestic species of...</td>\n",
              "      <td>the cat felis catus is a domestic species of s...</td>\n",
              "    </tr>\n",
              "    <tr>\n",
              "      <th>7</th>\n",
              "      <td>Animals</td>\n",
              "      <td>Dog</td>\n",
              "      <td>The dog (Canis familiaris when considered a di...</td>\n",
              "      <td>the dog canis familiaris when considered a dis...</td>\n",
              "    </tr>\n",
              "    <tr>\n",
              "      <th>8</th>\n",
              "      <td>Animals</td>\n",
              "      <td>Lion</td>\n",
              "      <td>The lion (Panthera leo) is a species in the fa...</td>\n",
              "      <td>the lion panthera leo is a species in the fami...</td>\n",
              "    </tr>\n",
              "    <tr>\n",
              "      <th>9</th>\n",
              "      <td>Animals</td>\n",
              "      <td>Fox</td>\n",
              "      <td>Foxes are small to medium-sized, omnivorous ma...</td>\n",
              "      <td>foxes are small to medium sized omnivorous mam...</td>\n",
              "    </tr>\n",
              "    <tr>\n",
              "      <th>10</th>\n",
              "      <td>Animals</td>\n",
              "      <td>Horse</td>\n",
              "      <td>The horse (Equus ferus caballus)[2][3] is one ...</td>\n",
              "      <td>the horse equus ferus caballus is one of two e...</td>\n",
              "    </tr>\n",
              "    <tr>\n",
              "      <th>11</th>\n",
              "      <td>Animals</td>\n",
              "      <td>Zebra</td>\n",
              "      <td>Zebras[a] (subgenus Hippotigris) are African e...</td>\n",
              "      <td>zebras a subgenus hippotigris are african equi...</td>\n",
              "    </tr>\n",
              "    <tr>\n",
              "      <th>12</th>\n",
              "      <td>Animals</td>\n",
              "      <td>Donkey</td>\n",
              "      <td>The donkey or ass (Equus africanus asinus)[1][...</td>\n",
              "      <td>the donkey or ass equus africanus asinus is a ...</td>\n",
              "    </tr>\n",
              "    <tr>\n",
              "      <th>13</th>\n",
              "      <td>Animals</td>\n",
              "      <td>Giraffe</td>\n",
              "      <td>The giraffe (Giraffa) is an African artiodacty...</td>\n",
              "      <td>the giraffe giraffa is an african artiodactyl ...</td>\n",
              "    </tr>\n",
              "    <tr>\n",
              "      <th>14</th>\n",
              "      <td>Animals</td>\n",
              "      <td>Panda</td>\n",
              "      <td>The giant panda (Ailuropoda melanoleuca; Chine...</td>\n",
              "      <td>the giant panda ailuropoda melanoleuca chinese...</td>\n",
              "    </tr>\n",
              "    <tr>\n",
              "      <th>15</th>\n",
              "      <td>Sports</td>\n",
              "      <td>Football</td>\n",
              "      <td>Football is a family of team sports that invol...</td>\n",
              "      <td>football is a family of team sports that invol...</td>\n",
              "    </tr>\n",
              "    <tr>\n",
              "      <th>16</th>\n",
              "      <td>Sports</td>\n",
              "      <td>Badminton</td>\n",
              "      <td>Badminton is a racquet sport played using racq...</td>\n",
              "      <td>badminton is a racquet sport played using racq...</td>\n",
              "    </tr>\n",
              "    <tr>\n",
              "      <th>17</th>\n",
              "      <td>Sports</td>\n",
              "      <td>Field Hockey</td>\n",
              "      <td>Field hockey is a widely played team sport of ...</td>\n",
              "      <td>field hockey is a widely played team sport of ...</td>\n",
              "    </tr>\n",
              "    <tr>\n",
              "      <th>18</th>\n",
              "      <td>Sports</td>\n",
              "      <td>Volleyball</td>\n",
              "      <td>Volleyball is a team sport in which two teams ...</td>\n",
              "      <td>volleyball is a team sport in which two teams ...</td>\n",
              "    </tr>\n",
              "    <tr>\n",
              "      <th>19</th>\n",
              "      <td>Sports</td>\n",
              "      <td>Basketball</td>\n",
              "      <td>Basketball, colloquially referred to as hoops,...</td>\n",
              "      <td>basketball colloquially referred to as hoops i...</td>\n",
              "    </tr>\n",
              "    <tr>\n",
              "      <th>20</th>\n",
              "      <td>Sports</td>\n",
              "      <td>Tennis</td>\n",
              "      <td>Tennis is a racket sport that can be played in...</td>\n",
              "      <td>tennis is a racket sport that can be played in...</td>\n",
              "    </tr>\n",
              "    <tr>\n",
              "      <th>21</th>\n",
              "      <td>Sports</td>\n",
              "      <td>Cricket</td>\n",
              "      <td>Cricket is a bat-and-ball game played between ...</td>\n",
              "      <td>cricket is a bat and ball game played between ...</td>\n",
              "    </tr>\n",
              "    <tr>\n",
              "      <th>22</th>\n",
              "      <td>Sports</td>\n",
              "      <td>Table Tennis</td>\n",
              "      <td>Table tennis, also known as ping-pong and whif...</td>\n",
              "      <td>table tennis also known as ping pong and whiff...</td>\n",
              "    </tr>\n",
              "    <tr>\n",
              "      <th>23</th>\n",
              "      <td>Sports</td>\n",
              "      <td>Boxing</td>\n",
              "      <td>Boxing is a combat sport in which two people, ...</td>\n",
              "      <td>boxing is a combat sport in which two people u...</td>\n",
              "    </tr>\n",
              "    <tr>\n",
              "      <th>24</th>\n",
              "      <td>Sports</td>\n",
              "      <td>Golf</td>\n",
              "      <td>Golf is a club-and-ball sport in which players...</td>\n",
              "      <td>golf is a club and ball sport in which players...</td>\n",
              "    </tr>\n",
              "    <tr>\n",
              "      <th>25</th>\n",
              "      <td>Sports</td>\n",
              "      <td>Swimming</td>\n",
              "      <td>Swimming is the self-propulsion of a person th...</td>\n",
              "      <td>swimming is the self propulsion of a person th...</td>\n",
              "    </tr>\n",
              "    <tr>\n",
              "      <th>26</th>\n",
              "      <td>Sports</td>\n",
              "      <td>Handball</td>\n",
              "      <td>Handball (also known as team handball, Europea...</td>\n",
              "      <td>handball also known as team handball european ...</td>\n",
              "    </tr>\n",
              "    <tr>\n",
              "      <th>27</th>\n",
              "      <td>Sports</td>\n",
              "      <td>Skiing</td>\n",
              "      <td>Skiing is a means of transport using skis to g...</td>\n",
              "      <td>skiing is a means of transport using skis to g...</td>\n",
              "    </tr>\n",
              "    <tr>\n",
              "      <th>28</th>\n",
              "      <td>Sports</td>\n",
              "      <td>Cycling</td>\n",
              "      <td>Cycling, also called bicycling or biking, is t...</td>\n",
              "      <td>cycling also called bicycling or biking is the...</td>\n",
              "    </tr>\n",
              "    <tr>\n",
              "      <th>29</th>\n",
              "      <td>Sports</td>\n",
              "      <td>Rugby Football</td>\n",
              "      <td>Rugby football is a collective name for the fa...</td>\n",
              "      <td>rugby football is a collective name for the fa...</td>\n",
              "    </tr>\n",
              "    <tr>\n",
              "      <th>30</th>\n",
              "      <td>Instruments</td>\n",
              "      <td>Guitar</td>\n",
              "      <td>The guitar is a fretted musical instrument tha...</td>\n",
              "      <td>the guitar is a fretted musical instrument tha...</td>\n",
              "    </tr>\n",
              "    <tr>\n",
              "      <th>31</th>\n",
              "      <td>Instruments</td>\n",
              "      <td>Piano</td>\n",
              "      <td>The piano is an acoustic, stringed musical ins...</td>\n",
              "      <td>the piano is an acoustic stringed musical inst...</td>\n",
              "    </tr>\n",
              "    <tr>\n",
              "      <th>32</th>\n",
              "      <td>Instruments</td>\n",
              "      <td>Violin</td>\n",
              "      <td>The violin, sometimes known as a fiddle, is a ...</td>\n",
              "      <td>the violin sometimes known as a fiddle is a wo...</td>\n",
              "    </tr>\n",
              "    <tr>\n",
              "      <th>33</th>\n",
              "      <td>Instruments</td>\n",
              "      <td>Drums</td>\n",
              "      <td>A drum kit – also called a drum set, trap set ...</td>\n",
              "      <td>a drum kit also called a drum set trap set an ...</td>\n",
              "    </tr>\n",
              "    <tr>\n",
              "      <th>34</th>\n",
              "      <td>Instruments</td>\n",
              "      <td>Saxophone</td>\n",
              "      <td>The saxophone (referred to colloquially as the...</td>\n",
              "      <td>the saxophone referred to colloquially as the ...</td>\n",
              "    </tr>\n",
              "    <tr>\n",
              "      <th>35</th>\n",
              "      <td>Instruments</td>\n",
              "      <td>Cello</td>\n",
              "      <td>The cello (/ˈtʃɛloʊ/ CHEL-oh; plural celli or ...</td>\n",
              "      <td>the cello ˈtʃɛloʊ chel oh plural celli or cell...</td>\n",
              "    </tr>\n",
              "    <tr>\n",
              "      <th>36</th>\n",
              "      <td>Instruments</td>\n",
              "      <td>Flute</td>\n",
              "      <td>The flute is a family of musical instruments i...</td>\n",
              "      <td>the flute is a family of musical instruments i...</td>\n",
              "    </tr>\n",
              "    <tr>\n",
              "      <th>37</th>\n",
              "      <td>Instruments</td>\n",
              "      <td>Clarinet</td>\n",
              "      <td>The clarinet is a family of woodwind instrumen...</td>\n",
              "      <td>the clarinet is a family of woodwind instrumen...</td>\n",
              "    </tr>\n",
              "    <tr>\n",
              "      <th>38</th>\n",
              "      <td>Instruments</td>\n",
              "      <td>Trumpet</td>\n",
              "      <td>The trumpet is a brass instrument commonly use...</td>\n",
              "      <td>the trumpet is a brass instrument commonly use...</td>\n",
              "    </tr>\n",
              "    <tr>\n",
              "      <th>39</th>\n",
              "      <td>Instruments</td>\n",
              "      <td>Pipe Organ</td>\n",
              "      <td>The pipe organ is a musical instrument that pr...</td>\n",
              "      <td>the pipe organ is a musical instrument that pr...</td>\n",
              "    </tr>\n",
              "    <tr>\n",
              "      <th>40</th>\n",
              "      <td>Instruments</td>\n",
              "      <td>Harp</td>\n",
              "      <td>The harp is a stringed musical instrument that...</td>\n",
              "      <td>the harp is a stringed musical instrument that...</td>\n",
              "    </tr>\n",
              "    <tr>\n",
              "      <th>41</th>\n",
              "      <td>Instruments</td>\n",
              "      <td>Ukulele</td>\n",
              "      <td>The ukulele (/ˌjuːkəˈleɪli/ YOO-kə-LAY-lee; fr...</td>\n",
              "      <td>the ukulele ˌjuːkəˈleɪli yoo kə lay lee from h...</td>\n",
              "    </tr>\n",
              "    <tr>\n",
              "      <th>42</th>\n",
              "      <td>Instruments</td>\n",
              "      <td>Trombone</td>\n",
              "      <td>The trombone is a musical instrument in the br...</td>\n",
              "      <td>the trombone is a musical instrument in the br...</td>\n",
              "    </tr>\n",
              "    <tr>\n",
              "      <th>43</th>\n",
              "      <td>Instruments</td>\n",
              "      <td>Viola</td>\n",
              "      <td>The viola (/viˈoʊlə/ vee-OH-lə,[1][2] also UK:...</td>\n",
              "      <td>the viola viˈoʊlə vee oh lə also uk vaɪˈoʊlə v...</td>\n",
              "    </tr>\n",
              "    <tr>\n",
              "      <th>44</th>\n",
              "      <td>Instruments</td>\n",
              "      <td>Double bass</td>\n",
              "      <td>The double bass, also known simply as the bass...</td>\n",
              "      <td>the double bass also known simply as the bass ...</td>\n",
              "    </tr>\n",
              "  </tbody>\n",
              "</table>\n",
              "</div>"
            ],
            "text/plain": [
              "       Category  ...                                          CleanWiki\n",
              "0       Animals  ...  the tiger panthera tigris is the largest extan...\n",
              "1       Animals  ...  rabbits are small mammals in the family lepori...\n",
              "2       Animals  ...  the koala or inaccurately koala bear a phascol...\n",
              "3       Animals  ...  the guinea pig or domestic guinea pig cavia po...\n",
              "4       Animals  ...  a mouse plural mice is a small rodent characte...\n",
              "5       Animals  ...  penguins order sphenisciformes sfɪˈnɪsɪfɔːrmiː...\n",
              "6       Animals  ...  the cat felis catus is a domestic species of s...\n",
              "7       Animals  ...  the dog canis familiaris when considered a dis...\n",
              "8       Animals  ...  the lion panthera leo is a species in the fami...\n",
              "9       Animals  ...  foxes are small to medium sized omnivorous mam...\n",
              "10      Animals  ...  the horse equus ferus caballus is one of two e...\n",
              "11      Animals  ...  zebras a subgenus hippotigris are african equi...\n",
              "12      Animals  ...  the donkey or ass equus africanus asinus is a ...\n",
              "13      Animals  ...  the giraffe giraffa is an african artiodactyl ...\n",
              "14      Animals  ...  the giant panda ailuropoda melanoleuca chinese...\n",
              "15       Sports  ...  football is a family of team sports that invol...\n",
              "16       Sports  ...  badminton is a racquet sport played using racq...\n",
              "17       Sports  ...  field hockey is a widely played team sport of ...\n",
              "18       Sports  ...  volleyball is a team sport in which two teams ...\n",
              "19       Sports  ...  basketball colloquially referred to as hoops i...\n",
              "20       Sports  ...  tennis is a racket sport that can be played in...\n",
              "21       Sports  ...  cricket is a bat and ball game played between ...\n",
              "22       Sports  ...  table tennis also known as ping pong and whiff...\n",
              "23       Sports  ...  boxing is a combat sport in which two people u...\n",
              "24       Sports  ...  golf is a club and ball sport in which players...\n",
              "25       Sports  ...  swimming is the self propulsion of a person th...\n",
              "26       Sports  ...  handball also known as team handball european ...\n",
              "27       Sports  ...  skiing is a means of transport using skis to g...\n",
              "28       Sports  ...  cycling also called bicycling or biking is the...\n",
              "29       Sports  ...  rugby football is a collective name for the fa...\n",
              "30  Instruments  ...  the guitar is a fretted musical instrument tha...\n",
              "31  Instruments  ...  the piano is an acoustic stringed musical inst...\n",
              "32  Instruments  ...  the violin sometimes known as a fiddle is a wo...\n",
              "33  Instruments  ...  a drum kit also called a drum set trap set an ...\n",
              "34  Instruments  ...  the saxophone referred to colloquially as the ...\n",
              "35  Instruments  ...  the cello ˈtʃɛloʊ chel oh plural celli or cell...\n",
              "36  Instruments  ...  the flute is a family of musical instruments i...\n",
              "37  Instruments  ...  the clarinet is a family of woodwind instrumen...\n",
              "38  Instruments  ...  the trumpet is a brass instrument commonly use...\n",
              "39  Instruments  ...  the pipe organ is a musical instrument that pr...\n",
              "40  Instruments  ...  the harp is a stringed musical instrument that...\n",
              "41  Instruments  ...  the ukulele ˌjuːkəˈleɪli yoo kə lay lee from h...\n",
              "42  Instruments  ...  the trombone is a musical instrument in the br...\n",
              "43  Instruments  ...  the viola viˈoʊlə vee oh lə also uk vaɪˈoʊlə v...\n",
              "44  Instruments  ...  the double bass also known simply as the bass ...\n",
              "\n",
              "[45 rows x 4 columns]"
            ]
          },
          "metadata": {
            "tags": []
          },
          "execution_count": 10
        }
      ]
    },
    {
      "cell_type": "code",
      "metadata": {
        "id": "e0hG_bg8aeWh",
        "colab": {
          "base_uri": "https://localhost:8080/"
        },
        "outputId": "3b2c8c9d-6fa8-4515-8dc2-008f0de8b4a4"
      },
      "source": [
        "df.shape"
      ],
      "execution_count": null,
      "outputs": [
        {
          "output_type": "execute_result",
          "data": {
            "text/plain": [
              "(45, 4)"
            ]
          },
          "metadata": {
            "tags": []
          },
          "execution_count": 11
        }
      ]
    },
    {
      "cell_type": "code",
      "metadata": {
        "colab": {
          "base_uri": "https://localhost:8080/"
        },
        "id": "loCHvq2k6j80",
        "outputId": "38f8f4cf-d40c-42fc-cd84-f6d7dc46be44"
      },
      "source": [
        "df['CleanWiki'].apply(lambda x: len(x.split(' '))).sum()"
      ],
      "execution_count": 58,
      "outputs": [
        {
          "output_type": "execute_result",
          "data": {
            "text/plain": [
              "14884"
            ]
          },
          "metadata": {
            "tags": []
          },
          "execution_count": 58
        }
      ]
    },
    {
      "cell_type": "code",
      "metadata": {
        "colab": {
          "base_uri": "https://localhost:8080/"
        },
        "id": "nWBoK7HLD_fV",
        "outputId": "d8994bea-47da-49dc-fd93-72090f3707e4"
      },
      "source": [
        "train['CleanWiki']"
      ],
      "execution_count": 111,
      "outputs": [
        {
          "output_type": "execute_result",
          "data": {
            "text/plain": [
              "17    field hockey is a widely played team sport of ...\n",
              "13    the giraffe giraffa is an african artiodactyl ...\n",
              "42    the trombone is a musical instrument in the br...\n",
              "15    football is a family of team sports that invol...\n",
              "9     foxes are small to medium sized omnivorous mam...\n",
              "16    badminton is a racquet sport played using racq...\n",
              "37    the clarinet is a family of woodwind instrumen...\n",
              "31    the piano is an acoustic stringed musical inst...\n",
              "27    skiing is a means of transport using skis to g...\n",
              "0     the tiger panthera tigris is the largest extan...\n",
              "30    the guitar is a fretted musical instrument tha...\n",
              "29    rugby football is a collective name for the fa...\n",
              "5     penguins order sphenisciformes sfɪˈnɪsɪfɔːrmiː...\n",
              "11    zebras a subgenus hippotigris are african equi...\n",
              "33    a drum kit also called a drum set trap set an ...\n",
              "1     rabbits are small mammals in the family lepori...\n",
              "40    the harp is a stringed musical instrument that...\n",
              "21    cricket is a bat and ball game played between ...\n",
              "2     the koala or inaccurately koala bear a phascol...\n",
              "34    the saxophone referred to colloquially as the ...\n",
              "23    boxing is a combat sport in which two people u...\n",
              "36    the flute is a family of musical instruments i...\n",
              "10    the horse equus ferus caballus is one of two e...\n",
              "22    table tennis also known as ping pong and whiff...\n",
              "18    volleyball is a team sport in which two teams ...\n",
              "44    the double bass also known simply as the bass ...\n",
              "20    tennis is a racket sport that can be played in...\n",
              "7     the dog canis familiaris when considered a dis...\n",
              "14    the giant panda ailuropoda melanoleuca chinese...\n",
              "28    cycling also called bicycling or biking is the...\n",
              "38    the trumpet is a brass instrument commonly use...\n",
              "Name: CleanWiki, dtype: object"
            ]
          },
          "metadata": {
            "tags": []
          },
          "execution_count": 111
        }
      ]
    },
    {
      "cell_type": "code",
      "metadata": {
        "colab": {
          "base_uri": "https://localhost:8080/"
        },
        "id": "6sxbO4YA56Q7",
        "outputId": "dacf74eb-d56b-4841-b0c5-73fa1e047ed7"
      },
      "source": [
        "print(len(df['CleanWiki']))"
      ],
      "execution_count": 54,
      "outputs": [
        {
          "output_type": "stream",
          "text": [
            "45\n"
          ],
          "name": "stdout"
        }
      ]
    },
    {
      "cell_type": "code",
      "metadata": {
        "colab": {
          "base_uri": "https://localhost:8080/"
        },
        "id": "KO-Si4-b7Rck",
        "outputId": "4856d531-8a65-42ed-e2be-be2d00cf42dd"
      },
      "source": [
        "print(df['CleanWiki'][1])"
      ],
      "execution_count": 63,
      "outputs": [
        {
          "output_type": "stream",
          "text": [
            "rabbits are small mammals in the family leporidae of the order lagomorpha along with the hare and the pika oryctolagus cuniculus includes the european rabbit species and its descendants the world s breeds of domestic rabbit sylvilagus includes wild rabbit species among them the seven types of cottontail the european rabbit which has been introduced on every continent except antarctica is familiar throughout the world as a wild prey animal and as a domesticated form of livestock and pet with its widespread effect on ecologies and cultures the rabbit or bunny is in many areas of the world a part of daily life as food clothing a companion and a source of artistic inspiration although once considered rodents lagomorphs like rabbits have been discovered to have diverged separately and earlier than their rodent cousins and have a number of traits rodents lack like two extra incisors\n"
          ],
          "name": "stdout"
        }
      ]
    },
    {
      "cell_type": "code",
      "metadata": {
        "id": "-Gk0y7aF7WaL"
      },
      "source": [
        "def tokenize_text(text):\r\n",
        "  tokens = []\r\n",
        "  for sent in nltk.sent_tokenize(df['CleanWiki'][text]):\r\n",
        "  #for sent in nltk.sent_tokenize(text):\r\n",
        "    #print(sent)\r\n",
        "    for word in nltk.word_tokenize(sent):\r\n",
        "      #print(word)\r\n",
        "      if len(word) < 2:\r\n",
        "        continue\r\n",
        "      tokens.append(word.lower())\r\n",
        "  #print(tokens)\r\n",
        "  return tokens"
      ],
      "execution_count": 103,
      "outputs": []
    },
    {
      "cell_type": "code",
      "metadata": {
        "colab": {
          "base_uri": "https://localhost:8080/"
        },
        "id": "LX_LFZ40FLuM",
        "outputId": "d01b2d7b-12bb-4b73-dbdf-dfe05e862b6d"
      },
      "source": [
        "print(test['CleanWiki'])"
      ],
      "execution_count": 113,
      "outputs": [
        {
          "output_type": "stream",
          "text": [
            "39    the pipe organ is a musical instrument that pr...\n",
            "25    swimming is the self propulsion of a person th...\n",
            "26    handball also known as team handball european ...\n",
            "43    the viola viˈoʊlə vee oh lə also uk vaɪˈoʊlə v...\n",
            "35    the cello ˈtʃɛloʊ chel oh plural celli or cell...\n",
            "41    the ukulele ˌjuːkəˈleɪli yoo kə lay lee from h...\n",
            "4     a mouse plural mice is a small rodent characte...\n",
            "12    the donkey or ass equus africanus asinus is a ...\n",
            "8     the lion panthera leo is a species in the fami...\n",
            "3     the guinea pig or domestic guinea pig cavia po...\n",
            "6     the cat felis catus is a domestic species of s...\n",
            "24    golf is a club and ball sport in which players...\n",
            "32    the violin sometimes known as a fiddle is a wo...\n",
            "19    basketball colloquially referred to as hoops i...\n",
            "Name: CleanWiki, dtype: object\n"
          ],
          "name": "stdout"
        }
      ]
    },
    {
      "cell_type": "code",
      "metadata": {
        "colab": {
          "base_uri": "https://localhost:8080/"
        },
        "id": "vmLwSo2d9yFw",
        "outputId": "c095d66b-7713-47fe-d9dc-a0bd4b58a521"
      },
      "source": [
        "tokens=[]\r\n",
        "for i in range(len(df['CleanWiki'])):\r\n",
        "  toke = tokenize_text(i)\r\n",
        "  tokens.append(toke)\r\n",
        "\r\n",
        "print(tokens)"
      ],
      "execution_count": 121,
      "outputs": [
        {
          "output_type": "stream",
          "text": [
            "[['the', 'tiger', 'panthera', 'tigris', 'is', 'the', 'largest', 'extant', 'cat', 'species', 'and', 'member', 'of', 'the', 'genus', 'panthera', 'it', 'is', 'most', 'recognisable', 'for', 'its', 'dark', 'vertical', 'stripes', 'on', 'orange', 'brown', 'fur', 'with', 'lighter', 'underside', 'it', 'is', 'an', 'apex', 'predator', 'primarily', 'preying', 'on', 'ungulates', 'such', 'as', 'deer', 'and', 'wild', 'boar', 'it', 'is', 'territorial', 'and', 'generally', 'solitary', 'but', 'social', 'predator', 'requiring', 'large', 'contiguous', 'areas', 'of', 'habitat', 'which', 'support', 'its', 'requirements', 'for', 'prey', 'and', 'rearing', 'of', 'its', 'offspring', 'tiger', 'cubs', 'stay', 'with', 'their', 'mother', 'for', 'about', 'two', 'years', 'before', 'they', 'become', 'independent', 'and', 'leave', 'their', 'mother', 'home', 'range', 'to', 'establish', 'their', 'own', 'the', 'tiger', 'once', 'ranged', 'widely', 'from', 'the', 'eastern', 'anatolia', 'region', 'in', 'the', 'west', 'to', 'the', 'amur', 'river', 'basin', 'and', 'in', 'the', 'south', 'from', 'the', 'foothills', 'of', 'the', 'himalayas', 'to', 'bali', 'in', 'the', 'sunda', 'islands', 'since', 'the', 'early', 'century', 'tiger', 'populations', 'have', 'lost', 'at', 'least', 'of', 'their', 'historic', 'range', 'and', 'have', 'been', 'extirpated', 'in', 'western', 'and', 'central', 'asia', 'from', 'the', 'islands', 'of', 'java', 'and', 'bali', 'and', 'in', 'large', 'areas', 'of', 'southeast', 'and', 'south', 'asia', 'and', 'china', 'today', 'tiger', 'range', 'is', 'fragmented', 'stretching', 'from', 'siberian', 'temperate', 'forests', 'to', 'subtropical', 'and', 'tropical', 'forests', 'on', 'the', 'indian', 'subcontinent', 'and', 'sumatra', 'the', 'tiger', 'is', 'listed', 'as', 'endangered', 'on', 'the', 'iucn', 'red', 'list', 'as', 'of', 'the', 'global', 'wild', 'tiger', 'population', 'was', 'estimated', 'to', 'number', 'between', 'and', 'mature', 'individuals', 'with', 'most', 'of', 'the', 'populations', 'living', 'in', 'small', 'pockets', 'isolated', 'from', 'each', 'other', 'india', 'currently', 'hosts', 'the', 'largest', 'tiger', 'population', 'major', 'reasons', 'for', 'population', 'decline', 'are', 'habitat', 'destruction', 'habitat', 'fragmentation', 'and', 'poaching', 'tigers', 'are', 'also', 'victims', 'of', 'human', 'wildlife', 'conflict', 'in', 'particular', 'in', 'range', 'countries', 'with', 'high', 'human', 'population', 'density', 'the', 'tiger', 'is', 'among', 'the', 'most', 'recognisable', 'and', 'popular', 'of', 'the', 'world', 'charismatic', 'megafauna', 'it', 'featured', 'prominently', 'in', 'ancient', 'mythology', 'and', 'folklore', 'and', 'continues', 'to', 'be', 'depicted', 'in', 'modern', 'films', 'and', 'literature', 'appearing', 'on', 'many', 'flags', 'coats', 'of', 'arms', 'and', 'as', 'mascots', 'for', 'sporting', 'teams', 'the', 'tiger', 'is', 'the', 'national', 'animal', 'of', 'india', 'bangladesh', 'malaysia', 'and', 'south', 'korea'], ['rabbits', 'are', 'small', 'mammals', 'in', 'the', 'family', 'leporidae', 'of', 'the', 'order', 'lagomorpha', 'along', 'with', 'the', 'hare', 'and', 'the', 'pika', 'oryctolagus', 'cuniculus', 'includes', 'the', 'european', 'rabbit', 'species', 'and', 'its', 'descendants', 'the', 'world', 'breeds', 'of', 'domestic', 'rabbit', 'sylvilagus', 'includes', 'wild', 'rabbit', 'species', 'among', 'them', 'the', 'seven', 'types', 'of', 'cottontail', 'the', 'european', 'rabbit', 'which', 'has', 'been', 'introduced', 'on', 'every', 'continent', 'except', 'antarctica', 'is', 'familiar', 'throughout', 'the', 'world', 'as', 'wild', 'prey', 'animal', 'and', 'as', 'domesticated', 'form', 'of', 'livestock', 'and', 'pet', 'with', 'its', 'widespread', 'effect', 'on', 'ecologies', 'and', 'cultures', 'the', 'rabbit', 'or', 'bunny', 'is', 'in', 'many', 'areas', 'of', 'the', 'world', 'part', 'of', 'daily', 'life', 'as', 'food', 'clothing', 'companion', 'and', 'source', 'of', 'artistic', 'inspiration', 'although', 'once', 'considered', 'rodents', 'lagomorphs', 'like', 'rabbits', 'have', 'been', 'discovered', 'to', 'have', 'diverged', 'separately', 'and', 'earlier', 'than', 'their', 'rodent', 'cousins', 'and', 'have', 'number', 'of', 'traits', 'rodents', 'lack', 'like', 'two', 'extra', 'incisors'], ['the', 'koala', 'or', 'inaccurately', 'koala', 'bear', 'phascolarctos', 'cinereus', 'is', 'an', 'arboreal', 'herbivorous', 'marsupial', 'native', 'to', 'australia', 'it', 'is', 'the', 'only', 'extant', 'representative', 'of', 'the', 'family', 'phascolarctidae', 'and', 'its', 'closest', 'living', 'relatives', 'are', 'the', 'wombats', 'which', 'are', 'members', 'of', 'the', 'family', 'vombatidae', 'the', 'koala', 'is', 'found', 'in', 'coastal', 'areas', 'of', 'the', 'mainland', 'eastern', 'and', 'southern', 'regions', 'inhabiting', 'queensland', 'new', 'south', 'wales', 'victoria', 'and', 'south', 'australia', 'it', 'is', 'easily', 'recognisable', 'by', 'its', 'stout', 'tailless', 'body', 'and', 'large', 'head', 'with', 'round', 'fluffy', 'ears', 'and', 'large', 'spoon', 'shaped', 'nose', 'the', 'koala', 'has', 'body', 'length', 'of', 'cm', 'in', 'and', 'weighs', 'kg', 'lb', 'fur', 'colour', 'ranges', 'from', 'silver', 'grey', 'to', 'chocolate', 'brown', 'koalas', 'from', 'the', 'northern', 'populations', 'are', 'typically', 'smaller', 'and', 'lighter', 'in', 'colour', 'than', 'their', 'counterparts', 'further', 'south', 'these', 'populations', 'possibly', 'are', 'separate', 'subspecies', 'but', 'this', 'is', 'disputed', 'koalas', 'typically', 'inhabit', 'open', 'eucalypt', 'woodlands', 'and', 'the', 'leaves', 'of', 'these', 'trees', 'make', 'up', 'most', 'of', 'their', 'diet', 'because', 'this', 'eucalypt', 'diet', 'has', 'limited', 'nutritional', 'and', 'caloric', 'content', 'koalas', 'are', 'largely', 'sedentary', 'and', 'sleep', 'up', 'to', 'hours', 'day', 'they', 'are', 'asocial', 'animals', 'and', 'bonding', 'exists', 'only', 'between', 'mothers', 'and', 'dependent', 'offspring', 'adult', 'males', 'communicate', 'with', 'loud', 'bellows', 'that', 'intimidate', 'rivals', 'and', 'attract', 'mates', 'males', 'mark', 'their', 'presence', 'with', 'secretions', 'from', 'scent', 'glands', 'located', 'on', 'their', 'chests', 'being', 'marsupials', 'koalas', 'give', 'birth', 'to', 'underdeveloped', 'young', 'that', 'crawl', 'into', 'their', 'mothers', 'pouches', 'where', 'they', 'stay', 'for', 'the', 'first', 'six', 'to', 'seven', 'months', 'of', 'their', 'lives', 'these', 'young', 'koalas', 'known', 'as', 'joeys', 'are', 'fully', 'weaned', 'around', 'year', 'old', 'koalas', 'have', 'few', 'natural', 'predators', 'and', 'parasites', 'but', 'are', 'threatened', 'by', 'various', 'pathogens', 'such', 'as', 'chlamydiaceae', 'bacteria', 'and', 'the', 'koala', 'retrovirus', 'koalas', 'were', 'hunted', 'by', 'indigenous', 'australians', 'and', 'depicted', 'in', 'myths', 'and', 'cave', 'art', 'for', 'millennia', 'the', 'first', 'recorded', 'encounter', 'between', 'european', 'and', 'koala', 'was', 'in', 'and', 'an', 'image', 'of', 'the', 'animal', 'was', 'published', 'in', 'by', 'naturalist', 'george', 'perry', 'botanist', 'robert', 'brown', 'wrote', 'the', 'first', 'detailed', 'scientific', 'description', 'of', 'the', 'koala', 'in', 'although', 'his', 'work', 'remained', 'unpublished', 'for', 'years', 'popular', 'artist', 'john', 'gould', 'illustrated', 'and', 'described', 'the', 'koala', 'introducing', 'the', 'species', 'to', 'the', 'general', 'british', 'public', 'further', 'details', 'about', 'the', 'animal', 'biology', 'were', 'revealed', 'in', 'the', 'century', 'by', 'several', 'english', 'scientists', 'because', 'of', 'its', 'distinctive', 'appearance', 'the', 'koala', 'is', 'recognised', 'worldwide', 'as', 'symbol', 'of', 'australia', 'koalas', 'are', 'listed', 'as', 'vulnerable', 'species', 'by', 'the', 'international', 'union', 'for', 'conservation', 'of', 'nature', 'the', 'animal', 'was', 'hunted', 'heavily', 'in', 'the', 'early', 'century', 'for', 'its', 'fur', 'and', 'large', 'scale', 'cullings', 'in', 'queensland', 'resulted', 'in', 'public', 'outcry', 'that', 'initiated', 'movement', 'to', 'protect', 'the', 'species', 'sanctuaries', 'were', 'established', 'and', 'translocation', 'efforts', 'moved', 'to', 'new', 'regions', 'koalas', 'whose', 'habitat', 'had', 'become', 'fragmented', 'or', 'reduced', 'among', 'the', 'many', 'threats', 'to', 'their', 'existence', 'are', 'habitat', 'destruction', 'caused', 'by', 'agriculture', 'urbanisation', 'droughts', 'and', 'associated', 'bushfires', 'some', 'related', 'to', 'climate', 'change'], ['the', 'guinea', 'pig', 'or', 'domestic', 'guinea', 'pig', 'cavia', 'porcellus', 'also', 'known', 'as', 'cavy', 'or', 'domestic', 'cavy', 'ˈkeɪvi', 'is', 'species', 'of', 'rodent', 'belonging', 'to', 'the', 'family', 'caviidae', 'and', 'the', 'genus', 'cavia', 'despite', 'their', 'common', 'name', 'guinea', 'pigs', 'are', 'not', 'native', 'to', 'guinea', 'nor', 'are', 'they', 'closely', 'biologically', 'related', 'to', 'pigs', 'and', 'the', 'origin', 'of', 'the', 'name', 'is', 'still', 'unclear', 'they', 'originated', 'in', 'the', 'andes', 'of', 'south', 'america', 'studies', 'based', 'on', 'biochemistry', 'and', 'hybridization', 'suggest', 'they', 'are', 'domesticated', 'descendants', 'of', 'closely', 'related', 'species', 'of', 'cavy', 'such', 'as', 'tschudii', 'and', 'do', 'not', 'exist', 'naturally', 'in', 'the', 'wild', 'they', 'were', 'originally', 'domesticated', 'as', 'livestock', 'for', 'source', 'of', 'meat', 'and', 'continue', 'to', 'be', 'consumed', 'as', 'food', 'in', 'western', 'society', 'the', 'domestic', 'guinea', 'pig', 'has', 'enjoyed', 'widespread', 'popularity', 'as', 'pocket', 'pet', 'since', 'its', 'introduction', 'to', 'europe', 'and', 'north', 'america', 'by', 'european', 'traders', 'in', 'the', 'century', 'their', 'docile', 'nature', 'friendly', 'responsiveness', 'to', 'handling', 'and', 'feeding', 'and', 'the', 'relative', 'ease', 'of', 'caring', 'for', 'them', 'have', 'made', 'guinea', 'pigs', 'continuing', 'popular', 'choice', 'of', 'household', 'pet', 'organizations', 'devoted', 'to', 'the', 'competitive', 'breeding', 'of', 'guinea', 'pigs', 'have', 'been', 'formed', 'worldwide', 'many', 'specialized', 'breeds', 'with', 'varying', 'coat', 'colors', 'and', 'textures', 'are', 'selected', 'by', 'breeders', 'the', 'domestic', 'guinea', 'pig', 'plays', 'an', 'important', 'role', 'in', 'folk', 'culture', 'for', 'many', 'indigenous', 'andean', 'peoples', 'especially', 'as', 'food', 'source', 'it', 'is', 'also', 'used', 'in', 'folk', 'medicine', 'and', 'in', 'community', 'religious', 'ceremonies', 'the', 'animals', 'are', 'used', 'for', 'meat', 'and', 'are', 'culinary', 'staple', 'in', 'the', 'andes', 'mountains', 'where', 'they', 'are', 'known', 'as', 'cuy', 'in', 'the', 'modern', 'breeding', 'program', 'was', 'started', 'in', 'peru', 'that', 'resulted', 'in', 'large', 'breeds', 'known', 'as', 'cuy', 'mejorados', 'improved', 'cuy', 'marketers', 'tried', 'to', 'increase', 'consumption', 'of', 'the', 'animal', 'outside', 'south', 'america', 'biological', 'experimentation', 'on', 'domestic', 'guinea', 'pigs', 'has', 'been', 'carried', 'out', 'since', 'the', 'century', 'the', 'animals', 'were', 'used', 'so', 'frequently', 'as', 'model', 'organisms', 'in', 'the', 'and', 'centuries', 'that', 'the', 'epithet', 'guinea', 'pig', 'came', 'into', 'use', 'to', 'describe', 'human', 'test', 'subject', 'since', 'that', 'time', 'they', 'have', 'been', 'largely', 'replaced', 'by', 'other', 'rodents', 'such', 'as', 'mice', 'and', 'rats', 'however', 'they', 'are', 'still', 'used', 'in', 'research', 'primarily', 'as', 'models', 'to', 'study', 'such', 'human', 'medical', 'conditions', 'as', 'juvenile', 'diabetes', 'tuberculosis', 'scurvy', 'like', 'humans', 'they', 'require', 'dietary', 'intake', 'of', 'vitamin', 'and', 'pregnancy', 'complications'], ['mouse', 'plural', 'mice', 'is', 'small', 'rodent', 'characteristically', 'mice', 'are', 'known', 'to', 'have', 'pointed', 'snout', 'small', 'rounded', 'ears', 'body', 'length', 'scaly', 'tail', 'and', 'high', 'breeding', 'rate', 'the', 'best', 'known', 'mouse', 'species', 'is', 'the', 'common', 'house', 'mouse', 'mus', 'musculus', 'mice', 'are', 'also', 'popular', 'as', 'pets', 'in', 'some', 'places', 'certain', 'kinds', 'of', 'field', 'mice', 'are', 'locally', 'common', 'they', 'are', 'known', 'to', 'invade', 'homes', 'for', 'food', 'and', 'shelter', 'mice', 'are', 'classified', 'under', 'the', 'order', 'rodentia', 'typical', 'mice', 'are', 'classified', 'in', 'the', 'genus', 'mus', 'mice', 'are', 'typically', 'distinguished', 'from', 'rats', 'by', 'their', 'size', 'generally', 'when', 'someone', 'discovers', 'smaller', 'muroid', 'rodent', 'its', 'common', 'name', 'includes', 'the', 'term', 'mouse', 'if', 'it', 'is', 'larger', 'the', 'name', 'includes', 'the', 'term', 'rat', 'the', 'common', 'terms', 'rat', 'and', 'mouse', 'are', 'not', 'taxonomically', 'specific', 'scientifically', 'the', 'term', 'mouse', 'is', 'not', 'confined', 'to', 'members', 'of', 'mus', 'for', 'example', 'but', 'also', 'applies', 'to', 'species', 'from', 'other', 'genera', 'such', 'as', 'the', 'deer', 'mouse', 'peromyscus', 'domestic', 'mice', 'sold', 'as', 'pets', 'often', 'differ', 'substantially', 'in', 'size', 'from', 'the', 'common', 'house', 'mouse', 'this', 'is', 'attributable', 'to', 'breeding', 'and', 'different', 'conditions', 'in', 'the', 'wild', 'the', 'best', 'known', 'strain', 'of', 'mouse', 'is', 'the', 'white', 'lab', 'mouse', 'it', 'has', 'more', 'uniform', 'traits', 'that', 'are', 'appropriate', 'to', 'its', 'use', 'in', 'research', 'cats', 'wild', 'dogs', 'foxes', 'birds', 'of', 'prey', 'snakes', 'and', 'even', 'certain', 'kinds', 'of', 'arthropods', 'have', 'been', 'known', 'to', 'prey', 'heavily', 'upon', 'mice', 'despite', 'this', 'mice', 'populations', 'remain', 'plentiful', 'due', 'to', 'its', 'remarkable', 'adaptability', 'to', 'almost', 'any', 'environment', 'the', 'mouse', 'is', 'one', 'of', 'the', 'most', 'successful', 'mammalian', 'genera', 'living', 'on', 'earth', 'today', 'in', 'certain', 'contexts', 'mice', 'can', 'be', 'considered', 'vermin', 'vermin', 'are', 'major', 'source', 'of', 'crop', 'damage', 'as', 'they', 'are', 'known', 'to', 'cause', 'structural', 'damage', 'and', 'spread', 'disease', 'mice', 'spread', 'disease', 'through', 'their', 'feces', 'and', 'are', 'often', 'carriers', 'of', 'parasites', 'in', 'north', 'america', 'breathing', 'dust', 'that', 'has', 'come', 'in', 'contact', 'with', 'mouse', 'excrement', 'has', 'been', 'linked', 'to', 'hantavirus', 'which', 'may', 'lead', 'to', 'hantavirus', 'pulmonary', 'syndrome', 'hps', 'primarily', 'nocturnal', 'animals', 'mice', 'compensate', 'for', 'their', 'poor', 'eyesight', 'with', 'keen', 'sense', 'of', 'hearing', 'they', 'depend', 'on', 'their', 'sense', 'of', 'smell', 'to', 'locate', 'food', 'and', 'avoid', 'predators', 'in', 'the', 'wild', 'mice', 'are', 'known', 'to', 'build', 'intricate', 'burrows', 'these', 'burrows', 'have', 'long', 'entrances', 'and', 'are', 'equipped', 'with', 'escape', 'tunnels', 'in', 'at', 'least', 'one', 'species', 'the', 'architectural', 'design', 'of', 'burrow', 'is', 'genetic', 'trait'], ['penguins', 'order', 'sphenisciformes', 'sfɪˈnɪsɪfɔːrmiːz', 'family', 'spheniscidae', 'sfɪˈnɪsɪdiː', 'are', 'group', 'of', 'aquatic', 'flightless', 'birds', 'they', 'live', 'almost', 'exclusively', 'in', 'the', 'southern', 'hemisphere', 'with', 'only', 'one', 'species', 'the', 'galápagos', 'penguin', 'found', 'north', 'of', 'the', 'equator', 'highly', 'adapted', 'for', 'life', 'in', 'the', 'water', 'penguins', 'have', 'countershaded', 'dark', 'and', 'white', 'plumage', 'and', 'flippers', 'for', 'swimming', 'most', 'penguins', 'feed', 'on', 'krill', 'fish', 'squid', 'and', 'other', 'forms', 'of', 'sea', 'life', 'which', 'they', 'catch', 'while', 'swimming', 'underwater', 'they', 'spend', 'roughly', 'half', 'of', 'their', 'lives', 'on', 'land', 'and', 'the', 'other', 'half', 'in', 'the', 'sea', 'although', 'almost', 'all', 'penguin', 'species', 'are', 'native', 'to', 'the', 'southern', 'hemisphere', 'they', 'are', 'not', 'found', 'only', 'in', 'cold', 'climates', 'such', 'as', 'antarctica', 'in', 'fact', 'only', 'few', 'species', 'of', 'penguin', 'live', 'so', 'far', 'south', 'several', 'species', 'are', 'found', 'in', 'the', 'temperate', 'zone', 'but', 'one', 'species', 'the', 'galápagos', 'penguin', 'lives', 'near', 'the', 'equator', 'the', 'largest', 'living', 'species', 'is', 'the', 'emperor', 'penguin', 'aptenodytes', 'forsteri', 'on', 'average', 'adults', 'are', 'about', 'ft', 'in', 'tall', 'and', 'weigh', 'kg', 'lb', 'the', 'smallest', 'penguin', 'species', 'is', 'the', 'little', 'blue', 'penguin', 'eudyptula', 'minor', 'also', 'known', 'as', 'the', 'fairy', 'penguin', 'which', 'stands', 'around', 'cm', 'in', 'tall', 'and', 'weighs', 'kg', 'lb', 'among', 'extant', 'penguins', 'larger', 'penguins', 'inhabit', 'colder', 'regions', 'while', 'smaller', 'penguins', 'are', 'generally', 'found', 'in', 'temperate', 'or', 'even', 'tropical', 'climates', 'some', 'prehistoric', 'species', 'attained', 'enormous', 'sizes', 'becoming', 'as', 'tall', 'or', 'as', 'heavy', 'as', 'an', 'adult', 'human', 'these', 'were', 'not', 'restricted', 'to', 'antarctic', 'regions', 'on', 'the', 'contrary', 'subantarctic', 'regions', 'harboured', 'high', 'diversity', 'and', 'at', 'least', 'one', 'giant', 'penguin', 'occurred', 'in', 'region', 'around', 'km', 'south', 'of', 'the', 'equator', 'mya', 'in', 'climate', 'decidedly', 'warmer', 'than', 'today', 'which'], ['the', 'cat', 'felis', 'catus', 'is', 'domestic', 'species', 'of', 'small', 'carnivorous', 'mammal', 'it', 'is', 'the', 'only', 'domesticated', 'species', 'in', 'the', 'family', 'felidae', 'and', 'is', 'often', 'referred', 'to', 'as', 'the', 'domestic', 'cat', 'to', 'distinguish', 'it', 'from', 'the', 'wild', 'members', 'of', 'the', 'family', 'cat', 'can', 'either', 'be', 'house', 'cat', 'farm', 'cat', 'or', 'feral', 'cat', 'the', 'latter', 'ranges', 'freely', 'and', 'avoids', 'human', 'contact', 'domestic', 'cats', 'are', 'valued', 'by', 'humans', 'for', 'companionship', 'and', 'their', 'ability', 'to', 'hunt', 'rodents', 'about', 'cat', 'breeds', 'are', 'recognized', 'by', 'various', 'cat', 'registries', 'the', 'cat', 'is', 'similar', 'in', 'anatomy', 'to', 'the', 'other', 'felid', 'species', 'it', 'has', 'strong', 'flexible', 'body', 'quick', 'reflexes', 'sharp', 'teeth', 'and', 'retractable', 'claws', 'adapted', 'to', 'killing', 'small', 'prey', 'its', 'night', 'vision', 'and', 'sense', 'of', 'smell', 'are', 'well', 'developed', 'cat', 'communication', 'includes', 'vocalizations', 'like', 'meowing', 'purring', 'trilling', 'hissing', 'growling', 'and', 'grunting', 'as', 'well', 'as', 'cat', 'specific', 'body', 'language', 'predator', 'that', 'is', 'most', 'active', 'at', 'dawn', 'and', 'dusk', 'the', 'cat', 'is', 'solitary', 'hunter', 'but', 'social', 'species', 'it', 'can', 'hear', 'sounds', 'too', 'faint', 'or', 'too', 'high', 'in', 'frequency', 'for', 'human', 'ears', 'such', 'as', 'those', 'made', 'by', 'mice', 'and', 'other', 'small', 'mammals', 'it', 'secretes', 'and', 'perceives', 'pheromones', 'female', 'domestic', 'cats', 'can', 'have', 'kittens', 'from', 'spring', 'to', 'late', 'autumn', 'with', 'litter', 'sizes', 'often', 'ranging', 'from', 'two', 'to', 'five', 'kittens', 'domestic', 'cats', 'are', 'bred', 'and', 'shown', 'at', 'events', 'as', 'registered', 'pedigreed', 'cats', 'hobby', 'known', 'as', 'cat', 'fancy', 'failure', 'to', 'control', 'breeding', 'of', 'pet', 'cats', 'by', 'spaying', 'and', 'neutering', 'as', 'well', 'as', 'abandonment', 'of', 'pets', 'resulted', 'in', 'large', 'numbers', 'of', 'feral', 'cats', 'worldwide', 'contributing', 'to', 'the', 'extinction', 'of', 'entire', 'bird', 'mammal', 'and', 'reptile', 'species', 'and', 'evoking', 'population', 'control', 'cats', 'were', 'first', 'domesticated', 'in', 'the', 'near', 'east', 'around', 'bc', 'it', 'was', 'long', 'thought', 'that', 'cat', 'domestication', 'was', 'initiated', 'in', 'ancient', 'egypt', 'as', 'since', 'around', 'bc', 'veneration', 'was', 'given', 'to', 'cats', 'in', 'ancient', 'egypt', 'as', 'of', 'update', 'the', 'domestic', 'cat', 'was', 'the', 'second', 'most', 'popular', 'pet', 'in', 'the', 'united', 'states', 'with', 'million', 'cats', 'owned', 'in', 'the', 'united', 'kingdom', 'around', 'million', 'cats', 'lived', 'in', 'more', 'than', 'million', 'households', 'as', 'of', 'update'], ['the', 'dog', 'canis', 'familiaris', 'when', 'considered', 'distinct', 'species', 'or', 'canis', 'lupus', 'familiaris', 'when', 'considered', 'subspecies', 'of', 'the', 'wolf', 'is', 'domesticated', 'carnivore', 'of', 'the', 'family', 'canidae', 'it', 'is', 'part', 'of', 'the', 'wolf', 'like', 'canids', 'and', 'is', 'the', 'most', 'widely', 'abundant', 'terrestrial', 'carnivore', 'the', 'dog', 'and', 'the', 'extant', 'gray', 'wolf', 'are', 'sister', 'taxa', 'as', 'modern', 'wolves', 'are', 'not', 'closely', 'related', 'to', 'the', 'wolves', 'that', 'were', 'first', 'domesticated', 'which', 'implies', 'that', 'the', 'direct', 'ancestor', 'of', 'the', 'dog', 'is', 'extinct', 'the', 'dog', 'was', 'the', 'first', 'species', 'to', 'be', 'domesticated', 'and', 'has', 'been', 'selectively', 'bred', 'over', 'millennia', 'for', 'various', 'behaviors', 'sensory', 'capabilities', 'and', 'physical', 'attributes', 'their', 'long', 'association', 'with', 'humans', 'has', 'led', 'dogs', 'to', 'be', 'uniquely', 'attuned', 'to', 'human', 'behavior', 'and', 'they', 'can', 'thrive', 'on', 'starch', 'rich', 'diet', 'that', 'would', 'be', 'inadequate', 'for', 'other', 'canids', 'dogs', 'vary', 'widely', 'in', 'shape', 'size', 'and', 'colors', 'they', 'perform', 'many', 'roles', 'for', 'humans', 'such', 'as', 'hunting', 'herding', 'pulling', 'loads', 'protection', 'assisting', 'police', 'and', 'military', 'companionship', 'and', 'more', 'recently', 'aiding', 'disabled', 'people', 'and', 'therapeutic', 'roles', 'this', 'influence', 'on', 'human', 'society', 'has', 'given', 'them', 'the', 'sobriquet', 'of', 'man', 'best', 'friend'], ['the', 'lion', 'panthera', 'leo', 'is', 'species', 'in', 'the', 'family', 'felidae', 'and', 'member', 'of', 'the', 'genus', 'panthera', 'it', 'has', 'muscular', 'deep', 'chested', 'body', 'short', 'rounded', 'head', 'round', 'ears', 'and', 'hairy', 'tuft', 'at', 'the', 'end', 'of', 'its', 'tail', 'it', 'is', 'sexually', 'dimorphic', 'adult', 'male', 'lions', 'have', 'prominent', 'mane', 'with', 'typical', 'head', 'to', 'body', 'length', 'of', 'cm', 'in', 'they', 'are', 'larger', 'than', 'females', 'at', 'cm', 'in', 'it', 'is', 'social', 'species', 'forming', 'groups', 'called', 'prides', 'lion', 'pride', 'consists', 'of', 'few', 'adult', 'males', 'related', 'females', 'and', 'cubs', 'groups', 'of', 'female', 'lions', 'usually', 'hunt', 'together', 'preying', 'mostly', 'on', 'large', 'ungulates', 'the', 'lion', 'is', 'an', 'apex', 'and', 'keystone', 'predator', 'although', 'some', 'lions', 'scavenge', 'when', 'opportunities', 'occur', 'and', 'have', 'been', 'known', 'to', 'hunt', 'humans', 'the', 'species', 'typically', 'does', 'not', 'typically', 'the', 'lion', 'inhabits', 'grasslands', 'and', 'savannas', 'but', 'is', 'absent', 'in', 'dense', 'forests', 'it', 'is', 'usually', 'more', 'diurnal', 'than', 'other', 'big', 'cats', 'but', 'when', 'persecuted', 'it', 'adapts', 'to', 'being', 'active', 'at', 'night', 'and', 'at', 'twilight', 'in', 'the', 'pleistocene', 'the', 'lion', 'ranged', 'throughout', 'eurasia', 'africa', 'and', 'north', 'america', 'but', 'today', 'it', 'has', 'been', 'reduced', 'to', 'fragmented', 'populations', 'in', 'sub', 'saharan', 'africa', 'and', 'one', 'critically', 'endangered', 'population', 'in', 'western', 'india', 'it', 'has', 'been', 'listed', 'as', 'vulnerable', 'on', 'the', 'iucn', 'red', 'list', 'since', 'because', 'populations', 'in', 'african', 'countries', 'have', 'declined', 'by', 'about', 'since', 'the', 'early', 'lion', 'populations', 'are', 'untenable', 'outside', 'designated', 'protected', 'areas', 'although', 'the', 'cause', 'of', 'the', 'decline', 'is', 'not', 'fully', 'understood', 'habitat', 'loss', 'and', 'conflicts', 'with', 'humans', 'are', 'the', 'greatest', 'causes', 'for', 'concern', 'one', 'of', 'the', 'most', 'widely', 'recognised', 'animal', 'symbols', 'in', 'human', 'culture', 'the', 'lion', 'has', 'been', 'extensively', 'depicted', 'in', 'sculptures', 'and', 'paintings', 'on', 'national', 'flags', 'and', 'in', 'contemporary', 'films', 'and', 'literature', 'lions', 'have', 'been', 'kept', 'in', 'menageries', 'since', 'the', 'time', 'of', 'the', 'roman', 'empire', 'and', 'have', 'been', 'key', 'species', 'sought', 'for', 'exhibition', 'in', 'zoological', 'gardens', 'across', 'the', 'world', 'since', 'the', 'late', 'century', 'cultural', 'depictions', 'of', 'lions', 'were', 'prominent', 'in', 'the', 'upper', 'paleolithic', 'period', 'carvings', 'and', 'paintings', 'from', 'the', 'lascaux', 'and', 'chauvet', 'caves', 'in', 'france', 'have', 'been', 'dated', 'to', 'years', 'ago', 'and', 'depictions', 'have', 'occurred', 'in', 'virtually', 'all', 'ancient', 'and', 'medieval', 'cultures', 'that', 'coincided', 'with', 'the', 'lion', 'former', 'and', 'current', 'ranges'], ['foxes', 'are', 'small', 'to', 'medium', 'sized', 'omnivorous', 'mammals', 'belonging', 'to', 'several', 'genera', 'of', 'the', 'family', 'canidae', 'foxes', 'have', 'flattened', 'skull', 'upright', 'triangular', 'ears', 'pointed', 'slightly', 'upturned', 'snout', 'and', 'long', 'bushy', 'tail', 'or', 'brush', 'twelve', 'species', 'belong', 'to', 'the', 'monophyletic', 'true', 'foxes', 'group', 'of', 'genus', 'vulpes', 'approximately', 'another', 'current', 'or', 'extinct', 'species', 'are', 'always', 'or', 'sometimes', 'called', 'foxes', 'these', 'foxes', 'are', 'either', 'part', 'of', 'the', 'paraphyletic', 'group', 'of', 'the', 'south', 'american', 'foxes', 'or', 'of', 'the', 'outlying', 'group', 'which', 'consists', 'of', 'the', 'bat', 'eared', 'fox', 'gray', 'fox', 'and', 'island', 'fox', 'foxes', 'live', 'on', 'every', 'continent', 'except', 'antarctica', 'by', 'far', 'the', 'most', 'common', 'and', 'widespread', 'species', 'of', 'fox', 'is', 'the', 'red', 'fox', 'vulpes', 'vulpes', 'with', 'about', 'recognized', 'subspecies', 'the', 'global', 'distribution', 'of', 'foxes', 'together', 'with', 'their', 'widespread', 'reputation', 'for', 'cunning', 'has', 'contributed', 'to', 'their', 'prominence', 'in', 'popular', 'culture', 'and', 'folklore', 'in', 'many', 'societies', 'around', 'the', 'world', 'the', 'hunting', 'of', 'foxes', 'with', 'packs', 'of', 'hounds', 'long', 'an', 'established', 'pursuit', 'in', 'europe', 'especially', 'in', 'the', 'british', 'isles', 'was', 'exported', 'by', 'european', 'settlers', 'to', 'various', 'parts', 'of', 'the', 'new', 'world'], ['the', 'horse', 'equus', 'ferus', 'caballus', 'is', 'one', 'of', 'two', 'extant', 'subspecies', 'of', 'equus', 'ferus', 'it', 'is', 'an', 'odd', 'toed', 'ungulate', 'mammal', 'belonging', 'to', 'the', 'taxonomic', 'family', 'equidae', 'the', 'horse', 'has', 'evolved', 'over', 'the', 'past', 'to', 'million', 'years', 'from', 'small', 'multi', 'toed', 'creature', 'eohippus', 'into', 'the', 'large', 'single', 'toed', 'animal', 'of', 'today', 'humans', 'began', 'domesticating', 'horses', 'around', 'bc', 'and', 'their', 'domestication', 'is', 'believed', 'to', 'have', 'been', 'widespread', 'by', 'bc', 'horses', 'in', 'the', 'subspecies', 'caballus', 'are', 'domesticated', 'although', 'some', 'domesticated', 'populations', 'live', 'in', 'the', 'wild', 'as', 'feral', 'horses', 'these', 'feral', 'populations', 'are', 'not', 'true', 'wild', 'horses', 'as', 'this', 'term', 'is', 'used', 'to', 'describe', 'horses', 'that', 'have', 'never', 'been', 'domesticated', 'such', 'as', 'the', 'endangered', 'przewalski', 'horse', 'separate', 'subspecies', 'and', 'the', 'only', 'remaining', 'true', 'wild', 'horse', 'there', 'is', 'an', 'extensive', 'specialized', 'vocabulary', 'used', 'to', 'describe', 'equine', 'related', 'concepts', 'covering', 'everything', 'from', 'anatomy', 'to', 'life', 'stages', 'size', 'colors', 'markings', 'breeds', 'locomotion', 'and', 'behavior', 'horses', 'are', 'adapted', 'to', 'run', 'allowing', 'them', 'to', 'quickly', 'escape', 'predators', 'possessing', 'an', 'excellent', 'sense', 'of', 'balance', 'and', 'strong', 'fight', 'or', 'flight', 'response', 'related', 'to', 'this', 'need', 'to', 'flee', 'from', 'predators', 'in', 'the', 'wild', 'is', 'an', 'unusual', 'trait', 'horses', 'are', 'able', 'to', 'sleep', 'both', 'standing', 'up', 'and', 'lying', 'down', 'with', 'younger', 'horses', 'tending', 'to', 'sleep', 'significantly', 'more', 'than', 'adults', 'female', 'horses', 'called', 'mares', 'carry', 'their', 'young', 'for', 'approximately', 'months', 'and', 'young', 'horse', 'called', 'foal', 'can', 'stand', 'and', 'run', 'shortly', 'following', 'birth', 'most', 'domesticated', 'horses', 'begin', 'training', 'under', 'saddle', 'or', 'in', 'harness', 'between', 'the', 'ages', 'of', 'two', 'and', 'four', 'they', 'reach', 'full', 'adult', 'development', 'by', 'age', 'five', 'and', 'have', 'an', 'average', 'lifespan', 'of', 'between', 'and', 'years', 'horse', 'breeds', 'are', 'loosely', 'divided', 'into', 'three', 'categories', 'based', 'on', 'general', 'temperament', 'spirited', 'hot', 'bloods', 'with', 'speed', 'and', 'endurance', 'cold', 'bloods', 'such', 'as', 'draft', 'horses', 'and', 'some', 'ponies', 'suitable', 'for', 'slow', 'heavy', 'work', 'and', 'warmbloods', 'developed', 'from', 'crosses', 'between', 'hot', 'bloods', 'and', 'cold', 'bloods', 'often', 'focusing', 'on', 'creating', 'breeds', 'for', 'specific', 'riding', 'purposes', 'particularly', 'in', 'europe', 'there', 'are', 'more', 'than', 'breeds', 'of', 'horse', 'in', 'the', 'world', 'today', 'developed', 'for', 'many', 'different', 'uses', 'horses', 'and', 'humans', 'interact', 'in', 'wide', 'variety', 'of', 'sport', 'competitions', 'and', 'non', 'competitive', 'recreational', 'pursuits', 'as', 'well', 'as', 'in', 'working', 'activities', 'such', 'as', 'police', 'work', 'agriculture', 'entertainment', 'and', 'therapy', 'horses', 'were', 'historically', 'used', 'in', 'warfare', 'from', 'which', 'wide', 'variety', 'of', 'riding', 'and', 'driving', 'techniques', 'developed', 'using', 'many', 'different', 'styles', 'of', 'equipment', 'and', 'methods', 'of', 'control', 'many', 'products', 'are', 'derived', 'from', 'horses', 'including', 'meat', 'milk', 'hide', 'hair', 'bone', 'and', 'pharmaceuticals', 'extracted', 'from', 'the', 'urine', 'of', 'pregnant', 'mares', 'humans', 'provide', 'domesticated', 'horses', 'with', 'food', 'water', 'and', 'shelter', 'as', 'well', 'as', 'attention', 'from', 'specialists', 'such', 'as', 'veterinarians', 'and', 'farriers'], ['zebras', 'subgenus', 'hippotigris', 'are', 'african', 'equines', 'with', 'distinctive', 'black', 'and', 'white', 'striped', 'coats', 'there', 'are', 'three', 'extant', 'species', 'the', 'grévy', 'zebra', 'equus', 'grevyi', 'plains', 'zebra', 'quagga', 'and', 'the', 'mountain', 'zebra', 'zebra', 'zebras', 'share', 'the', 'genus', 'equus', 'with', 'horses', 'and', 'asses', 'the', 'three', 'groups', 'being', 'the', 'only', 'living', 'members', 'of', 'the', 'family', 'equidae', 'zebra', 'stripes', 'come', 'in', 'different', 'patterns', 'unique', 'to', 'each', 'individual', 'several', 'theories', 'have', 'been', 'proposed', 'for', 'the', 'function', 'of', 'these', 'stripes', 'with', 'most', 'evidence', 'supporting', 'them', 'as', 'form', 'of', 'protection', 'from', 'biting', 'flies', 'zebras', 'inhabit', 'eastern', 'and', 'southern', 'africa', 'and', 'can', 'be', 'found', 'in', 'variety', 'of', 'habitats', 'such', 'as', 'savannahs', 'grasslands', 'woodlands', 'shrublands', 'and', 'mountainous', 'areas', 'zebras', 'are', 'primarily', 'grazers', 'and', 'can', 'subsist', 'on', 'lower', 'quality', 'vegetation', 'they', 'are', 'preyed', 'on', 'mainly', 'by', 'lions', 'and', 'typically', 'flee', 'when', 'threatened', 'but', 'also', 'bite', 'and', 'kick', 'zebra', 'species', 'differ', 'in', 'social', 'behaviour', 'with', 'plains', 'and', 'mountain', 'zebra', 'living', 'in', 'stable', 'harems', 'consisting', 'of', 'an', 'adult', 'male', 'or', 'stallion', 'several', 'adult', 'females', 'or', 'mares', 'and', 'their', 'young', 'or', 'foals', 'while', 'grévy', 'zebra', 'live', 'alone', 'or', 'in', 'loosely', 'associated', 'herds', 'in', 'harem', 'holding', 'species', 'adult', 'females', 'mate', 'only', 'with', 'their', 'harem', 'stallion', 'while', 'male', 'grévy', 'zebras', 'establish', 'territories', 'which', 'attract', 'females', 'and', 'the', 'species', 'is', 'promiscuous', 'zebras', 'communicate', 'with', 'various', 'vocalisations', 'body', 'postures', 'and', 'facial', 'expressions', 'social', 'grooming', 'strengthens', 'social', 'bonds', 'in', 'plains', 'and', 'mountain', 'zebras', 'zebra', 'dazzling', 'stripes', 'make', 'them', 'among', 'the', 'most', 'recognisable', 'mammals', 'they', 'have', 'been', 'featured', 'in', 'art', 'and', 'stories', 'in', 'africa', 'and', 'beyond', 'historically', 'they', 'have', 'been', 'highly', 'sought', 'after', 'by', 'exotic', 'animal', 'collectors', 'but', 'unlike', 'horses', 'and', 'donkeys', 'zebras', 'have', 'never', 'been', 'truly', 'domesticated', 'the', 'international', 'union', 'for', 'conservation', 'of', 'nature', 'iucn', 'lists', 'the', 'grévy', 'zebra', 'as', 'endangered', 'the', 'mountain', 'zebra', 'as', 'vulnerable', 'and', 'the', 'plains', 'zebra', 'as', 'near', 'threatened', 'the', 'quagga', 'type', 'of', 'plains', 'zebra', 'was', 'driven', 'to', 'extinction', 'in', 'the', 'century', 'nevertheless', 'zebras', 'can', 'be', 'found', 'in', 'numerous', 'protected', 'areas'], ['the', 'donkey', 'or', 'ass', 'equus', 'africanus', 'asinus', 'is', 'domesticated', 'member', 'of', 'the', 'horse', 'family', 'equidae', 'the', 'wild', 'ancestor', 'of', 'the', 'donkey', 'is', 'the', 'african', 'wild', 'ass', 'africanus', 'the', 'donkey', 'has', 'been', 'used', 'as', 'working', 'animal', 'for', 'at', 'least', 'years', 'there', 'are', 'more', 'than', 'million', 'donkeys', 'in', 'the', 'world', 'mostly', 'in', 'underdeveloped', 'countries', 'where', 'they', 'are', 'used', 'principally', 'as', 'draught', 'or', 'pack', 'animals', 'working', 'donkeys', 'are', 'often', 'associated', 'with', 'those', 'living', 'at', 'or', 'below', 'subsistence', 'levels', 'small', 'numbers', 'of', 'donkeys', 'are', 'kept', 'for', 'breeding', 'or', 'as', 'pets', 'in', 'developed', 'countries', 'male', 'donkey', 'or', 'ass', 'is', 'called', 'jack', 'female', 'jenny', 'or', 'jennet', 'young', 'donkey', 'is', 'foal', 'jack', 'donkeys', 'are', 'often', 'used', 'to', 'mate', 'with', 'female', 'horses', 'to', 'produce', 'mules', 'the', 'biological', 'reciprocal', 'of', 'mule', 'from', 'stallion', 'and', 'jenny', 'as', 'its', 'parents', 'instead', 'is', 'called', 'hinny', 'asses', 'were', 'first', 'domesticated', 'around', 'bc', 'probably', 'in', 'egypt', 'or', 'mesopotamia', 'and', 'have', 'spread', 'around', 'the', 'world', 'they', 'continue', 'to', 'fill', 'important', 'roles', 'in', 'many', 'places', 'today', 'while', 'domesticated', 'species', 'are', 'increasing', 'in', 'numbers', 'the', 'african', 'wild', 'ass', 'is', 'critically', 'endangered', 'species', 'as', 'beasts', 'of', 'burden', 'and', 'companions', 'asses', 'and', 'donkeys', 'have', 'worked', 'together', 'with', 'humans', 'for', 'millennia'], ['the', 'giraffe', 'giraffa', 'is', 'an', 'african', 'artiodactyl', 'mammal', 'the', 'tallest', 'living', 'terrestrial', 'animal', 'and', 'the', 'largest', 'ruminant', 'it', 'is', 'traditionally', 'considered', 'to', 'be', 'one', 'species', 'giraffa', 'camelopardalis', 'with', 'nine', 'subspecies', 'however', 'the', 'existence', 'of', 'up', 'to', 'eight', 'extant', 'giraffe', 'species', 'has', 'been', 'described', 'based', 'upon', 'research', 'into', 'the', 'mitochondrial', 'and', 'nuclear', 'dna', 'as', 'well', 'as', 'morphological', 'measurements', 'of', 'giraffa', 'seven', 'other', 'species', 'are', 'extinct', 'prehistoric', 'species', 'known', 'from', 'fossils', 'the', 'giraffe', 'chief', 'distinguishing', 'characteristics', 'are', 'its', 'extremely', 'long', 'neck', 'and', 'legs', 'its', 'horn', 'like', 'ossicones', 'and', 'its', 'distinctive', 'coat', 'patterns', 'it', 'is', 'classified', 'under', 'the', 'family', 'giraffidae', 'along', 'with', 'its', 'closest', 'extant', 'relative', 'the', 'okapi', 'its', 'scattered', 'range', 'extends', 'from', 'chad', 'in', 'the', 'north', 'to', 'south', 'africa', 'in', 'the', 'south', 'and', 'from', 'niger', 'in', 'the', 'west', 'to', 'somalia', 'in', 'the', 'east', 'giraffes', 'usually', 'inhabit', 'savannahs', 'and', 'woodlands', 'their', 'food', 'source', 'is', 'leaves', 'fruits', 'and', 'flowers', 'of', 'woody', 'plants', 'primarily', 'acacia', 'species', 'which', 'they', 'browse', 'at', 'heights', 'most', 'other', 'herbivores', 'can', 'not', 'reach', 'giraffes', 'may', 'be', 'preyed', 'on', 'by', 'lions', 'leopards', 'spotted', 'hyenas', 'and', 'african', 'wild', 'dogs', 'giraffes', 'live', 'in', 'herds', 'of', 'related', 'females', 'and', 'their', 'offspring', 'or', 'bachelor', 'herds', 'of', 'unrelated', 'adult', 'males', 'but', 'are', 'gregarious', 'and', 'may', 'gather', 'in', 'large', 'aggregations', 'males', 'establish', 'social', 'hierarchies', 'through', 'necking', 'which', 'are', 'combat', 'bouts', 'where', 'the', 'neck', 'is', 'used', 'as', 'weapon', 'dominant', 'males', 'gain', 'mating', 'access', 'to', 'females', 'which', 'bear', 'the', 'sole', 'responsibility', 'for', 'raising', 'the', 'young', 'the', 'giraffe', 'has', 'intrigued', 'various', 'cultures', 'both', 'ancient', 'and', 'modern', 'for', 'its', 'peculiar', 'appearance', 'and', 'has', 'often', 'been', 'featured', 'in', 'paintings', 'books', 'and', 'cartoons', 'it', 'is', 'classified', 'by', 'the', 'international', 'union', 'for', 'conservation', 'of', 'nature', 'as', 'vulnerable', 'to', 'extinction', 'and', 'has', 'been', 'extirpated', 'from', 'many', 'parts', 'of', 'its', 'former', 'range', 'giraffes', 'are', 'still', 'found', 'in', 'numerous', 'national', 'parks', 'and', 'game', 'reserves', 'but', 'estimates', 'as', 'of', 'indicate', 'that', 'there', 'are', 'approximately', 'members', 'of', 'giraffa', 'in', 'the', 'wild', 'more', 'than', 'were', 'kept', 'in', 'zoos', 'in'], ['the', 'giant', 'panda', 'ailuropoda', 'melanoleuca', 'chinese', '大熊猫', 'pinyin', 'dàxióngmāo', 'also', 'known', 'as', 'the', 'panda', 'bear', 'or', 'simply', 'the', 'panda', 'is', 'bear', 'native', 'to', 'south', 'central', 'china', 'it', 'is', 'characterised', 'by', 'large', 'black', 'patches', 'around', 'its', 'eyes', 'over', 'the', 'ears', 'and', 'across', 'its', 'round', 'body', 'the', 'name', 'giant', 'panda', 'is', 'sometimes', 'used', 'to', 'distinguish', 'it', 'from', 'the', 'red', 'panda', 'neighboring', 'musteloid', 'though', 'it', 'belongs', 'to', 'the', 'order', 'carnivora', 'the', 'giant', 'panda', 'is', 'folivore', 'with', 'bamboo', 'shoots', 'and', 'leaves', 'making', 'up', 'more', 'than', 'of', 'its', 'diet', 'giant', 'pandas', 'in', 'the', 'wild', 'will', 'occasionally', 'eat', 'other', 'grasses', 'wild', 'tubers', 'or', 'even', 'meat', 'in', 'the', 'form', 'of', 'birds', 'rodents', 'or', 'carrion', 'in', 'captivity', 'they', 'may', 'receive', 'honey', 'eggs', 'fish', 'yams', 'shrub', 'leaves', 'oranges', 'or', 'bananas', 'along', 'with', 'specially', 'prepared', 'food', 'the', 'giant', 'panda', 'lives', 'in', 'few', 'mountain', 'ranges', 'in', 'central', 'china', 'mainly', 'in', 'sichuan', 'but', 'also', 'in', 'neighbouring', 'shaanxi', 'and', 'gansu', 'as', 'result', 'of', 'farming', 'deforestation', 'and', 'other', 'development', 'the', 'giant', 'panda', 'has', 'been', 'driven', 'out', 'of', 'the', 'lowland', 'areas', 'where', 'it', 'once', 'lived', 'and', 'it', 'is', 'conservation', 'reliant', 'vulnerable', 'species', 'report', 'showed', 'pandas', 'living', 'in', 'captivity', 'inside', 'china', 'and', 'another', 'outside', 'the', 'country', 'as', 'of', 'december', 'giant', 'pandas', 'lived', 'in', 'captivity', 'outside', 'china', 'living', 'in', 'zoos', 'in', 'different', 'countries', 'wild', 'population', 'estimates', 'vary', 'one', 'estimate', 'shows', 'that', 'there', 'are', 'about', 'individuals', 'living', 'in', 'the', 'wild', 'while', 'study', 'via', 'dna', 'analysis', 'estimated', 'that', 'this', 'figure', 'could', 'be', 'as', 'high', 'as', 'to', 'some', 'reports', 'also', 'show', 'that', 'the', 'number', 'of', 'giant', 'pandas', 'in', 'the', 'wild', 'is', 'on', 'the', 'rise', 'in', 'march', 'conservation', 'news', 'site', 'mongabay', 'stated', 'that', 'the', 'wild', 'giant', 'panda', 'population', 'had', 'increased', 'by', 'or', 'to', 'in', 'the', 'iucn', 'reclassified', 'the', 'species', 'from', 'endangered', 'to', 'vulnerable', 'affirming', 'decade', 'long', 'efforts', 'to', 'save', 'the', 'panda', 'while', 'the', 'dragon', 'has', 'often', 'served', 'as', 'china', 'national', 'symbol', 'internationally', 'the', 'giant', 'panda', 'has', 'often', 'filled', 'this', 'role', 'as', 'such', 'it', 'is', 'becoming', 'widely', 'used', 'within', 'china', 'in', 'international', 'contexts', 'for', 'example', 'appearing', 'since', 'on', 'gold', 'panda', 'bullion', 'coins', 'and', 'as', 'one', 'of', 'the', 'five', 'fuwa', 'mascots', 'of', 'the', 'beijing', 'olympics'], ['football', 'is', 'family', 'of', 'team', 'sports', 'that', 'involve', 'to', 'varying', 'degrees', 'kicking', 'ball', 'to', 'score', 'goal', 'unqualified', 'the', 'word', 'football', 'normally', 'means', 'the', 'form', 'of', 'football', 'that', 'is', 'the', 'most', 'popular', 'where', 'the', 'word', 'is', 'used', 'sports', 'commonly', 'called', 'football', 'include', 'association', 'football', 'known', 'as', 'soccer', 'in', 'some', 'countries', 'gridiron', 'football', 'specifically', 'american', 'football', 'or', 'canadian', 'football', 'australian', 'rules', 'football', 'rugby', 'football', 'either', 'rugby', 'union', 'or', 'rugby', 'league', 'and', 'gaelic', 'football', 'these', 'various', 'forms', 'of', 'football', 'share', 'to', 'varying', 'extent', 'common', 'origins', 'and', 'are', 'known', 'as', 'football', 'codes', 'there', 'are', 'number', 'of', 'references', 'to', 'traditional', 'ancient', 'or', 'prehistoric', 'ball', 'games', 'played', 'in', 'many', 'different', 'parts', 'of', 'the', 'world', 'contemporary', 'codes', 'of', 'football', 'can', 'be', 'traced', 'back', 'to', 'the', 'codification', 'of', 'these', 'games', 'at', 'english', 'public', 'schools', 'during', 'the', 'century', 'the', 'expansion', 'and', 'cultural', 'influence', 'of', 'the', 'british', 'empire', 'allowed', 'these', 'rules', 'of', 'football', 'to', 'spread', 'to', 'areas', 'of', 'british', 'influence', 'outside', 'the', 'directly', 'controlled', 'empire', 'by', 'the', 'end', 'of', 'the', 'century', 'distinct', 'regional', 'codes', 'were', 'already', 'developing', 'gaelic', 'football', 'for', 'example', 'deliberately', 'incorporated', 'the', 'rules', 'of', 'local', 'traditional', 'football', 'games', 'in', 'order', 'to', 'maintain', 'their', 'heritage', 'in', 'the', 'football', 'league', 'was', 'founded', 'in', 'england', 'becoming', 'the', 'first', 'of', 'many', 'professional', 'football', 'competitions', 'during', 'the', 'century', 'several', 'of', 'the', 'various', 'kinds', 'of', 'football', 'grew', 'to', 'become', 'some', 'of', 'the', 'most', 'popular', 'team', 'sports', 'in', 'the', 'world'], ['badminton', 'is', 'racquet', 'sport', 'played', 'using', 'racquets', 'to', 'hit', 'shuttlecock', 'across', 'net', 'although', 'it', 'may', 'be', 'played', 'with', 'larger', 'teams', 'the', 'most', 'common', 'forms', 'of', 'the', 'game', 'are', 'singles', 'with', 'one', 'player', 'per', 'side', 'and', 'doubles', 'with', 'two', 'players', 'per', 'side', 'badminton', 'is', 'often', 'played', 'as', 'casual', 'outdoor', 'activity', 'in', 'yard', 'or', 'on', 'beach', 'formal', 'games', 'are', 'played', 'on', 'rectangular', 'indoor', 'court', 'points', 'are', 'scored', 'by', 'striking', 'the', 'shuttlecock', 'with', 'the', 'racquet', 'and', 'landing', 'it', 'within', 'the', 'opposing', 'side', 'half', 'of', 'the', 'court', 'each', 'side', 'may', 'only', 'strike', 'the', 'shuttlecock', 'once', 'before', 'it', 'passes', 'over', 'the', 'net', 'play', 'ends', 'once', 'the', 'shuttlecock', 'has', 'struck', 'the', 'floor', 'or', 'if', 'fault', 'has', 'been', 'called', 'by', 'the', 'umpire', 'service', 'judge', 'or', 'in', 'their', 'absence', 'the', 'opposing', 'side', 'the', 'shuttlecock', 'is', 'feathered', 'or', 'in', 'informal', 'matches', 'plastic', 'projectile', 'which', 'flies', 'differently', 'from', 'the', 'balls', 'used', 'in', 'many', 'other', 'sports', 'in', 'particular', 'the', 'feathers', 'create', 'much', 'higher', 'drag', 'causing', 'the', 'shuttlecock', 'to', 'decelerate', 'more', 'rapidly', 'shuttlecocks', 'also', 'have', 'high', 'top', 'speed', 'compared', 'to', 'the', 'balls', 'in', 'other', 'racquet', 'sports', 'the', 'flight', 'of', 'the', 'shuttlecock', 'gives', 'the', 'sport', 'its', 'distinctive', 'nature', 'the', 'game', 'developed', 'in', 'british', 'india', 'from', 'the', 'earlier', 'game', 'of', 'battledore', 'and', 'shuttlecock', 'european', 'play', 'came', 'to', 'be', 'dominated', 'by', 'denmark', 'but', 'the', 'game', 'has', 'become', 'very', 'popular', 'in', 'asia', 'with', 'recent', 'competitions', 'dominated', 'by', 'china', 'since', 'badminton', 'has', 'been', 'summer', 'olympic', 'sport', 'with', 'four', 'events', 'men', 'singles', 'women', 'singles', 'men', 'doubles', 'and', 'women', 'doubles', 'with', 'mixed', 'doubles', 'added', 'four', 'years', 'later', 'at', 'high', 'levels', 'of', 'play', 'the', 'sport', 'demands', 'excellent', 'fitness', 'players', 'require', 'aerobic', 'stamina', 'agility', 'strength', 'speed', 'and', 'precision', 'it', 'is', 'also', 'technical', 'sport', 'requiring', 'good', 'motor', 'coordination', 'and', 'the', 'development', 'of', 'sophisticated', 'racquet', 'movements'], ['field', 'hockey', 'is', 'widely', 'played', 'team', 'sport', 'of', 'the', 'hockey', 'family', 'the', 'game', 'can', 'be', 'played', 'on', 'grass', 'watered', 'turf', 'artificial', 'turf', 'or', 'synthetic', 'field', 'as', 'well', 'as', 'an', 'indoor', 'boarded', 'surface', 'each', 'team', 'plays', 'with', 'ten', 'field', 'players', 'and', 'goalkeeper', 'players', 'use', 'sticks', 'made', 'of', 'wood', 'carbon', 'fibre', 'fibre', 'glass', 'or', 'combination', 'of', 'carbon', 'fibre', 'and', 'fibre', 'glass', 'in', 'different', 'quantities', 'to', 'hit', 'round', 'hard', 'plastic', 'hockey', 'ball', 'the', 'length', 'of', 'the', 'hockey', 'stick', 'is', 'based', 'on', 'the', 'player', 'individual', 'height', 'the', 'top', 'of', 'the', 'stick', 'usually', 'comes', 'to', 'the', 'players', 'hip', 'and', 'taller', 'players', 'typically', 'have', 'longer', 'sticks', 'the', 'sticks', 'have', 'round', 'side', 'and', 'flat', 'side', 'and', 'only', 'the', 'flat', 'face', 'of', 'the', 'stick', 'is', 'allowed', 'to', 'be', 'used', 'use', 'of', 'the', 'other', 'side', 'results', 'in', 'foul', 'goalies', 'often', 'have', 'different', 'design', 'of', 'stick', 'although', 'they', 'can', 'also', 'use', 'an', 'ordinary', 'field', 'hockey', 'stick', 'the', 'specific', 'goal', 'keeping', 'sticks', 'have', 'another', 'curve', 'at', 'the', 'end', 'of', 'the', 'stick', 'which', 'is', 'to', 'give', 'it', 'more', 'surface', 'area', 'to', 'block', 'the', 'ball', 'the', 'uniform', 'consists', 'of', 'shin', 'guards', 'shoes', 'shorts', 'or', 'skirt', 'mouthguard', 'and', 'jersey', 'the', 'game', 'is', 'played', 'globally', 'particularly', 'in', 'parts', 'of', 'western', 'europe', 'south', 'asia', 'southern', 'africa', 'australia', 'new', 'zealand', 'argentina', 'and', 'parts', 'of', 'the', 'united', 'states', 'primarily', 'new', 'england', 'and', 'the', 'mid', 'atlantic', 'states', 'known', 'simply', 'as', 'hockey', 'in', 'most', 'territories', 'the', 'term', 'field', 'hockey', 'is', 'used', 'primarily', 'in', 'canada', 'and', 'the', 'united', 'states', 'where', 'ice', 'hockey', 'is', 'more', 'popular', 'in', 'sweden', 'the', 'term', 'landhockey', 'is', 'used', 'and', 'to', 'some', 'degree', 'in', 'norway', 'where', 'the', 'game', 'is', 'governed', 'by', 'the', 'norges', 'bandyforbund', 'during', 'play', 'goal', 'keepers', 'are', 'the', 'only', 'players', 'allowed', 'to', 'touch', 'the', 'ball', 'with', 'any', 'part', 'of', 'their', 'body', 'while', 'field', 'players', 'can', 'only', 'play', 'the', 'ball', 'with', 'the', 'flat', 'side', 'of', 'their', 'stick', 'player', 'hand', 'is', 'considered', 'part', 'of', 'the', 'stick', 'if', 'holding', 'the', 'stick', 'if', 'the', 'ball', 'is', 'touched', 'with', 'the', 'rounded', 'part', 'of', 'the', 'stick', 'it', 'will', 'result', 'in', 'penalty', 'goal', 'keepers', 'also', 'can', 'not', 'play', 'the', 'ball', 'with', 'the', 'back', 'of', 'their', 'stick', 'the', 'team', 'that', 'scores', 'the', 'most', 'goals', 'by', 'the', 'end', 'of', 'the', 'match', 'wins', 'if', 'the', 'score', 'is', 'tied', 'at', 'the', 'end', 'of', 'the', 'game', 'either', 'draw', 'is', 'declared', 'or', 'the', 'game', 'goes', 'into', 'extra', 'time', 'or', 'there', 'is', 'penalty', 'shoot', 'out', 'depending', 'on', 'the', 'format', 'of', 'the', 'competition', 'there', 'are', 'many', 'variations', 'to', 'overtime', 'play', 'that', 'depend', 'on', 'the', 'league', 'or', 'tournament', 'rules', 'in', 'american', 'college', 'play', 'seven', 'aside', 'overtime', 'period', 'consists', 'of', 'minute', 'golden', 'goal', 'period', 'with', 'seven', 'players', 'for', 'each', 'team', 'if', 'tie', 'still', 'remains', 'the', 'game', 'enters', 'one', 'on', 'one', 'competition', 'where', 'each', 'team', 'chooses', 'five', 'players', 'to', 'dribble', 'from', 'the', 'yard', 'line', 'down', 'to', 'the', 'circle', 'against', 'the', 'opposing', 'goalie', 'the', 'player', 'has', 'eight', 'seconds', 'to', 'score', 'against', 'the', 'goalie', 'while', 'keeping', 'the', 'ball', 'in', 'bounds', 'the', 'game', 'ends', 'after', 'goal', 'is', 'scored', 'the', 'ball', 'goes', 'out', 'of', 'bounds', 'foul', 'is', 'committed', 'ending', 'in', 'either', 'penalty', 'stroke', 'or', 'flick', 'or', 'the', 'end', 'of', 'the', 'one', 'on', 'one', 'or', 'time', 'expires', 'if', 'the', 'tie', 'still', 'persists', 'more', 'rounds', 'are', 'played', 'until', 'one', 'team', 'has', 'scored', 'the', 'governing', 'body', 'of', 'field', 'hockey', 'is', 'the', 'international', 'hockey', 'federation', 'fih', 'called', 'the', 'fédération', 'internationale', 'de', 'hockey', 'in', 'french', 'with', 'men', 'and', 'women', 'being', 'represented', 'internationally', 'in', 'competitions', 'including', 'the', 'olympic', 'games', 'world', 'cup', 'world', 'league', 'champions', 'trophy', 'and', 'junior', 'world', 'cup', 'with', 'many', 'countries', 'running', 'extensive', 'junior', 'senior', 'and', 'masters', 'club', 'competitions', 'the', 'fih', 'is', 'also', 'responsible', 'for', 'organizing', 'the', 'hockey', 'rules', 'board', 'and', 'developing', 'the', 'rules', 'of', 'the', 'game', 'popular', 'variant', 'of', 'field', 'hockey', 'is', 'indoor', 'field', 'hockey', 'which', 'differs', 'in', 'number', 'of', 'respects', 'while', 'embodying', 'the', 'primary', 'principles', 'of', 'hockey', 'indoor', 'hockey', 'is', 'side', 'variant', 'using', 'field', 'which', 'is', 'reduced', 'to', 'approximately', 'ft', 'ft', 'although', 'many', 'of', 'the', 'rules', 'remain', 'the', 'same', 'including', 'obstruction', 'and', 'feet', 'there', 'are', 'several', 'key', 'variations', 'players', 'may', 'not', 'raise', 'the', 'ball', 'unless', 'shooting', 'at', 'goal', 'players', 'may', 'not', 'hit', 'the', 'ball', 'instead', 'using', 'pushes', 'to', 'transfer', 'it', 'and', 'the', 'sidelines', 'are', 'replaced', 'with', 'solid', 'barriers', 'from', 'which', 'the', 'ball', 'will', 'rebound', 'and', 'remain', 'in', 'play', 'in', 'addition', 'the', 'regulation', 'guidelines', 'for', 'the', 'indoor', 'field', 'hockey', 'stick', 'require', 'slightly', 'thinner', 'lighter', 'stick', 'than', 'an', 'outdoor', 'one'], ['volleyball', 'is', 'team', 'sport', 'in', 'which', 'two', 'teams', 'of', 'six', 'players', 'are', 'separated', 'by', 'net', 'each', 'team', 'tries', 'to', 'score', 'points', 'by', 'grounding', 'ball', 'on', 'the', 'other', 'team', 'court', 'under', 'organized', 'rules', 'it', 'has', 'been', 'part', 'of', 'the', 'official', 'program', 'of', 'the', 'summer', 'olympic', 'games', 'since', 'tokyo', 'the', 'complete', 'set', 'of', 'rules', 'is', 'extensive', 'but', 'play', 'essentially', 'proceeds', 'as', 'follows', 'player', 'on', 'one', 'of', 'the', 'teams', 'begins', 'rally', 'by', 'serving', 'the', 'ball', 'tossing', 'or', 'releasing', 'it', 'and', 'then', 'hitting', 'it', 'with', 'hand', 'or', 'arm', 'from', 'behind', 'the', 'back', 'boundary', 'line', 'of', 'the', 'court', 'over', 'the', 'net', 'and', 'into', 'the', 'receiving', 'team', 'court', 'the', 'receiving', 'team', 'must', 'not', 'let', 'the', 'ball', 'be', 'grounded', 'within', 'their', 'court', 'the', 'team', 'may', 'touch', 'the', 'ball', 'up', 'to', 'times', 'but', 'individual', 'players', 'may', 'not', 'touch', 'the', 'ball', 'twice', 'consecutively', 'typically', 'the', 'first', 'two', 'touches', 'are', 'used', 'to', 'set', 'up', 'for', 'an', 'attack', 'an', 'attempt', 'to', 'direct', 'the', 'ball', 'back', 'over', 'the', 'net', 'in', 'such', 'way', 'that', 'the', 'serving', 'team', 'is', 'unable', 'to', 'prevent', 'it', 'from', 'being', 'grounded', 'in', 'their', 'court', 'the', 'rally', 'continues', 'with', 'each', 'team', 'allowed', 'as', 'many', 'as', 'three', 'consecutive', 'touches', 'until', 'either', 'team', 'makes', 'kill', 'grounding', 'the', 'ball', 'on', 'the', 'opponent', 'court', 'and', 'winning', 'the', 'rally', 'or', 'team', 'commits', 'fault', 'and', 'loses', 'the', 'rally', 'the', 'team', 'that', 'wins', 'the', 'rally', 'is', 'awarded', 'point', 'and', 'serves', 'the', 'ball', 'to', 'start', 'the', 'next', 'rally', 'few', 'of', 'the', 'most', 'common', 'faults', 'include'], ['basketball', 'colloquially', 'referred', 'to', 'as', 'hoops', 'is', 'team', 'sport', 'in', 'which', 'two', 'teams', 'most', 'commonly', 'of', 'five', 'players', 'each', 'opposing', 'one', 'another', 'on', 'rectangular', 'court', 'compete', 'with', 'the', 'primary', 'objective', 'of', 'shooting', 'basketball', 'approximately', 'inches', 'cm', 'in', 'diameter', 'through', 'the', 'defender', 'hoop', 'basket', 'inches', 'cm', 'in', 'diameter', 'mounted', 'feet', 'high', 'to', 'backboard', 'at', 'each', 'end', 'of', 'the', 'court', 'while', 'preventing', 'the', 'opposing', 'team', 'from', 'shooting', 'through', 'their', 'own', 'hoop', 'field', 'goal', 'is', 'worth', 'two', 'points', 'unless', 'made', 'from', 'behind', 'the', 'three', 'point', 'line', 'when', 'it', 'is', 'worth', 'three', 'after', 'foul', 'timed', 'play', 'stops', 'and', 'the', 'player', 'fouled', 'or', 'designated', 'to', 'shoot', 'technical', 'foul', 'is', 'given', 'one', 'two', 'or', 'three', 'one', 'point', 'free', 'throws', 'the', 'team', 'with', 'the', 'most', 'points', 'at', 'the', 'end', 'of', 'the', 'game', 'wins', 'but', 'if', 'regulation', 'play', 'expires', 'with', 'the', 'score', 'tied', 'an', 'additional', 'period', 'of', 'play', 'overtime', 'is', 'mandated', 'players', 'advance', 'the', 'ball', 'by', 'bouncing', 'it', 'while', 'walking', 'or', 'running', 'dribbling', 'or', 'by', 'passing', 'it', 'to', 'teammate', 'both', 'of', 'which', 'require', 'considerable', 'skill', 'on', 'offense', 'players', 'may', 'use', 'variety', 'of', 'shots', 'the', 'lay', 'up', 'the', 'jump', 'shot', 'or', 'dunk', 'on', 'defense', 'they', 'may', 'steal', 'the', 'ball', 'from', 'dribbler', 'intercept', 'passes', 'or', 'block', 'shots', 'either', 'offense', 'or', 'defense', 'may', 'collect', 'rebound', 'that', 'is', 'missed', 'shot', 'that', 'bounces', 'from', 'rim', 'or', 'backboard', 'it', 'is', 'violation', 'to', 'lift', 'or', 'drag', 'one', 'pivot', 'foot', 'without', 'dribbling', 'the', 'ball', 'to', 'carry', 'it', 'or', 'to', 'hold', 'the', 'ball', 'with', 'both', 'hands', 'then', 'resume', 'dribbling', 'the', 'five', 'players', 'on', 'each', 'side', 'fall', 'into', 'five', 'playing', 'positions', 'the', 'tallest', 'player', 'is', 'usually', 'the', 'center', 'the', 'second', 'tallest', 'and', 'strongest', 'is', 'the', 'power', 'forward', 'slightly', 'shorter', 'but', 'more', 'agile', 'player', 'is', 'the', 'small', 'forward', 'and', 'the', 'shortest', 'players', 'or', 'the', 'best', 'ball', 'handlers', 'are', 'the', 'shooting', 'guard', 'and', 'the', 'point', 'guard', 'who', 'implements', 'the', 'coach', 'game', 'plan', 'by', 'managing', 'the', 'execution', 'of', 'offensive', 'and', 'defensive', 'plays', 'player', 'positioning', 'informally', 'players', 'may', 'play', 'three', 'on', 'three', 'two', 'on', 'two', 'and', 'one', 'on', 'one', 'invented', 'in', 'by', 'canadian', 'american', 'gym', 'teacher', 'james', 'naismith', 'in', 'springfield', 'massachusetts', 'united', 'states', 'basketball', 'has', 'evolved', 'to', 'become', 'one', 'of', 'the', 'world', 'most', 'popular', 'and', 'widely', 'viewed', 'sports', 'the', 'national', 'basketball', 'association', 'nba', 'is', 'the', 'most', 'significant', 'professional', 'basketball', 'league', 'in', 'the', 'world', 'in', 'terms', 'of', 'popularity', 'salaries', 'talent', 'and', 'level', 'of', 'competition', 'outside', 'north', 'america', 'the', 'top', 'clubs', 'from', 'national', 'leagues', 'qualify', 'to', 'continental', 'championships', 'such', 'as', 'the', 'euroleague', 'and', 'the', 'basketball', 'champions', 'league', 'americas', 'the', 'fiba', 'basketball', 'world', 'cup', 'and', 'men', 'olympic', 'basketball', 'tournament', 'are', 'the', 'major', 'international', 'events', 'of', 'the', 'sport', 'and', 'attract', 'top', 'national', 'teams', 'from', 'around', 'the', 'world', 'each', 'continent', 'hosts', 'regional', 'competitions', 'for', 'national', 'teams', 'like', 'eurobasket', 'and', 'fiba', 'americup', 'the', 'fiba', 'women', 'basketball', 'world', 'cup', 'and', 'women', 'olympic', 'basketball', 'tournament', 'feature', 'top', 'national', 'teams', 'from', 'continental', 'championships', 'the', 'main', 'north', 'american', 'league', 'is', 'the', 'wnba', 'ncaa', 'women', 'division', 'basketball', 'championship', 'is', 'also', 'popular', 'whereas', 'the', 'strongest', 'european', 'clubs', 'participate', 'in', 'the', 'euroleague', 'women'], ['tennis', 'is', 'racket', 'sport', 'that', 'can', 'be', 'played', 'individually', 'against', 'single', 'opponent', 'singles', 'or', 'between', 'two', 'teams', 'of', 'two', 'players', 'each', 'doubles', 'each', 'player', 'uses', 'tennis', 'racket', 'that', 'is', 'strung', 'with', 'cord', 'to', 'strike', 'hollow', 'rubber', 'ball', 'covered', 'with', 'felt', 'over', 'or', 'around', 'net', 'and', 'into', 'the', 'opponent', 'court', 'the', 'object', 'of', 'the', 'game', 'is', 'to', 'maneuver', 'the', 'ball', 'in', 'such', 'way', 'that', 'the', 'opponent', 'is', 'not', 'able', 'to', 'play', 'valid', 'return', 'the', 'player', 'who', 'is', 'unable', 'to', 'return', 'the', 'ball', 'will', 'not', 'gain', 'point', 'while', 'the', 'opposite', 'player', 'will', 'tennis', 'is', 'an', 'olympic', 'sport', 'and', 'is', 'played', 'at', 'all', 'levels', 'of', 'society', 'and', 'at', 'all', 'ages', 'the', 'sport', 'can', 'be', 'played', 'by', 'anyone', 'who', 'can', 'hold', 'racket', 'including', 'wheelchair', 'users', 'the', 'modern', 'game', 'of', 'tennis', 'originated', 'in', 'birmingham', 'england', 'in', 'the', 'late', 'century', 'as', 'lawn', 'tennis', 'it', 'had', 'close', 'connections', 'both', 'to', 'various', 'field', 'lawn', 'games', 'such', 'as', 'croquet', 'and', 'bowls', 'as', 'well', 'as', 'to', 'the', 'older', 'racket', 'sport', 'today', 'called', 'real', 'tennis', 'during', 'most', 'of', 'the', 'century', 'in', 'fact', 'the', 'term', 'tennis', 'referred', 'to', 'real', 'tennis', 'not', 'lawn', 'tennis', 'the', 'rules', 'of', 'modern', 'tennis', 'have', 'changed', 'little', 'since', 'the', 'two', 'exceptions', 'are', 'that', 'from', 'to', 'the', 'server', 'had', 'to', 'keep', 'one', 'foot', 'on', 'the', 'ground', 'at', 'all', 'times', 'and', 'the', 'adoption', 'of', 'the', 'tiebreak', 'in', 'the', 'recent', 'addition', 'to', 'professional', 'tennis', 'has', 'been', 'the', 'adoption', 'of', 'electronic', 'review', 'technology', 'coupled', 'with', 'point', 'challenge', 'system', 'which', 'allows', 'player', 'to', 'contest', 'the', 'line', 'call', 'of', 'point', 'system', 'known', 'as', 'hawk', 'eye', 'tennis', 'is', 'played', 'by', 'millions', 'of', 'recreational', 'players', 'and', 'is', 'also', 'popular', 'worldwide', 'spectator', 'sport', 'the', 'four', 'grand', 'slam', 'tournaments', 'also', 'referred', 'to', 'as', 'the', 'majors', 'are', 'especially', 'popular', 'the', 'australian', 'open', 'played', 'on', 'hard', 'courts', 'the', 'french', 'open', 'played', 'on', 'red', 'clay', 'courts', 'wimbledon', 'played', 'on', 'grass', 'courts', 'and', 'the', 'us', 'open', 'also', 'played', 'on', 'hard', 'courts'], ['cricket', 'is', 'bat', 'and', 'ball', 'game', 'played', 'between', 'two', 'teams', 'of', 'eleven', 'players', 'on', 'field', 'at', 'the', 'centre', 'of', 'which', 'is', 'yard', 'metre', 'pitch', 'with', 'wicket', 'at', 'each', 'end', 'each', 'comprising', 'two', 'bails', 'balanced', 'on', 'three', 'stumps', 'the', 'batting', 'side', 'scores', 'runs', 'by', 'striking', 'the', 'ball', 'bowled', 'at', 'the', 'wicket', 'with', 'the', 'bat', 'and', 'running', 'between', 'the', 'wickets', 'while', 'the', 'bowling', 'and', 'fielding', 'side', 'tries', 'to', 'prevent', 'this', 'by', 'preventing', 'the', 'ball', 'from', 'leaving', 'the', 'field', 'and', 'getting', 'the', 'ball', 'to', 'either', 'wicket', 'and', 'dismiss', 'each', 'batter', 'so', 'they', 'are', 'out', 'means', 'of', 'dismissal', 'include', 'being', 'bowled', 'when', 'the', 'ball', 'hits', 'the', 'stumps', 'and', 'dislodges', 'the', 'bails', 'and', 'by', 'the', 'fielding', 'side', 'either', 'catching', 'the', 'ball', 'after', 'it', 'is', 'hit', 'by', 'the', 'bat', 'but', 'before', 'it', 'hits', 'the', 'ground', 'or', 'hitting', 'wicket', 'with', 'the', 'ball', 'before', 'batter', 'can', 'cross', 'the', 'crease', 'in', 'front', 'of', 'the', 'wicket', 'when', 'ten', 'batters', 'have', 'been', 'dismissed', 'the', 'innings', 'ends', 'and', 'the', 'teams', 'swap', 'roles', 'the', 'game', 'is', 'adjudicated', 'by', 'two', 'umpires', 'aided', 'by', 'third', 'umpire', 'and', 'match', 'referee', 'in', 'international', 'matches', 'they', 'communicate', 'with', 'two', 'off', 'field', 'scorers', 'who', 'record', 'the', 'match', 'statistical', 'information', 'forms', 'of', 'cricket', 'range', 'from', 'with', 'each', 'team', 'batting', 'for', 'single', 'innings', 'of', 'overs', 'to', 'test', 'matches', 'played', 'over', 'five', 'days', 'traditionally', 'cricketers', 'play', 'in', 'all', 'white', 'kit', 'but', 'in', 'limited', 'overs', 'cricket', 'they', 'wear', 'club', 'or', 'team', 'colours', 'in', 'addition', 'to', 'the', 'basic', 'kit', 'some', 'players', 'wear', 'protective', 'gear', 'to', 'prevent', 'injury', 'caused', 'by', 'the', 'ball', 'which', 'is', 'hard', 'solid', 'spheroid', 'made', 'of', 'compressed', 'leather', 'with', 'slightly', 'raised', 'sewn', 'seam', 'enclosing', 'cork', 'core', 'layered', 'with', 'tightly', 'wound', 'string', 'the', 'earliest', 'reference', 'to', 'cricket', 'is', 'in', 'south', 'east', 'england', 'in', 'the', 'mid', 'century', 'it', 'spread', 'globally', 'with', 'the', 'expansion', 'of', 'the', 'british', 'empire', 'with', 'the', 'first', 'international', 'matches', 'in', 'the', 'second', 'half', 'of', 'the', 'century', 'the', 'game', 'governing', 'body', 'is', 'the', 'international', 'cricket', 'council', 'icc', 'which', 'has', 'over', 'members', 'twelve', 'of', 'which', 'are', 'full', 'members', 'who', 'play', 'test', 'matches', 'the', 'game', 'rules', 'the', 'laws', 'of', 'cricket', 'are', 'maintained', 'by', 'marylebone', 'cricket', 'club', 'mcc', 'in', 'london', 'the', 'sport', 'is', 'followed', 'primarily', 'in', 'the', 'indian', 'subcontinent', 'australasia', 'the', 'united', 'kingdom', 'southern', 'africa', 'and', 'the', 'west', 'indies', 'women', 'cricket', 'which', 'is', 'organised', 'and', 'played', 'separately', 'has', 'also', 'achieved', 'international', 'standard', 'the', 'most', 'successful', 'side', 'playing', 'international', 'cricket', 'is', 'australia', 'which', 'has', 'won', 'seven', 'one', 'day', 'international', 'trophies', 'including', 'five', 'world', 'cups', 'more', 'than', 'any', 'other', 'country', 'and', 'has', 'been', 'the', 'top', 'rated', 'test', 'side', 'more', 'than', 'any', 'other', 'country'], ['table', 'tennis', 'also', 'known', 'as', 'ping', 'pong', 'and', 'whiff', 'whaff', 'is', 'sport', 'in', 'which', 'two', 'or', 'four', 'players', 'hit', 'lightweight', 'ball', 'also', 'known', 'as', 'the', 'ping', 'pong', 'ball', 'back', 'and', 'forth', 'across', 'table', 'using', 'small', 'rackets', 'the', 'game', 'takes', 'place', 'on', 'hard', 'table', 'divided', 'by', 'net', 'except', 'for', 'the', 'initial', 'serve', 'the', 'rules', 'are', 'generally', 'as', 'follows', 'players', 'must', 'allow', 'ball', 'played', 'toward', 'them', 'to', 'bounce', 'one', 'time', 'on', 'their', 'side', 'of', 'the', 'table', 'and', 'must', 'return', 'it', 'so', 'that', 'it', 'bounces', 'on', 'the', 'opposite', 'side', 'at', 'least', 'once', 'point', 'is', 'scored', 'when', 'player', 'fails', 'to', 'return', 'the', 'ball', 'within', 'the', 'rules', 'play', 'is', 'fast', 'and', 'demands', 'quick', 'reactions', 'spinning', 'the', 'ball', 'alters', 'its', 'trajectory', 'and', 'limits', 'an', 'opponent', 'options', 'giving', 'the', 'hitter', 'great', 'advantage', 'table', 'tennis', 'is', 'governed', 'by', 'the', 'worldwide', 'organization', 'international', 'table', 'tennis', 'federation', 'ittf', 'founded', 'in', 'ittf', 'currently', 'includes', 'member', 'associations', 'the', 'table', 'tennis', 'official', 'rules', 'are', 'specified', 'in', 'the', 'ittf', 'handbook', 'table', 'tennis', 'has', 'been', 'an', 'olympic', 'sport', 'since', 'with', 'several', 'event', 'categories', 'from', 'until', 'these', 'were', 'men', 'singles', 'women', 'singles', 'men', 'doubles', 'and', 'women', 'doubles', 'since', 'team', 'event', 'has', 'been', 'played', 'instead', 'of', 'the', 'doubles'], ['boxing', 'is', 'combat', 'sport', 'in', 'which', 'two', 'people', 'usually', 'wearing', 'protective', 'gloves', 'and', 'other', 'protective', 'equipment', 'such', 'as', 'hand', 'wraps', 'and', 'mouthguards', 'throw', 'punches', 'at', 'each', 'other', 'for', 'predetermined', 'amount', 'of', 'time', 'in', 'boxing', 'ring', 'amateur', 'boxing', 'is', 'both', 'an', 'olympic', 'and', 'commonwealth', 'games', 'sport', 'and', 'is', 'standard', 'fixture', 'in', 'most', 'international', 'games', 'it', 'also', 'has', 'its', 'own', 'world', 'championships', 'boxing', 'is', 'overseen', 'by', 'referee', 'over', 'series', 'of', 'one', 'to', 'three', 'minute', 'intervals', 'called', 'rounds', 'winner', 'can', 'be', 'resolved', 'before', 'the', 'completion', 'of', 'the', 'rounds', 'when', 'referee', 'deems', 'an', 'opponent', 'incapable', 'of', 'continuing', 'disqualification', 'of', 'an', 'opponent', 'or', 'resignation', 'of', 'an', 'opponent', 'when', 'the', 'fight', 'reaches', 'the', 'end', 'of', 'its', 'final', 'round', 'with', 'both', 'opponents', 'still', 'standing', 'the', 'judges', 'scorecards', 'determine', 'the', 'victor', 'in', 'the', 'event', 'that', 'both', 'fighters', 'gain', 'equal', 'scores', 'from', 'the', 'judges', 'professional', 'bouts', 'are', 'considered', 'draw', 'in', 'olympic', 'boxing', 'because', 'winner', 'must', 'be', 'declared', 'judges', 'award', 'the', 'contest', 'to', 'one', 'fighter', 'on', 'technical', 'criteria', 'while', 'humans', 'have', 'fought', 'in', 'hand', 'to', 'hand', 'combat', 'since', 'the', 'dawn', 'of', 'human', 'history', 'the', 'earliest', 'evidence', 'of', 'fist', 'fighting', 'sporting', 'contests', 'date', 'back', 'to', 'the', 'ancient', 'near', 'east', 'in', 'the', 'and', 'millennia', 'bc', 'the', 'earliest', 'evidence', 'of', 'boxing', 'rules', 'date', 'back', 'to', 'ancient', 'greece', 'where', 'boxing', 'was', 'established', 'as', 'an', 'olympic', 'game', 'in', 'bc', 'boxing', 'evolved', 'from', 'and', 'century', 'prizefights', 'largely', 'in', 'great', 'britain', 'to', 'the', 'forerunner', 'of', 'modern', 'boxing', 'in', 'the', 'mid', 'century', 'with', 'the', 'introduction', 'of', 'the', 'marquess', 'of', 'queensberry', 'rules'], ['golf', 'is', 'club', 'and', 'ball', 'sport', 'in', 'which', 'players', 'use', 'various', 'clubs', 'to', 'hit', 'balls', 'into', 'series', 'of', 'holes', 'on', 'course', 'in', 'as', 'few', 'strokes', 'as', 'possible', 'golf', 'unlike', 'most', 'ball', 'games', 'can', 'not', 'and', 'does', 'not', 'utilize', 'standardized', 'playing', 'area', 'and', 'coping', 'with', 'the', 'varied', 'terrains', 'encountered', 'on', 'different', 'courses', 'is', 'key', 'part', 'of', 'the', 'game', 'the', 'game', 'at', 'the', 'usual', 'level', 'is', 'played', 'on', 'course', 'with', 'an', 'arranged', 'progression', 'of', 'holes', 'though', 'recreational', 'courses', 'can', 'be', 'smaller', 'often', 'having', 'nine', 'holes', 'each', 'hole', 'on', 'the', 'course', 'must', 'contain', 'teeing', 'ground', 'to', 'start', 'from', 'and', 'putting', 'green', 'containing', 'the', 'actual', 'hole', 'or', 'cup', 'inches', 'cm', 'in', 'diameter', 'there', 'are', 'other', 'standard', 'forms', 'of', 'terrain', 'in', 'between', 'such', 'as', 'the', 'fairway', 'rough', 'long', 'grass', 'bunkers', 'or', 'sand', 'traps', 'and', 'various', 'hazards', 'water', 'rocks', 'but', 'each', 'hole', 'on', 'course', 'is', 'unique', 'in', 'its', 'specific', 'layout', 'and', 'arrangement', 'golf', 'is', 'played', 'for', 'the', 'lowest', 'number', 'of', 'strokes', 'by', 'an', 'individual', 'known', 'as', 'stroke', 'play', 'or', 'the', 'lowest', 'score', 'on', 'the', 'most', 'individual', 'holes', 'in', 'complete', 'round', 'by', 'an', 'individual', 'or', 'team', 'known', 'as', 'match', 'play', 'stroke', 'play', 'is', 'the', 'most', 'commonly', 'seen', 'format', 'at', 'all', 'levels', 'but', 'most', 'especially', 'at', 'the', 'elite', 'level', 'the', 'modern', 'game', 'of', 'golf', 'originated', 'in', 'century', 'scotland', 'the', 'hole', 'round', 'was', 'created', 'at', 'the', 'old', 'course', 'at', 'st', 'andrews', 'in', 'golf', 'first', 'major', 'and', 'the', 'world', 'oldest', 'tournament', 'in', 'existence', 'is', 'the', 'open', 'championship', 'also', 'known', 'as', 'the', 'british', 'open', 'which', 'was', 'first', 'played', 'in', 'at', 'the', 'prestwick', 'golf', 'club', 'in', 'ayrshire', 'scotland', 'this', 'is', 'one', 'of', 'the', 'four', 'major', 'championships', 'in', 'men', 'professional', 'golf', 'the', 'other', 'three', 'being', 'played', 'in', 'the', 'united', 'states', 'the', 'masters', 'the', 'open', 'and', 'the', 'pga', 'championship'], ['swimming', 'is', 'the', 'self', 'propulsion', 'of', 'person', 'through', 'water', 'usually', 'for', 'recreation', 'sport', 'exercise', 'or', 'survival', 'locomotion', 'is', 'achieved', 'through', 'coordinated', 'movement', 'of', 'the', 'limbs', 'the', 'body', 'or', 'both', 'humans', 'can', 'hold', 'their', 'breath', 'underwater', 'and', 'undertake', 'rudimentary', 'locomotive', 'swimming', 'within', 'weeks', 'of', 'birth', 'as', 'survival', 'response', 'swimming', 'is', 'consistently', 'among', 'the', 'top', 'public', 'recreational', 'activities', 'and', 'in', 'some', 'countries', 'swimming', 'lessons', 'are', 'compulsory', 'part', 'of', 'the', 'educational', 'curriculum', 'as', 'formalized', 'sport', 'swimming', 'features', 'in', 'range', 'of', 'local', 'national', 'and', 'international', 'competitions', 'including', 'every', 'modern', 'summer', 'olympics'], ['handball', 'also', 'known', 'as', 'team', 'handball', 'european', 'handball', 'or', 'olympic', 'handball', 'is', 'team', 'sport', 'in', 'which', 'two', 'teams', 'of', 'seven', 'players', 'each', 'six', 'outcourt', 'players', 'and', 'goalkeeper', 'pass', 'ball', 'using', 'their', 'hands', 'with', 'the', 'aim', 'of', 'throwing', 'it', 'into', 'the', 'goal', 'of', 'the', 'other', 'team', 'standard', 'match', 'consists', 'of', 'two', 'periods', 'of', 'minutes', 'and', 'the', 'team', 'that', 'scores', 'more', 'goals', 'wins', 'modern', 'handball', 'is', 'played', 'on', 'court', 'of', 'by', 'metres', 'by', 'ft', 'with', 'goal', 'in', 'the', 'middle', 'of', 'each', 'end', 'the', 'goals', 'are', 'surrounded', 'by', 'meter', 'ft', 'zone', 'where', 'only', 'the', 'defending', 'goalkeeper', 'is', 'allowed', 'goals', 'must', 'be', 'scored', 'by', 'throwing', 'the', 'ball', 'from', 'outside', 'the', 'zone', 'or', 'while', 'diving', 'into', 'it', 'the', 'sport', 'is', 'usually', 'played', 'indoors', 'but', 'outdoor', 'variants', 'exist', 'in', 'the', 'forms', 'of', 'field', 'handball', 'czech', 'handball', 'which', 'were', 'more', 'common', 'in', 'the', 'past', 'and', 'beach', 'handball', 'the', 'game', 'is', 'fast', 'and', 'high', 'scoring', 'professional', 'teams', 'now', 'typically', 'score', 'between', 'and', 'goals', 'each', 'though', 'lower', 'scores', 'were', 'not', 'uncommon', 'until', 'few', 'decades', 'ago', 'players', 'may', 'score', 'hat', 'tricks', 'body', 'contact', 'is', 'permitted', 'for', 'the', 'defenders', 'trying', 'to', 'stop', 'the', 'attackers', 'from', 'approaching', 'the', 'goal', 'no', 'protective', 'equipment', 'is', 'mandated', 'but', 'players', 'may', 'wear', 'soft', 'protective', 'bands', 'pads', 'and', 'mouth', 'guards', 'the', 'game', 'was', 'codified', 'at', 'the', 'end', 'of', 'the', 'century', 'in', 'denmark', 'the', 'modern', 'set', 'of', 'rules', 'was', 'published', 'on', 'october', 'in', 'berlin', 'which', 'is', 'seen', 'as', 'the', 'date', 'of', 'birth', 'of', 'the', 'sport', 'and', 'had', 'several', 'revisions', 'since', 'the', 'first', 'official', 'handball', 'match', 'was', 'played', 'in', 'the', 'same', 'year', 'in', 'germany', 'the', 'first', 'international', 'games', 'were', 'played', 'under', 'these', 'rules', 'for', 'men', 'in', 'and', 'for', 'women', 'in', 'men', 'handball', 'was', 'first', 'played', 'at', 'the', 'summer', 'olympics', 'in', 'berlin', 'as', 'outdoors', 'and', 'the', 'next', 'time', 'at', 'the', 'summer', 'olympics', 'in', 'munich', 'as', 'indoors', 'and', 'has', 'been', 'an', 'olympic', 'sport', 'since', 'women', 'team', 'handball', 'was', 'added', 'at', 'the', 'summer', 'olympics', 'the', 'international', 'handball', 'federation', 'was', 'formed', 'in', 'and', 'as', 'of', 'update', 'has', 'member', 'federations', 'the', 'sport', 'is', 'most', 'popular', 'in', 'europe', 'and', 'european', 'countries', 'have', 'won', 'all', 'medals', 'but', 'one', 'in', 'the', 'men', 'world', 'championships', 'since', 'in', 'the', 'women', 'world', 'championships', 'only', 'two', 'non', 'european', 'countries', 'have', 'won', 'the', 'title', 'south', 'korea', 'and', 'brazil', 'the', 'game', 'also', 'enjoys', 'popularity', 'in', 'east', 'asia', 'north', 'africa', 'and', 'parts', 'of', 'south', 'america'], ['skiing', 'is', 'means', 'of', 'transport', 'using', 'skis', 'to', 'glide', 'on', 'snow', 'variations', 'of', 'purpose', 'include', 'basic', 'transport', 'recreational', 'activity', 'or', 'competitive', 'winter', 'sport', 'many', 'types', 'of', 'competitive', 'skiing', 'events', 'are', 'recognized', 'by', 'the', 'international', 'olympic', 'committee', 'ioc', 'and', 'the', 'international', 'ski', 'federation', 'fis'], ['cycling', 'also', 'called', 'bicycling', 'or', 'biking', 'is', 'the', 'use', 'of', 'bicycles', 'for', 'transport', 'recreation', 'exercise', 'or', 'sport', 'people', 'engaged', 'in', 'cycling', 'are', 'referred', 'to', 'as', 'cyclists', 'bicyclists', 'or', 'bikers', 'apart', 'from', 'two', 'wheeled', 'bicycles', 'cycling', 'also', 'includes', 'the', 'riding', 'of', 'unicycles', 'tricycles', 'quadricycles', 'recumbent', 'and', 'similar', 'human', 'powered', 'vehicles', 'hpvs', 'bicycles', 'were', 'introduced', 'in', 'the', 'century', 'and', 'now', 'number', 'approximately', 'one', 'billion', 'worldwide', 'they', 'are', 'the', 'principal', 'means', 'of', 'transportation', 'in', 'many', 'parts', 'of', 'the', 'world', 'cycling', 'is', 'widely', 'regarded', 'as', 'very', 'effective', 'and', 'efficient', 'mode', 'of', 'transportation', 'optimal', 'for', 'short', 'to', 'moderate', 'distances', 'bicycles', 'provide', 'numerous', 'possible', 'benefits', 'in', 'comparison', 'with', 'motor', 'vehicles', 'including', 'the', 'sustained', 'physical', 'exercise', 'involved', 'in', 'cycling', 'easier', 'parking', 'increased', 'maneuverability', 'and', 'access', 'to', 'roads', 'bike', 'paths', 'and', 'rural', 'trails', 'cycling', 'also', 'offers', 'reduced', 'consumption', 'of', 'fossil', 'fuels', 'less', 'air', 'or', 'noise', 'pollution', 'and', 'much', 'reduced', 'traffic', 'congestion', 'these', 'lead', 'to', 'less', 'financial', 'cost', 'to', 'the', 'user', 'as', 'well', 'as', 'to', 'society', 'at', 'large', 'negligible', 'damage', 'to', 'roads', 'less', 'road', 'area', 'required', 'by', 'fitting', 'bicycle', 'racks', 'on', 'the', 'front', 'of', 'buses', 'transit', 'agencies', 'can', 'significantly', 'increase', 'the', 'areas', 'they', 'can', 'serve', 'in', 'addition', 'cycling', 'provides', 'variety', 'of', 'health', 'benefits', 'the', 'world', 'health', 'organization', 'who', 'states', 'that', 'cycling', 'can', 'reduce', 'the', 'risk', 'of', 'cancers', 'heart', 'disease', 'and', 'diabetes', 'that', 'are', 'prevalent', 'in', 'sedentary', 'lifestyles', 'cycling', 'on', 'stationary', 'bikes', 'have', 'also', 'been', 'used', 'as', 'part', 'of', 'rehabilitation', 'for', 'lower', 'limb', 'injuries', 'particularly', 'after', 'hip', 'surgery', 'individuals', 'who', 'cycle', 'regularly', 'have', 'also', 'reported', 'mental', 'health', 'improvements', 'including', 'less', 'perceived', 'stress', 'and', 'better', 'vitality', 'among', 'the', 'disadvantages', 'of', 'cycling', 'are', 'the', 'requirement', 'of', 'bicycles', 'excepting', 'tricycles', 'or', 'quadricycles', 'to', 'be', 'balanced', 'by', 'the', 'rider', 'in', 'order', 'to', 'remain', 'upright', 'the', 'reduced', 'protection', 'in', 'crashes', 'in', 'comparison', 'to', 'motor', 'vehicles', 'often', 'longer', 'travel', 'time', 'except', 'in', 'densely', 'populated', 'areas', 'vulnerability', 'to', 'weather', 'conditions', 'difficulty', 'in', 'transporting', 'passengers', 'and', 'the', 'fact', 'that', 'basic', 'level', 'of', 'fitness', 'is', 'required', 'for', 'cycling', 'moderate', 'to', 'long', 'distances'], ['rugby', 'football', 'is', 'collective', 'name', 'for', 'the', 'family', 'of', 'team', 'sports', 'of', 'rugby', 'union', 'and', 'rugby', 'league', 'as', 'well', 'as', 'the', 'earlier', 'forms', 'of', 'football', 'from', 'which', 'both', 'games', 'as', 'well', 'as', 'australian', 'rules', 'football', 'and', 'gridiron', 'football', 'evolved', 'canadian', 'football', 'and', 'to', 'lesser', 'extent', 'american', 'football', 'were', 'also', 'broadly', 'considered', 'forms', 'of', 'rugby', 'football', 'but', 'are', 'seldom', 'now', 'referred', 'to', 'as', 'such', 'the', 'governing', 'body', 'of', 'canadian', 'football', 'football', 'canada', 'was', 'known', 'as', 'the', 'canadian', 'rugby', 'union', 'as', 'late', 'as', 'more', 'than', 'fifty', 'years', 'after', 'the', 'sport', 'parted', 'ways', 'with', 'the', 'established', 'rules', 'of', 'rugby', 'union', 'or', 'league', 'rugby', 'football', 'started', 'about', 'at', 'rugby', 'school', 'in', 'rugby', 'warwickshire', 'england', 'although', 'forms', 'of', 'football', 'in', 'which', 'the', 'ball', 'was', 'carried', 'and', 'tossed', 'date', 'to', 'medieval', 'times', 'rugby', 'split', 'into', 'two', 'sports', 'in', 'when', 'twenty', 'one', 'clubs', 'split', 'from', 'the', 'rugby', 'football', 'union', 'to', 'form', 'the', 'northern', 'rugby', 'football', 'union', 'later', 'renamed', 'the', 'rugby', 'football', 'league', 'in', 'in', 'the', 'george', 'hotel', 'huddersfield', 'over', 'broken', 'time', 'payments', 'to', 'players', 'who', 'took', 'time', 'off', 'from', 'work', 'to', 'play', 'the', 'sport', 'thus', 'making', 'rugby', 'league', 'the', 'first', 'code', 'to', 'turn', 'professional', 'and', 'pay', 'players', 'rugby', 'union', 'turned', 'professional', 'one', 'hundred', 'years', 'later', 'in', 'following', 'the', 'rugby', 'world', 'cup', 'in', 'south', 'africa', 'the', 'respective', 'world', 'governing', 'bodies', 'are', 'world', 'rugby', 'rugby', 'union', 'and', 'the', 'rugby', 'league', 'international', 'federation', 'rugby', 'league', 'rugby', 'football', 'was', 'one', 'of', 'many', 'versions', 'of', 'football', 'played', 'at', 'english', 'public', 'schools', 'in', 'the', 'century', 'although', 'rugby', 'league', 'initially', 'used', 'rugby', 'union', 'rules', 'they', 'are', 'now', 'wholly', 'separate', 'sports', 'with', 'rugby', 'league', 'being', 'much', 'more', 'similar', 'to', 'gridiron', 'football', 'in', 'addition', 'to', 'these', 'two', 'codes', 'both', 'american', 'and', 'canadian', 'football', 'evolved', 'from', 'rugby', 'football', 'in', 'the', 'beginning', 'of', 'the', 'century'], ['the', 'guitar', 'is', 'fretted', 'musical', 'instrument', 'that', 'usually', 'has', 'six', 'strings', 'it', 'is', 'typically', 'played', 'with', 'both', 'hands', 'by', 'strumming', 'or', 'plucking', 'the', 'strings', 'with', 'either', 'guitar', 'pick', 'or', 'the', 'fingers', 'fingernails', 'of', 'one', 'hand', 'while', 'simultaneously', 'fretting', 'pressing', 'the', 'strings', 'against', 'the', 'frets', 'with', 'the', 'fingers', 'of', 'the', 'other', 'hand', 'the', 'sound', 'of', 'the', 'vibrating', 'strings', 'is', 'projected', 'either', 'acoustically', 'by', 'means', 'of', 'the', 'hollow', 'chamber', 'of', 'the', 'guitar', 'for', 'an', 'acoustic', 'guitar', 'or', 'through', 'an', 'electrical', 'amplifier', 'and', 'speaker', 'the', 'guitar', 'is', 'type', 'of', 'chordophone', 'wherein', 'the', 'sound', 'is', 'produced', 'by', 'way', 'of', 'string', 'stretched', 'between', 'two', 'fixed', 'points', 'vibrating', 'when', 'plucked', 'traditionally', 'constructed', 'from', 'wood', 'and', 'strung', 'with', 'either', 'gut', 'nylon', 'or', 'steel', 'strings', 'and', 'distinguished', 'from', 'other', 'chordophones', 'by', 'its', 'construction', 'and', 'tuning', 'the', 'modern', 'guitar', 'was', 'preceded', 'by', 'the', 'gittern', 'the', 'vihuela', 'the', 'four', 'course', 'renaissance', 'guitar', 'and', 'the', 'five', 'course', 'baroque', 'guitar', 'all', 'of', 'which', 'contributed', 'to', 'the', 'development', 'of', 'the', 'modern', 'six', 'string', 'instrument', 'there', 'are', 'three', 'main', 'types', 'of', 'modern', 'acoustic', 'guitar', 'the', 'classical', 'guitar', 'spanish', 'guitar', 'nylon', 'string', 'guitar', 'the', 'steel', 'string', 'acoustic', 'guitar', 'and', 'the', 'archtop', 'guitar', 'which', 'is', 'sometimes', 'called', 'jazz', 'guitar', 'the', 'tone', 'of', 'an', 'acoustic', 'guitar', 'is', 'produced', 'by', 'the', 'strings', 'vibration', 'amplified', 'by', 'the', 'hollow', 'body', 'of', 'the', 'guitar', 'which', 'acts', 'as', 'resonating', 'chamber', 'the', 'classical', 'guitar', 'is', 'often', 'played', 'as', 'solo', 'instrument', 'using', 'comprehensive', 'finger', 'picking', 'technique', 'where', 'each', 'string', 'is', 'plucked', 'individually', 'by', 'the', 'player', 'fingers', 'as', 'opposed', 'to', 'being', 'strummed', 'the', 'term', 'finger', 'picking', 'can', 'also', 'refer', 'to', 'specific', 'tradition', 'of', 'folk', 'blues', 'bluegrass', 'and', 'country', 'guitar', 'playing', 'in', 'the', 'united', 'states', 'the', 'acoustic', 'bass', 'guitar', 'is', 'pitched', 'one', 'octave', 'below', 'regular', 'guitar', 'electric', 'guitars', 'introduced', 'in', 'the', 'use', 'an', 'amplifier', 'and', 'loudspeaker', 'that', 'both', 'makes', 'the', 'sound', 'of', 'the', 'instrument', 'loud', 'enough', 'for', 'the', 'performers', 'and', 'audience', 'to', 'hear', 'and', 'given', 'that', 'it', 'produces', 'an', 'electric', 'signal', 'when', 'played', 'that', 'can', 'electronically', 'manipulate', 'and', 'shape', 'the', 'tone', 'using', 'an', 'equalizer', 'bass', 'and', 'treble', 'tone', 'controls', 'and', 'wide', 'variety', 'of', 'electronic', 'effects', 'units', 'the', 'most', 'commonly', 'used', 'ones', 'being', 'distortion', 'or', 'overdrive', 'and', 'reverb', 'early', 'amplified', 'guitars', 'employed', 'hollow', 'body', 'but', 'solid', 'wood', 'guitars', 'began', 'to', 'dominate', 'during', 'the', 'and', 'as', 'they', 'are', 'less', 'prone', 'to', 'unwanted', 'acoustic', 'feedback', 'howls', 'as', 'with', 'acoustic', 'guitars', 'there', 'are', 'number', 'of', 'types', 'of', 'electric', 'guitars', 'including', 'hollowbody', 'guitars', 'archtop', 'guitars', 'used', 'in', 'jazz', 'guitar', 'blues', 'and', 'rockabilly', 'and', 'solid', 'body', 'guitars', 'which', 'are', 'widely', 'used', 'in', 'rock', 'music', 'the', 'loud', 'amplified', 'sound', 'and', 'sonic', 'power', 'of', 'the', 'electric', 'guitar', 'played', 'through', 'guitar', 'amp', 'has', 'played', 'key', 'role', 'in', 'the', 'development', 'of', 'blues', 'and', 'rock', 'music', 'both', 'as', 'an', 'accompaniment', 'instrument', 'playing', 'riffs', 'and', 'chords', 'and', 'performing', 'guitar', 'solos', 'and', 'in', 'many', 'rock', 'subgenres', 'notably', 'heavy', 'metal', 'music', 'and', 'punk', 'rock', 'the', 'electric', 'guitar', 'has', 'had', 'major', 'influence', 'on', 'popular', 'culture', 'the', 'guitar', 'is', 'used', 'in', 'wide', 'variety', 'of', 'musical', 'genres', 'worldwide', 'it', 'is', 'recognized', 'as', 'primary', 'instrument', 'in', 'genres', 'such', 'as', 'blues', 'bluegrass', 'country', 'flamenco', 'folk', 'jazz', 'jota', 'mariachi', 'metal', 'punk', 'reggae', 'rock', 'soul', 'and', 'pop'], ['the', 'piano', 'is', 'an', 'acoustic', 'stringed', 'musical', 'instrument', 'invented', 'in', 'italy', 'by', 'bartolomeo', 'cristofori', 'around', 'the', 'year', 'the', 'exact', 'year', 'is', 'uncertain', 'in', 'which', 'the', 'strings', 'are', 'struck', 'by', 'wooden', 'hammers', 'that', 'are', 'coated', 'with', 'softer', 'material', 'modern', 'hammers', 'are', 'covered', 'with', 'dense', 'wool', 'felt', 'some', 'early', 'pianos', 'used', 'leather', 'it', 'is', 'played', 'using', 'keyboard', 'which', 'is', 'row', 'of', 'keys', 'small', 'levers', 'that', 'the', 'performer', 'presses', 'down', 'or', 'strikes', 'with', 'the', 'fingers', 'and', 'thumbs', 'of', 'both', 'hands', 'to', 'cause', 'the', 'hammers', 'to', 'strike', 'the', 'strings', 'the', 'word', 'piano', 'is', 'shortened', 'form', 'of', 'pianoforte', 'the', 'italian', 'term', 'for', 'the', 'early', 'versions', 'of', 'the', 'instrument', 'which', 'in', 'turn', 'derives', 'from', 'gravicembalo', 'col', 'piano', 'forte', 'key', 'cymbal', 'with', 'quieter', 'and', 'louder', 'and', 'fortepiano', 'the', 'italian', 'musical', 'terms', 'piano', 'and', 'forte', 'indicate', 'soft', 'and', 'loud', 'respectively', 'in', 'this', 'context', 'referring', 'to', 'the', 'variations', 'in', 'volume', 'loudness', 'produced', 'in', 'response', 'to', 'pianist', 'touch', 'or', 'pressure', 'on', 'the', 'keys', 'the', 'greater', 'the', 'velocity', 'of', 'key', 'press', 'the', 'greater', 'the', 'force', 'of', 'the', 'hammer', 'hitting', 'the', 'strings', 'and', 'the', 'louder', 'the', 'sound', 'of', 'the', 'note', 'produced', 'and', 'the', 'stronger', 'the', 'attack', 'the', 'name', 'was', 'created', 'as', 'contrast', 'to', 'harpsichord', 'musical', 'instrument', 'that', 'does', 'not', 'allow', 'variation', 'in', 'volume', 'compared', 'to', 'the', 'harpsichord', 'the', 'first', 'fortepianos', 'in', 'the', 'had', 'quieter', 'sound', 'and', 'smaller', 'dynamic', 'range', 'piano', 'usually', 'has', 'protective', 'wooden', 'case', 'surrounding', 'the', 'soundboard', 'and', 'metal', 'strings', 'which', 'are', 'strung', 'under', 'great', 'tension', 'on', 'heavy', 'metal', 'frame', 'pressing', 'one', 'or', 'more', 'keys', 'on', 'the', 'piano', 'keyboard', 'causes', 'wooden', 'or', 'plastic', 'hammer', 'typically', 'padded', 'with', 'firm', 'felt', 'to', 'strike', 'the', 'strings', 'the', 'hammer', 'rebounds', 'from', 'the', 'strings', 'and', 'the', 'strings', 'continue', 'to', 'vibrate', 'at', 'their', 'resonant', 'frequency', 'these', 'vibrations', 'are', 'transmitted', 'through', 'bridge', 'to', 'soundboard', 'that', 'amplifies', 'by', 'more', 'efficiently', 'coupling', 'the', 'acoustic', 'energy', 'to', 'the', 'air', 'when', 'the', 'key', 'is', 'released', 'damper', 'stops', 'the', 'strings', 'vibration', 'ending', 'the', 'sound', 'notes', 'can', 'be', 'sustained', 'even', 'when', 'the', 'keys', 'are', 'released', 'by', 'the', 'fingers', 'and', 'thumbs', 'by', 'the', 'use', 'of', 'pedals', 'at', 'the', 'base', 'of', 'the', 'instrument', 'the', 'sustain', 'pedal', 'enables', 'pianists', 'to', 'play', 'musical', 'passages', 'that', 'would', 'otherwise', 'be', 'impossible', 'such', 'as', 'sounding', 'note', 'chord', 'in', 'the', 'lower', 'register', 'and', 'then', 'while', 'this', 'chord', 'is', 'being', 'continued', 'with', 'the', 'sustain', 'pedal', 'shifting', 'both', 'hands', 'to', 'the', 'treble', 'range', 'to', 'play', 'melody', 'and', 'arpeggios', 'over', 'the', 'top', 'of', 'this', 'sustained', 'chord', 'unlike', 'the', 'pipe', 'organ', 'and', 'harpsichord', 'two', 'major', 'keyboard', 'instruments', 'widely', 'used', 'before', 'the', 'piano', 'the', 'piano', 'allows', 'gradations', 'of', 'volume', 'and', 'tone', 'according', 'to', 'how', 'forcefully', 'or', 'softly', 'performer', 'presses', 'or', 'strikes', 'the', 'keys', 'most', 'modern', 'pianos', 'have', 'row', 'of', 'black', 'and', 'white', 'keys', 'white', 'keys', 'for', 'the', 'notes', 'of', 'the', 'major', 'scale', 'and', 'and', 'shorter', 'black', 'keys', 'which', 'are', 'raised', 'above', 'the', 'white', 'keys', 'and', 'set', 'further', 'back', 'on', 'the', 'keyboard', 'this', 'means', 'that', 'the', 'piano', 'can', 'play', 'different', 'pitches', 'or', 'notes', 'going', 'from', 'the', 'deepest', 'bass', 'range', 'to', 'the', 'highest', 'treble', 'the', 'black', 'keys', 'are', 'for', 'the', 'accidentals', 'and', 'which', 'are', 'needed', 'to', 'play', 'in', 'all', 'twelve', 'keys', 'more', 'rarely', 'some', 'pianos', 'have', 'additional', 'keys', 'which', 'require', 'additional', 'strings', 'most', 'notes', 'have', 'three', 'strings', 'except', 'for', 'the', 'bass', 'which', 'graduates', 'from', 'one', 'to', 'two', 'the', 'strings', 'are', 'sounded', 'when', 'keys', 'are', 'pressed', 'or', 'struck', 'and', 'silenced', 'by', 'dampers', 'when', 'the', 'hands', 'are', 'lifted', 'from', 'the', 'keyboard', 'although', 'an', 'acoustic', 'piano', 'has', 'strings', 'it', 'is', 'usually', 'classified', 'as', 'percussion', 'instrument', 'rather', 'than', 'as', 'stringed', 'instrument', 'because', 'the', 'strings', 'are', 'struck', 'rather', 'than', 'plucked', 'as', 'with', 'harpsichord', 'or', 'spinet', 'in', 'the', 'hornbostel', 'sachs', 'system', 'of', 'instrument', 'classification', 'pianos', 'are', 'considered', 'chordophones', 'there', 'are', 'two', 'main', 'types', 'of', 'piano', 'the', 'grand', 'piano', 'and', 'the', 'upright', 'piano', 'the', 'grand', 'piano', 'has', 'better', 'sound', 'and', 'gives', 'the', 'player', 'more', 'precise', 'control', 'of', 'the', 'keys', 'and', 'is', 'therefore', 'the', 'preferred', 'choice', 'for', 'every', 'situation', 'in', 'which', 'the', 'available', 'floor', 'space', 'and', 'the', 'budget', 'will', 'allow', 'as', 'well', 'as', 'often', 'being', 'considered', 'requirement', 'in', 'venues', 'where', 'skilled', 'pianists', 'will', 'frequently', 'give', 'public', 'performances', 'the', 'upright', 'piano', 'which', 'necessarily', 'involves', 'some', 'compromise', 'in', 'both', 'tone', 'and', 'key', 'action', 'compared', 'to', 'grand', 'piano', 'of', 'equivalent', 'quality', 'is', 'nevertheless', 'much', 'more', 'widely', 'used', 'because', 'it', 'occupies', 'less', 'space', 'allowing', 'it', 'to', 'fit', 'comfortably', 'in', 'room', 'where', 'grand', 'piano', 'would', 'be', 'too', 'large', 'and', 'is', 'significantly', 'less', 'expensive', 'during', 'the', 'influenced', 'by', 'the', 'musical', 'trends', 'of', 'the', 'romantic', 'music', 'era', 'innovations', 'such', 'as', 'the', 'cast', 'iron', 'frame', 'which', 'allowed', 'much', 'greater', 'string', 'tensions', 'and', 'aliquot', 'stringing', 'gave', 'grand', 'pianos', 'more', 'powerful', 'sound', 'with', 'longer', 'sustain', 'and', 'richer', 'tone', 'in', 'the', 'nineteenth', 'century', 'family', 'piano', 'played', 'the', 'same', 'role', 'that', 'radio', 'or', 'phonograph', 'played', 'in', 'the', 'twentieth', 'century', 'when', 'nineteenth', 'century', 'family', 'wanted', 'to', 'hear', 'newly', 'published', 'musical', 'piece', 'or', 'symphony', 'they', 'could', 'hear', 'it', 'by', 'having', 'family', 'member', 'play', 'simplified', 'version', 'on', 'the', 'piano', 'during', 'the', 'nineteenth', 'century', 'music', 'publishers', 'produced', 'many', 'types', 'of', 'musical', 'works', 'symphonies', 'opera', 'overtures', 'waltzes', 'etc', 'in', 'arrangements', 'for', 'piano', 'so', 'that', 'music', 'lovers', 'could', 'play', 'and', 'hear', 'the', 'popular', 'pieces', 'of', 'the', 'day', 'in', 'their', 'home', 'the', 'piano', 'is', 'widely', 'employed', 'in', 'classical', 'jazz', 'traditional', 'and', 'popular', 'music', 'for', 'solo', 'and', 'ensemble', 'performances', 'accompaniment', 'and', 'for', 'composing', 'songwriting', 'and', 'rehearsals', 'although', 'the', 'piano', 'is', 'very', 'heavy', 'and', 'thus', 'not', 'portable', 'and', 'is', 'expensive', 'in', 'comparison', 'with', 'other', 'widely', 'used', 'accompaniment', 'instruments', 'such', 'as', 'the', 'acoustic', 'guitar', 'its', 'musical', 'versatility', 'its', 'wide', 'pitch', 'range', 'ability', 'to', 'play', 'chords', 'louder', 'or', 'softer', 'notes', 'and', 'two', 'or', 'more', 'independent', 'musical', 'lines', 'at', 'the', 'same', 'time', 'the', 'large', 'number', 'of', 'musicians', 'both', 'amateurs', 'and', 'professionals', 'trained', 'in', 'playing', 'it', 'and', 'its', 'wide', 'availability', 'in', 'performance', 'venues', 'schools', 'and', 'rehearsal', 'spaces', 'have', 'made', 'it', 'one', 'of', 'the', 'western', 'world', 'most', 'familiar', 'musical', 'instruments'], ['the', 'violin', 'sometimes', 'known', 'as', 'fiddle', 'is', 'wooden', 'chordophone', 'string', 'instrument', 'in', 'the', 'violin', 'family', 'most', 'violins', 'have', 'hollow', 'wooden', 'body', 'it', 'is', 'the', 'smallest', 'and', 'thus', 'highest', 'pitched', 'instrument', 'soprano', 'in', 'the', 'family', 'in', 'regular', 'use', 'the', 'violin', 'typically', 'has', 'four', 'strings', 'usually', 'tuned', 'in', 'perfect', 'fifths', 'with', 'notes', 'and', 'is', 'most', 'commonly', 'played', 'by', 'drawing', 'bow', 'across', 'its', 'strings', 'it', 'can', 'also', 'be', 'played', 'by', 'plucking', 'the', 'strings', 'with', 'the', 'fingers', 'pizzicato', 'and', 'in', 'specialized', 'cases', 'by', 'striking', 'the', 'strings', 'with', 'the', 'wooden', 'side', 'of', 'the', 'bow', 'col', 'legno', 'violins', 'are', 'important', 'instruments', 'in', 'wide', 'variety', 'of', 'musical', 'genres', 'they', 'are', 'most', 'prominent', 'in', 'the', 'western', 'classical', 'tradition', 'both', 'in', 'ensembles', 'from', 'chamber', 'music', 'to', 'orchestras', 'and', 'as', 'solo', 'instruments', 'violins', 'are', 'also', 'important', 'in', 'many', 'varieties', 'of', 'folk', 'music', 'including', 'country', 'music', 'bluegrass', 'music', 'and', 'in', 'jazz', 'electric', 'violins', 'with', 'solid', 'bodies', 'and', 'piezoelectric', 'pickups', 'are', 'used', 'in', 'some', 'forms', 'of', 'rock', 'music', 'and', 'jazz', 'fusion', 'with', 'the', 'pickups', 'plugged', 'into', 'instrument', 'amplifiers', 'and', 'speakers', 'to', 'produce', 'sound', 'the', 'violin', 'has', 'come', 'to', 'be', 'incorporated', 'in', 'many', 'non', 'western', 'music', 'cultures', 'including', 'indian', 'music', 'and', 'iranian', 'music', 'the', 'name', 'fiddle', 'is', 'often', 'used', 'regardless', 'of', 'the', 'type', 'of', 'music', 'played', 'on', 'it', 'the', 'violin', 'was', 'first', 'known', 'in', 'century', 'italy', 'with', 'some', 'further', 'modifications', 'occurring', 'in', 'the', 'and', 'centuries', 'to', 'give', 'the', 'instrument', 'more', 'powerful', 'sound', 'and', 'projection', 'in', 'europe', 'it', 'served', 'as', 'the', 'basis', 'for', 'the', 'development', 'of', 'other', 'stringed', 'instruments', 'used', 'in', 'western', 'classical', 'music', 'such', 'as', 'the', 'viola', 'violinists', 'and', 'collectors', 'particularly', 'prize', 'the', 'fine', 'historical', 'instruments', 'made', 'by', 'the', 'stradivari', 'guarneri', 'guadagnini', 'and', 'amati', 'families', 'from', 'the', 'to', 'the', 'century', 'in', 'brescia', 'and', 'cremona', 'italy', 'and', 'by', 'jacob', 'stainer', 'in', 'austria', 'according', 'to', 'their', 'reputation', 'the', 'quality', 'of', 'their', 'sound', 'has', 'defied', 'attempts', 'to', 'explain', 'or', 'equal', 'it', 'though', 'this', 'belief', 'is', 'disputed', 'great', 'numbers', 'of', 'instruments', 'have', 'come', 'from', 'the', 'hands', 'of', 'less', 'famous', 'makers', 'as', 'well', 'as', 'still', 'greater', 'numbers', 'of', 'mass', 'produced', 'commercial', 'trade', 'violins', 'coming', 'from', 'cottage', 'industries', 'in', 'places', 'such', 'as', 'saxony', 'bohemia', 'and', 'mirecourt', 'many', 'of', 'these', 'trade', 'instruments', 'were', 'formerly', 'sold', 'by', 'sears', 'roebuck', 'and', 'co', 'and', 'other', 'mass', 'merchandisers', 'the', 'components', 'of', 'violin', 'are', 'usually', 'made', 'from', 'different', 'types', 'of', 'wood', 'violins', 'can', 'be', 'strung', 'with', 'gut', 'perlon', 'or', 'other', 'synthetic', 'or', 'steel', 'strings', 'person', 'who', 'makes', 'or', 'repairs', 'violins', 'is', 'called', 'luthier', 'or', 'violinmaker', 'one', 'who', 'makes', 'or', 'repairs', 'bows', 'is', 'called', 'an', 'archetier', 'or', 'bowmaker'], ['drum', 'kit', 'also', 'called', 'drum', 'set', 'trap', 'set', 'an', 'abbreviation', 'of', 'the', 'word', 'contraption', 'or', 'simply', 'drums', 'is', 'collection', 'of', 'drums', 'cymbals', 'and', 'other', 'percussion', 'instruments', 'which', 'are', 'set', 'up', 'on', 'stands', 'to', 'be', 'played', 'by', 'single', 'player', 'with', 'drumsticks', 'held', 'in', 'both', 'hands', 'and', 'the', 'feet', 'operating', 'pedals', 'that', 'control', 'the', 'hi', 'hat', 'cymbal', 'and', 'the', 'beater', 'for', 'the', 'bass', 'drum', 'drum', 'kit', 'consists', 'of', 'mix', 'of', 'drums', 'categorized', 'classically', 'as', 'membranophones', 'hornbostel', 'sachs', 'high', 'level', 'classification', 'and', 'idiophones', 'most', 'significantly', 'cymbals', 'but', 'can', 'also', 'include', 'the', 'woodblock', 'and', 'cowbell', 'classified', 'as', 'hornbostel', 'sachs', 'high', 'level', 'classification', 'in', 'the', 'some', 'kits', 'also', 'include', 'electronic', 'instruments', 'hornbostel', 'sachs', 'classification', 'also', 'both', 'hybrid', 'mixing', 'acoustic', 'instruments', 'and', 'electronic', 'drums', 'and', 'entirely', 'electronic', 'kits', 'are', 'used', 'standard', 'modern', 'kit', 'for', 'right', 'handed', 'player', 'as', 'used', 'in', 'popular', 'music', 'and', 'taught', 'in', 'music', 'schools', 'contains'], ['the', 'saxophone', 'referred', 'to', 'colloquially', 'as', 'the', 'sax', 'is', 'family', 'of', 'woodwind', 'instruments', 'usually', 'made', 'of', 'brass', 'and', 'played', 'with', 'single', 'reed', 'mouthpiece', 'although', 'most', 'saxophones', 'are', 'made', 'from', 'brass', 'they', 'are', 'categorized', 'as', 'woodwind', 'instruments', 'because', 'sound', 'is', 'produced', 'by', 'an', 'oscillating', 'reed', 'traditionally', 'made', 'out', 'of', 'woody', 'cane', 'rather', 'than', 'lips', 'vibrating', 'in', 'mouthpiece', 'cup', 'as', 'with', 'the', 'brass', 'instrument', 'family', 'as', 'with', 'the', 'other', 'woodwind', 'instruments', 'the', 'pitch', 'of', 'the', 'note', 'being', 'played', 'is', 'controlled', 'by', 'covering', 'holes', 'in', 'the', 'body', 'tube', 'to', 'control', 'the', 'resonant', 'frequency', 'of', 'the', 'air', 'column', 'by', 'changing', 'the', 'effective', 'length', 'of', 'the', 'tube', 'the', 'player', 'covers', 'or', 'uncovers', 'the', 'holes', 'by', 'pressing', 'keys', 'the', 'saxophone', 'is', 'used', 'in', 'classical', 'music', 'such', 'as', 'concert', 'bands', 'chamber', 'music', 'solo', 'repertoire', 'and', 'occasionally', 'orchestras', 'military', 'bands', 'marching', 'bands', 'jazz', 'such', 'as', 'big', 'bands', 'and', 'jazz', 'combos', 'and', 'contemporary', 'music', 'the', 'saxophone', 'is', 'also', 'used', 'as', 'solo', 'and', 'melody', 'instrument', 'or', 'as', 'member', 'of', 'horn', 'section', 'in', 'some', 'styles', 'of', 'rock', 'and', 'roll', 'and', 'popular', 'music', 'saxophone', 'players', 'are', 'called', 'saxophonists', 'since', 'the', 'first', 'saxophone', 'was', 'invented', 'by', 'the', 'belgian', 'instrument', 'maker', 'adolphe', 'sax', 'in', 'the', 'early', 'saxophones', 'have', 'been', 'produced', 'in', 'variety', 'of', 'series', 'distinguished', 'by', 'transpositions', 'within', 'instrument', 'sets', 'and', 'tuning', 'standard', 'sax', 'patented', 'the', 'saxophone', 'on', 'june', 'in', 'two', 'groups', 'of', 'seven', 'instruments', 'each', 'each', 'series', 'consisted', 'of', 'instruments', 'ranked', 'by', 'pitch', 'in', 'alternating', 'transposition', 'the', 'series', 'pitched', 'in', 'and', 'soon', 'became', 'dominant', 'and', 'most', 'saxophones', 'encountered', 'today', 'are', 'from', 'this', 'series', 'instruments', 'from', 'the', 'series', 'pitched', 'in', 'and', 'never', 'gained', 'foothold', 'and', 'constituted', 'only', 'small', 'percentage', 'of', 'instruments', 'made', 'by', 'sax', 'high', 'pitch', 'also', 'marked', 'or', 'hp', 'saxophones', 'tuned', 'sharper', 'than', 'the', 'concert', 'hz', 'standard', 'were', 'produced', 'into', 'the', 'early', 'twentieth', 'century', 'for', 'sonic', 'qualities', 'suited', 'for', 'outdoor', 'uses', 'but', 'are', 'not', 'playable', 'to', 'modern', 'tuning', 'and', 'are', 'considered', 'obsolete', 'low', 'pitch', 'also', 'marked', 'or', 'lp', 'saxophones', 'are', 'equivalent', 'in', 'tuning', 'to', 'modern', 'instruments', 'soprano', 'and', 'melody', 'saxophones', 'were', 'produced', 'for', 'the', 'casual', 'market', 'as', 'parlor', 'instruments', 'during', 'the', 'early', 'twentieth', 'century', 'saxophones', 'in', 'were', 'introduced', 'during', 'the', 'late', 'but', 'never', 'gained', 'acceptance', 'the', 'modern', 'saxophone', 'family', 'consists', 'entirely', 'of', 'instruments', 'in', 'the', 'series', 'historical', 'and', 'experimental', 'instruments', 'notwithstanding', 'the', 'saxophones', 'with', 'widest', 'use', 'and', 'availability', 'are', 'the', 'soprano', 'alto', 'tenor', 'and', 'baritone', 'saxophones'], ['the', 'cello', 'ˈtʃɛloʊ', 'chel', 'oh', 'plural', 'celli', 'or', 'cellos', 'or', 'violoncello', 'ˌvaɪələnˈtʃɛloʊ', 'vy', 'lən', 'chel', 'oh', 'italian', 'pronunciation', 'vjolonˈtʃɛllo', 'is', 'bowed', 'and', 'occasionally', 'plucked', 'string', 'instrument', 'of', 'the', 'violin', 'family', 'its', 'four', 'strings', 'are', 'usually', 'tuned', 'in', 'perfect', 'fifths', 'from', 'low', 'to', 'high', 'and', 'the', 'viola', 'four', 'strings', 'are', 'each', 'an', 'octave', 'higher', 'music', 'for', 'the', 'cello', 'is', 'generally', 'written', 'in', 'the', 'bass', 'clef', 'with', 'tenor', 'clef', 'and', 'treble', 'clef', 'used', 'for', 'higher', 'range', 'passages', 'played', 'by', 'cellist', 'or', 'violoncellist', 'it', 'enjoys', 'large', 'solo', 'repertoire', 'with', 'and', 'without', 'accompaniment', 'as', 'well', 'as', 'numerous', 'concerti', 'as', 'solo', 'instrument', 'the', 'cello', 'uses', 'its', 'whole', 'range', 'from', 'bass', 'to', 'soprano', 'and', 'in', 'chamber', 'music', 'such', 'as', 'string', 'quartets', 'and', 'the', 'orchestra', 'string', 'section', 'it', 'often', 'plays', 'the', 'bass', 'part', 'where', 'it', 'may', 'be', 'reinforced', 'an', 'octave', 'lower', 'by', 'the', 'double', 'basses', 'figured', 'bass', 'music', 'of', 'the', 'baroque', 'era', 'typically', 'assumes', 'cello', 'viola', 'da', 'gamba', 'or', 'bassoon', 'as', 'part', 'of', 'the', 'basso', 'continuo', 'group', 'alongside', 'chordal', 'instruments', 'such', 'as', 'organ', 'harpsichord', 'lute', 'or', 'theorbo', 'cellos', 'are', 'found', 'in', 'many', 'other', 'ensembles', 'from', 'modern', 'chinese', 'orchestras', 'to', 'cello', 'rock', 'bands'], ['the', 'flute', 'is', 'family', 'of', 'musical', 'instruments', 'in', 'the', 'woodwind', 'group', 'unlike', 'woodwind', 'instruments', 'with', 'reeds', 'flute', 'is', 'an', 'aerophone', 'or', 'reedless', 'wind', 'instrument', 'that', 'produces', 'its', 'sound', 'from', 'the', 'flow', 'of', 'air', 'across', 'an', 'opening', 'according', 'to', 'the', 'instrument', 'classification', 'of', 'hornbostel', 'sachs', 'flutes', 'are', 'categorized', 'as', 'edge', 'blown', 'aerophones', 'musician', 'who', 'plays', 'the', 'flute', 'can', 'be', 'referred', 'to', 'as', 'flute', 'player', 'flautist', 'flutist', 'or', 'less', 'commonly', 'fluter', 'or', 'flutenist', 'flutes', 'are', 'the', 'earliest', 'known', 'identifiable', 'musical', 'instruments', 'as', 'paleolithic', 'examples', 'with', 'hand', 'bored', 'holes', 'have', 'been', 'found', 'number', 'of', 'flutes', 'dating', 'to', 'about', 'to', 'years', 'ago', 'have', 'been', 'found', 'in', 'the', 'swabian', 'jura', 'region', 'of', 'present', 'day', 'germany', 'these', 'flutes', 'demonstrate', 'that', 'developed', 'musical', 'tradition', 'existed', 'from', 'the', 'earliest', 'period', 'of', 'modern', 'human', 'presence', 'in', 'europe', 'while', 'the', 'oldest', 'flutes', 'currently', 'known', 'were', 'found', 'in', 'europe', 'asia', 'too', 'has', 'long', 'history', 'with', 'the', 'instrument', 'that', 'has', 'continued', 'into', 'the', 'present', 'day', 'in', 'china', 'playable', 'bone', 'flute', 'was', 'discovered', 'about', 'years', 'old', 'the', 'americas', 'also', 'had', 'an', 'ancient', 'flute', 'culture', 'with', 'instruments', 'found', 'in', 'caral', 'peru', 'dating', 'back', 'years', 'and', 'labrador', 'dating', 'back', 'approximately', 'years', 'historians', 'have', 'found', 'the', 'bamboo', 'flute', 'has', 'long', 'history', 'as', 'well', 'especially', 'china', 'and', 'india', 'flutes', 'made', 'history', 'in', 'records', 'and', 'artworks', 'starting', 'in', 'the', 'zhou', 'dynasty', 'the', 'oldest', 'written', 'sources', 'reveal', 'the', 'chinese', 'were', 'using', 'the', 'kuan', 'reed', 'instrument', 'and', 'hsio', 'or', 'xiao', 'an', 'end', 'blown', 'flute', 'often', 'of', 'bamboo', 'in', 'the', 'centuries', 'followed', 'by', 'the', 'chi', 'or', 'ch', 'ih', 'in', 'the', 'century', 'and', 'the', 'yüeh', 'in', 'the', 'century', 'of', 'these', 'the', 'chi', 'is', 'the', 'oldest', 'documented', 'cross', 'flute', 'or', 'transverse', 'flute', 'and', 'was', 'made', 'from', 'bamboo', 'the', 'cross', 'flute', 'sanscrit', 'vāṃśī', 'was', 'the', 'outstanding', 'wind', 'instrument', 'of', 'ancient', 'india', 'according', 'to', 'curt', 'sachs', 'he', 'said', 'that', 'religious', 'artwork', 'depicting', 'celestial', 'music', 'instruments', 'was', 'linked', 'to', 'music', 'with', 'an', 'aristocratic', 'character', 'the', 'indian', 'bamboo', 'cross', 'flute', 'bansuri', 'was', 'sacred', 'to', 'krishna', 'and', 'he', 'is', 'depicted', 'in', 'hindu', 'art', 'with', 'the', 'instrument', 'in', 'india', 'the', 'cross', 'flute', 'appeared', 'in', 'reliefs', 'from', 'the', 'century', 'at', 'sanchi', 'and', 'amaravati', 'from', 'the', 'centuries', 'in', 'europe', 'although', 'there', 'had', 'been', 'flutes', 'in', 'europe', 'in', 'prehistoric', 'times', 'in', 'more', 'recent', 'millenia', 'the', 'flute', 'was', 'absent', 'from', 'europe', 'until', 'its', 'arrival', 'from', 'asia', 'by', 'way', 'of', 'north', 'africa', 'hungary', 'and', 'bohemia', 'the', 'end', 'blown', 'flute', 'began', 'to', 'be', 'seen', 'in', 'illustration', 'in', 'the', 'century', 'transverse', 'flutes', 'entered', 'europe', 'through', 'byzantium', 'and', 'were', 'depicted', 'in', 'greek', 'art', 'about', 'the', 'transverse', 'spread', 'into', 'europe', 'by', 'way', 'of', 'germany', 'and', 'was', 'known', 'in', 'europe', 'as', 'the', 'german', 'flute'], ['the', 'clarinet', 'is', 'family', 'of', 'woodwind', 'instruments', 'it', 'has', 'single', 'reed', 'mouthpiece', 'straight', 'cylindrical', 'tube', 'with', 'an', 'almost', 'cylindrical', 'bore', 'and', 'flared', 'bell', 'person', 'who', 'plays', 'clarinet', 'is', 'called', 'clarinetist', 'sometimes', 'spelled', 'clarinettist', 'while', 'the', 'similarity', 'in', 'sound', 'between', 'the', 'earliest', 'clarinets', 'and', 'the', 'trumpet', 'may', 'hold', 'clue', 'to', 'its', 'name', 'other', 'factors', 'may', 'have', 'been', 'involved', 'during', 'the', 'late', 'baroque', 'era', 'composers', 'such', 'as', 'bach', 'and', 'handel', 'were', 'making', 'new', 'demands', 'on', 'the', 'skills', 'of', 'their', 'trumpeters', 'who', 'were', 'often', 'required', 'to', 'play', 'difficult', 'melodic', 'passages', 'in', 'the', 'high', 'or', 'as', 'it', 'came', 'to', 'be', 'called', 'clarion', 'register', 'since', 'the', 'trumpets', 'of', 'this', 'time', 'had', 'no', 'valves', 'or', 'pistons', 'melodic', 'passages', 'would', 'often', 'require', 'the', 'use', 'of', 'the', 'highest', 'part', 'of', 'the', 'trumpet', 'range', 'where', 'the', 'harmonics', 'were', 'close', 'enough', 'together', 'to', 'produce', 'scales', 'of', 'adjacent', 'notes', 'as', 'opposed', 'to', 'the', 'gapped', 'scales', 'or', 'arpeggios', 'of', 'the', 'lower', 'register', 'the', 'trumpet', 'parts', 'that', 'required', 'this', 'specialty', 'were', 'known', 'by', 'the', 'term', 'clarino', 'and', 'this', 'in', 'turn', 'came', 'to', 'apply', 'to', 'the', 'musicians', 'themselves', 'it', 'is', 'probable', 'that', 'the', 'term', 'clarinet', 'may', 'stem', 'from', 'the', 'diminutive', 'version', 'of', 'the', 'clarion', 'or', 'clarino', 'and', 'it', 'has', 'been', 'suggested', 'that', 'clarino', 'players', 'may', 'have', 'helped', 'themselves', 'out', 'by', 'playing', 'particularly', 'difficult', 'passages', 'on', 'these', 'newly', 'developed', 'mock', 'trumpets', 'johann', 'christoph', 'denner', 'is', 'generally', 'believed', 'to', 'have', 'invented', 'the', 'clarinet', 'in', 'germany', 'around', 'the', 'year', 'by', 'adding', 'register', 'key', 'to', 'the', 'earlier', 'chalumeau', 'usually', 'in', 'the', 'key', 'of', 'over', 'time', 'additional', 'keywork', 'and', 'airtight', 'pads', 'were', 'added', 'to', 'improve', 'the', 'tone', 'and', 'playability', 'in', 'modern', 'times', 'the', 'most', 'common', 'clarinet', 'is', 'the', 'clarinet', 'however', 'the', 'clarinet', 'in', 'pitched', 'semitone', 'lower', 'is', 'regularly', 'used', 'in', 'orchestral', 'chamber', 'and', 'solo', 'music', 'an', 'orchestral', 'clarinetist', 'must', 'own', 'both', 'clarinet', 'in', 'and', 'since', 'the', 'repertoire', 'is', 'divided', 'fairly', 'evenly', 'between', 'the', 'two', 'since', 'the', 'middle', 'of', 'the', 'century', 'the', 'bass', 'clarinet', 'nowadays', 'invariably', 'in', 'but', 'with', 'extra', 'keys', 'to', 'extend', 'the', 'register', 'down', 'to', 'low', 'written', 'has', 'become', 'an', 'essential', 'addition', 'to', 'the', 'orchestra', 'the', 'clarinet', 'family', 'ranges', 'from', 'the', 'extremely', 'rare', 'bbb', 'octo', 'contrabass', 'to', 'the', 'piccolo', 'clarinet', 'the', 'clarinet', 'has', 'proved', 'to', 'be', 'an', 'exceptionally', 'flexible', 'instrument', 'used', 'in', 'the', 'classical', 'repertoire', 'as', 'in', 'concert', 'bands', 'military', 'bands', 'marching', 'bands', 'klezmer', 'jazz', 'and', 'other', 'styles'], ['the', 'trumpet', 'is', 'brass', 'instrument', 'commonly', 'used', 'in', 'classical', 'and', 'jazz', 'ensembles', 'the', 'trumpet', 'group', 'ranges', 'from', 'the', 'piccolo', 'trumpet', 'with', 'the', 'highest', 'register', 'in', 'the', 'brass', 'family', 'to', 'the', 'bass', 'trumpet', 'which', 'is', 'pitched', 'one', 'octave', 'below', 'the', 'standard', 'or', 'trumpet', 'trumpet', 'like', 'instruments', 'have', 'historically', 'been', 'used', 'as', 'signalling', 'devices', 'in', 'battle', 'or', 'hunting', 'with', 'examples', 'dating', 'back', 'to', 'at', 'least', 'bce', 'they', 'began', 'to', 'be', 'used', 'as', 'musical', 'instruments', 'only', 'in', 'the', 'late', 'or', 'early', 'century', 'trumpets', 'are', 'used', 'in', 'art', 'music', 'styles', 'for', 'instance', 'in', 'orchestras', 'concert', 'bands', 'and', 'jazz', 'ensembles', 'as', 'well', 'as', 'in', 'popular', 'music', 'they', 'are', 'played', 'by', 'blowing', 'air', 'through', 'nearly', 'closed', 'lips', 'called', 'the', 'player', 'embouchure', 'producing', 'buzzing', 'sound', 'that', 'starts', 'standing', 'wave', 'vibration', 'in', 'the', 'air', 'column', 'inside', 'the', 'instrument', 'since', 'the', 'late', 'century', 'trumpets', 'have', 'primarily', 'been', 'constructed', 'of', 'brass', 'tubing', 'usually', 'bent', 'twice', 'into', 'rounded', 'rectangular', 'shape', 'there', 'are', 'many', 'distinct', 'types', 'of', 'trumpet', 'with', 'the', 'most', 'common', 'being', 'pitched', 'in', 'transposing', 'instrument', 'having', 'tubing', 'length', 'of', 'about', 'ft', 'in', 'early', 'trumpets', 'did', 'not', 'provide', 'means', 'to', 'change', 'the', 'length', 'of', 'tubing', 'whereas', 'modern', 'instruments', 'generally', 'have', 'three', 'or', 'sometimes', 'four', 'valves', 'in', 'order', 'to', 'change', 'their', 'pitch', 'there', 'are', 'eight', 'combinations', 'of', 'three', 'valves', 'making', 'seven', 'different', 'tubing', 'lengths', 'with', 'the', 'third', 'valve', 'sometimes', 'used', 'as', 'an', 'alternate', 'fingering', 'equivalent', 'to', 'the', 'combination', 'most', 'trumpets', 'have', 'valves', 'of', 'the', 'piston', 'type', 'while', 'some', 'have', 'the', 'rotary', 'type', 'the', 'use', 'of', 'rotary', 'valved', 'trumpets', 'is', 'more', 'common', 'in', 'orchestral', 'settings', 'especially', 'in', 'german', 'and', 'german', 'style', 'orchestras', 'although', 'this', 'practice', 'varies', 'by', 'country', 'each', 'valve', 'when', 'engaged', 'increases', 'the', 'length', 'of', 'tubing', 'lowering', 'the', 'pitch', 'of', 'the', 'instrument', 'musician', 'who', 'plays', 'the', 'trumpet', 'is', 'called', 'trumpet', 'player', 'or', 'trumpeter'], ['the', 'pipe', 'organ', 'is', 'musical', 'instrument', 'that', 'produces', 'sound', 'by', 'driving', 'pressurized', 'air', 'called', 'wind', 'through', 'the', 'organ', 'pipes', 'selected', 'from', 'keyboard', 'because', 'each', 'pipe', 'produces', 'single', 'pitch', 'the', 'pipes', 'are', 'provided', 'in', 'sets', 'called', 'ranks', 'each', 'of', 'which', 'has', 'common', 'timbre', 'and', 'volume', 'throughout', 'the', 'keyboard', 'compass', 'most', 'organs', 'have', 'many', 'ranks', 'of', 'pipes', 'of', 'differing', 'timbre', 'pitch', 'and', 'volume', 'that', 'the', 'player', 'can', 'employ', 'singly', 'or', 'in', 'combination', 'through', 'the', 'use', 'of', 'controls', 'called', 'stops', 'pipe', 'organ', 'has', 'one', 'or', 'more', 'keyboards', 'called', 'manuals', 'played', 'by', 'the', 'hands', 'and', 'pedal', 'clavier', 'played', 'by', 'the', 'feet', 'each', 'keyboard', 'controls', 'its', 'own', 'division', 'or', 'group', 'of', 'stops', 'the', 'keyboard', 'pedalboard', 'and', 'stops', 'are', 'housed', 'in', 'the', 'organ', 'console', 'the', 'organ', 'continuous', 'supply', 'of', 'wind', 'allows', 'it', 'to', 'sustain', 'notes', 'for', 'as', 'long', 'as', 'the', 'corresponding', 'keys', 'are', 'pressed', 'unlike', 'the', 'piano', 'and', 'harpsichord', 'whose', 'sound', 'begins', 'to', 'dissipate', 'immediately', 'after', 'key', 'is', 'depressed', 'the', 'smallest', 'portable', 'pipe', 'organs', 'may', 'have', 'only', 'one', 'or', 'two', 'dozen', 'pipes', 'and', 'one', 'manual', 'the', 'largest', 'may', 'have', 'over', 'pipes', 'and', 'seven', 'manuals', 'list', 'of', 'some', 'of', 'the', 'most', 'notable', 'and', 'largest', 'pipe', 'organs', 'in', 'the', 'world', 'can', 'be', 'viewed', 'at', 'list', 'of', 'pipe', 'organs', 'list', 'consisting', 'the', 'ranking', 'of', 'the', 'largest', 'organs', 'in', 'the', 'world', 'based', 'on', 'the', 'criterion', 'constructed', 'by', 'michał', 'szostak', 'the', 'number', 'of', 'ranks', 'and', 'additional', 'equipment', 'managed', 'from', 'single', 'console', 'can', 'be', 'found', 'in', 'the', 'organ', 'and', 'in', 'the', 'vox', 'humana', 'the', 'origins', 'of', 'the', 'pipe', 'organ', 'can', 'be', 'traced', 'back', 'to', 'the', 'hydraulis', 'in', 'ancient', 'greece', 'in', 'the', 'century', 'bc', 'in', 'which', 'the', 'wind', 'supply', 'was', 'created', 'by', 'the', 'weight', 'of', 'displaced', 'water', 'in', 'an', 'airtight', 'container', 'by', 'the', 'or', 'century', 'ad', 'bellows', 'were', 'used', 'to', 'supply', 'byzantine', 'organs', 'with', 'wind', 'beginning', 'in', 'the', 'century', 'the', 'organ', 'began', 'to', 'evolve', 'into', 'complex', 'instrument', 'capable', 'of', 'producing', 'different', 'timbres', 'pipe', 'organ', 'with', 'great', 'leaden', 'pipes', 'was', 'sent', 'to', 'the', 'west', 'by', 'the', 'byzantine', 'emperor', 'constantine', 'as', 'gift', 'to', 'pepin', 'the', 'short', 'king', 'of', 'the', 'franks', 'in', 'pepin', 'son', 'charlemagne', 'requested', 'similar', 'organ', 'for', 'his', 'chapel', 'in', 'aachen', 'in', 'beginning', 'the', 'pipe', 'organ', 'establishment', 'in', 'western', 'european', 'church', 'music', 'in', 'england', 'the', 'first', 'organ', 'of', 'which', 'any', 'detailed', 'record', 'exists', 'was', 'built', 'in', 'winchester', 'cathedral', 'in', 'the', 'century', 'it', 'was', 'huge', 'machine', 'with', 'pipes', 'which', 'needed', 'two', 'men', 'to', 'play', 'it', 'and', 'men', 'to', 'blow', 'it', 'and', 'its', 'sound', 'could', 'be', 'heard', 'throughout', 'the', 'city', 'by', 'the', 'century', 'most', 'of', 'the', 'sounds', 'available', 'on', 'the', 'modern', 'classical', 'organ', 'had', 'been', 'developed', 'from', 'that', 'time', 'the', 'pipe', 'organ', 'was', 'the', 'most', 'complex', 'man', 'made', 'device', 'distinction', 'it', 'retained', 'until', 'it', 'was', 'displaced', 'by', 'the', 'telephone', 'exchange', 'in', 'the', 'late', 'century', 'pipe', 'organs', 'are', 'installed', 'in', 'churches', 'synagogues', 'concert', 'halls', 'schools', 'other', 'public', 'buildings', 'and', 'in', 'private', 'properties', 'they', 'are', 'used', 'in', 'the', 'performance', 'of', 'classical', 'music', 'sacred', 'music', 'secular', 'music', 'and', 'popular', 'music', 'in', 'the', 'early', 'century', 'pipe', 'organs', 'were', 'installed', 'in', 'theaters', 'to', 'accompany', 'the', 'screening', 'of', 'films', 'during', 'the', 'silent', 'movie', 'era', 'in', 'municipal', 'auditoria', 'where', 'orchestral', 'transcriptions', 'were', 'popular', 'and', 'in', 'the', 'homes', 'of', 'the', 'wealthy', 'the', 'beginning', 'of', 'the', 'century', 'has', 'seen', 'resurgence', 'in', 'installations', 'in', 'concert', 'halls', 'the', 'organ', 'boasts', 'substantial', 'repertoire', 'which', 'spans', 'over', 'years'], ['the', 'harp', 'is', 'stringed', 'musical', 'instrument', 'that', 'has', 'number', 'of', 'individual', 'strings', 'running', 'at', 'an', 'angle', 'to', 'its', 'soundboard', 'the', 'strings', 'are', 'plucked', 'with', 'the', 'fingers'], ['the', 'ukulele', 'ˌjuːkəˈleɪli', 'yoo', 'kə', 'lay', 'lee', 'from', 'hawaiian', 'ʻukulele', 'ˈʔukuˈlɛlɛ', 'approximately', 'oo', 'koo', 'leh', 'leh', 'is', 'member', 'of', 'the', 'lute', 'family', 'of', 'instruments', 'it', 'generally', 'employs', 'four', 'nylon', 'strings', 'the', 'ukulele', 'is', 'small', 'guitar', 'like', 'instrument', 'which', 'was', 'introduced', 'to', 'hawaii', 'by', 'portuguese', 'immigrants', 'from', 'madeira', 'it', 'gained', 'great', 'popularity', 'elsewhere', 'in', 'the', 'united', 'states', 'during', 'the', 'early', 'century', 'and', 'from', 'there', 'spread', 'internationally', 'the', 'tone', 'and', 'volume', 'of', 'the', 'instrument', 'vary', 'with', 'size', 'and', 'construction', 'ukuleles', 'commonly', 'come', 'in', 'four', 'sizes', 'soprano', 'concert', 'tenor', 'and', 'baritone'], ['the', 'trombone', 'is', 'musical', 'instrument', 'in', 'the', 'brass', 'family', 'as', 'with', 'all', 'brass', 'instruments', 'sound', 'is', 'produced', 'when', 'the', 'player', 'vibrating', 'lips', 'embouchure', 'cause', 'the', 'air', 'column', 'inside', 'the', 'instrument', 'to', 'vibrate', 'unlike', 'most', 'other', 'brass', 'instruments', 'which', 'have', 'valves', 'that', 'when', 'pressed', 'alter', 'the', 'pitch', 'of', 'the', 'instrument', 'trombones', 'instead', 'have', 'telescoping', 'slide', 'mechanism', 'that', 'varies', 'the', 'length', 'of', 'the', 'instrument', 'to', 'change', 'the', 'pitch', 'however', 'many', 'modern', 'trombone', 'models', 'also', 'have', 'valve', 'attachment', 'which', 'lowers', 'the', 'pitch', 'of', 'the', 'instrument', 'variants', 'such', 'as', 'the', 'valve', 'trombone', 'and', 'superbone', 'have', 'three', 'valves', 'similar', 'to', 'those', 'on', 'the', 'trumpet', 'the', 'word', 'trombone', 'derives', 'from', 'italian', 'tromba', 'trumpet', 'and', 'one', 'suffix', 'meaning', 'large', 'so', 'the', 'name', 'means', 'large', 'trumpet', 'the', 'trombone', 'has', 'predominantly', 'cylindrical', 'bore', 'like', 'its', 'valved', 'counterpart', 'the', 'baritone', 'in', 'contrast', 'to', 'its', 'conical', 'valved', 'counterparts', 'the', 'cornet', 'the', 'euphonium', 'and', 'the', 'french', 'horn', 'the', 'most', 'frequently', 'encountered', 'trombones', 'are', 'the', 'tenor', 'trombone', 'and', 'bass', 'trombone', 'the', 'most', 'common', 'variant', 'the', 'tenor', 'is', 'non', 'transposing', 'instrument', 'pitched', 'in', 'an', 'octave', 'below', 'the', 'trumpet', 'and', 'an', 'octave', 'above', 'the', 'pedal', 'tuba', 'the', 'once', 'common', 'alto', 'trombone', 'became', 'less', 'widely', 'used', 'as', 'improvements', 'in', 'technique', 'extended', 'the', 'upper', 'range', 'of', 'the', 'tenor', 'but', 'it', 'is', 'now', 'resurging', 'due', 'to', 'its', 'lighter', 'sonority', 'which', 'is', 'appreciated', 'in', 'many', 'classical', 'and', 'early', 'romantic', 'works', 'trombone', 'music', 'is', 'usually', 'written', 'in', 'concert', 'pitch', 'in', 'either', 'bass', 'or', 'tenor', 'clef', 'although', 'exceptions', 'do', 'occur', 'notably', 'in', 'british', 'brass', 'band', 'music', 'where', 'the', 'tenor', 'trombone', 'is', 'presented', 'as', 'transposing', 'instrument', 'written', 'in', 'treble', 'clef', 'person', 'who', 'plays', 'the', 'trombone', 'is', 'called', 'trombonist', 'or', 'trombone', 'player'], ['the', 'viola', 'viˈoʊlə', 'vee', 'oh', 'lə', 'also', 'uk', 'vaɪˈoʊlə', 'vy', 'oh', 'lə', 'italian', 'ˈvjɔːla', 'viˈɔːla', 'is', 'string', 'instrument', 'that', 'is', 'bowed', 'plucked', 'or', 'played', 'with', 'varying', 'techniques', 'it', 'is', 'slightly', 'larger', 'than', 'violin', 'and', 'has', 'lower', 'and', 'deeper', 'sound', 'since', 'the', 'century', 'it', 'has', 'been', 'the', 'middle', 'or', 'alto', 'voice', 'of', 'the', 'violin', 'family', 'between', 'the', 'violin', 'which', 'is', 'tuned', 'perfect', 'fifth', 'above', 'and', 'the', 'cello', 'which', 'is', 'tuned', 'an', 'octave', 'below', 'the', 'strings', 'from', 'low', 'to', 'high', 'are', 'typically', 'tuned', 'to', 'and', 'in', 'the', 'past', 'the', 'viola', 'varied', 'in', 'size', 'and', 'style', 'as', 'did', 'its', 'names', 'citation', 'needed', 'the', 'word', 'viola', 'originates', 'from', 'the', 'italian', 'language', 'the', 'italians', 'often', 'used', 'the', 'term', 'viola', 'da', 'braccio', 'meaning', 'literally', 'of', 'the', 'arm', 'brazzo', 'was', 'another', 'italian', 'word', 'for', 'the', 'viola', 'which', 'the', 'germans', 'adopted', 'as', 'bratsche', 'the', 'french', 'had', 'their', 'own', 'names', 'cinquiesme', 'was', 'small', 'viola', 'haute', 'contre', 'was', 'large', 'viola', 'and', 'taile', 'was', 'tenor', 'today', 'the', 'french', 'use', 'the', 'term', 'alto', 'reference', 'to', 'its', 'range', 'the', 'viola', 'was', 'popular', 'in', 'the', 'heyday', 'of', 'five', 'part', 'harmony', 'up', 'until', 'the', 'eighteenth', 'century', 'taking', 'three', 'lines', 'of', 'the', 'harmony', 'and', 'occasionally', 'playing', 'the', 'melody', 'line', 'citation', 'needed', 'music', 'for', 'the', 'viola', 'differs', 'from', 'most', 'other', 'instruments', 'in', 'that', 'it', 'primarily', 'uses', 'the', 'alto', 'clef', 'when', 'viola', 'music', 'has', 'substantial', 'sections', 'in', 'higher', 'register', 'it', 'switches', 'to', 'the', 'treble', 'clef', 'to', 'make', 'it', 'easier', 'to', 'read', 'the', 'viola', 'often', 'plays', 'the', 'inner', 'voices', 'in', 'string', 'quartets', 'and', 'symphonic', 'writing', 'and', 'it', 'is', 'more', 'likely', 'than', 'the', 'first', 'violin', 'to', 'play', 'accompaniment', 'parts', 'the', 'viola', 'occasionally', 'plays', 'major', 'soloistic', 'role', 'in', 'orchestral', 'music', 'examples', 'include', 'the', 'symphonic', 'poem', 'don', 'quixote', 'by', 'richard', 'strauss', 'and', 'the', 'symphony', 'concerto', 'harold', 'en', 'italie', 'by', 'hector', 'berlioz', 'citation', 'needed', 'in', 'the', 'earlier', 'part', 'of', 'the', 'century', 'more', 'composers', 'began', 'to', 'write', 'for', 'the', 'viola', 'encouraged', 'by', 'the', 'emergence', 'of', 'specialized', 'soloists', 'such', 'as', 'lionel', 'tertis', 'and', 'william', 'primrose', 'english', 'composers', 'arthur', 'bliss', 'york', 'bowen', 'benjamin', 'dale', 'frank', 'bridge', 'benjamin', 'britten', 'rebecca', 'clarke', 'and', 'ralph', 'vaughan', 'williams', 'all', 'wrote', 'substantial', 'chamber', 'and', 'concert', 'works', 'citation', 'needed', 'many', 'of', 'these', 'pieces', 'were', 'commissioned', 'by', 'or', 'written', 'for', 'lionel', 'tertis', 'citation', 'needed', 'william', 'walton', 'bohuslav', 'martinů', 'toru', 'takemitsu', 'tibor', 'serly', 'alfred', 'schnittke', 'and', 'béla', 'bartók', 'have', 'written', 'well', 'known', 'viola', 'concertos', 'the', 'concerti', 'by', 'béla', 'bartók', 'paul', 'hindemith', 'carl', 'stamitz', 'georg', 'philipp', 'telemann', 'and', 'william', 'walton', 'are', 'considered', 'major', 'works', 'of', 'the', 'viola', 'repertoire', 'citation', 'needed', 'paul', 'hindemith', 'who', 'was', 'violist', 'wrote', 'substantial', 'amount', 'of', 'music', 'for', 'viola', 'including', 'the', 'concerto', 'der', 'schwanendreher'], ['the', 'double', 'bass', 'also', 'known', 'simply', 'as', 'the', 'bass', 'or', 'by', 'other', 'names', 'is', 'the', 'largest', 'and', 'lowest', 'pitched', 'bowed', 'or', 'plucked', 'string', 'instrument', 'in', 'the', 'modern', 'symphony', 'orchestra', 'the', 'bass', 'is', 'standard', 'member', 'of', 'the', 'orchestra', 'string', 'section', 'as', 'well', 'as', 'the', 'concert', 'band', 'and', 'is', 'featured', 'in', 'concertos', 'solo', 'and', 'chamber', 'music', 'in', 'western', 'classical', 'music', 'the', 'bass', 'is', 'used', 'in', 'range', 'of', 'other', 'genres', 'such', 'as', 'jazz', 'style', 'blues', 'and', 'rock', 'and', 'roll', 'rockabilly', 'psychobilly', 'traditional', 'country', 'music', 'bluegrass', 'tango', 'and', 'many', 'types', 'of', 'folk', 'music', 'the', 'bass', 'is', 'transposing', 'instrument', 'and', 'is', 'typically', 'notated', 'one', 'octave', 'higher', 'than', 'tuned', 'to', 'avoid', 'excessive', 'ledger', 'lines', 'below', 'the', 'staff', 'the', 'double', 'bass', 'is', 'the', 'only', 'modern', 'bowed', 'string', 'instrument', 'that', 'is', 'tuned', 'in', 'fourths', 'like', 'viol', 'rather', 'than', 'fifths', 'with', 'strings', 'usually', 'tuned', 'to', 'and', 'the', 'instrument', 'exact', 'lineage', 'is', 'still', 'matter', 'of', 'some', 'debate', 'with', 'scholars', 'divided', 'on', 'whether', 'the', 'bass', 'is', 'derived', 'from', 'the', 'viol', 'or', 'the', 'violin', 'family', 'the', 'double', 'bass', 'is', 'played', 'with', 'bow', 'arco', 'or', 'by', 'plucking', 'the', 'strings', 'pizzicato', 'or', 'via', 'variety', 'of', 'extended', 'techniques', 'in', 'orchestral', 'repertoire', 'and', 'tango', 'music', 'both', 'arco', 'and', 'pizzicato', 'are', 'employed', 'in', 'jazz', 'blues', 'and', 'rockabilly', 'pizzicato', 'is', 'the', 'norm', 'classical', 'music', 'uses', 'the', 'natural', 'sound', 'produced', 'acoustically', 'by', 'the', 'instrument', 'as', 'does', 'traditional', 'bluegrass', 'in', 'jazz', 'blues', 'reggae', 'and', 'related', 'genres', 'the', 'bass', 'is', 'frequently', 'amplified']]\n"
          ],
          "name": "stdout"
        }
      ]
    },
    {
      "cell_type": "code",
      "metadata": {
        "colab": {
          "base_uri": "https://localhost:8080/"
        },
        "id": "FeGol9thAEG2",
        "outputId": "07a7d123-2229-42ae-fbfd-b2202e774127"
      },
      "source": [
        "documents = [TaggedDocument(doc, tags=[df['Category'][i]]) for i, doc in enumerate(tokens)]\r\n",
        "print(documents[0])"
      ],
      "execution_count": 106,
      "outputs": [
        {
          "output_type": "stream",
          "text": [
            "TaggedDocument(['the', 'tiger', 'panthera', 'tigris', 'is', 'the', 'largest', 'extant', 'cat', 'species', 'and', 'member', 'of', 'the', 'genus', 'panthera', 'it', 'is', 'most', 'recognisable', 'for', 'its', 'dark', 'vertical', 'stripes', 'on', 'orange', 'brown', 'fur', 'with', 'lighter', 'underside', 'it', 'is', 'an', 'apex', 'predator', 'primarily', 'preying', 'on', 'ungulates', 'such', 'as', 'deer', 'and', 'wild', 'boar', 'it', 'is', 'territorial', 'and', 'generally', 'solitary', 'but', 'social', 'predator', 'requiring', 'large', 'contiguous', 'areas', 'of', 'habitat', 'which', 'support', 'its', 'requirements', 'for', 'prey', 'and', 'rearing', 'of', 'its', 'offspring', 'tiger', 'cubs', 'stay', 'with', 'their', 'mother', 'for', 'about', 'two', 'years', 'before', 'they', 'become', 'independent', 'and', 'leave', 'their', 'mother', 'home', 'range', 'to', 'establish', 'their', 'own', 'the', 'tiger', 'once', 'ranged', 'widely', 'from', 'the', 'eastern', 'anatolia', 'region', 'in', 'the', 'west', 'to', 'the', 'amur', 'river', 'basin', 'and', 'in', 'the', 'south', 'from', 'the', 'foothills', 'of', 'the', 'himalayas', 'to', 'bali', 'in', 'the', 'sunda', 'islands', 'since', 'the', 'early', 'century', 'tiger', 'populations', 'have', 'lost', 'at', 'least', 'of', 'their', 'historic', 'range', 'and', 'have', 'been', 'extirpated', 'in', 'western', 'and', 'central', 'asia', 'from', 'the', 'islands', 'of', 'java', 'and', 'bali', 'and', 'in', 'large', 'areas', 'of', 'southeast', 'and', 'south', 'asia', 'and', 'china', 'today', 'tiger', 'range', 'is', 'fragmented', 'stretching', 'from', 'siberian', 'temperate', 'forests', 'to', 'subtropical', 'and', 'tropical', 'forests', 'on', 'the', 'indian', 'subcontinent', 'and', 'sumatra', 'the', 'tiger', 'is', 'listed', 'as', 'endangered', 'on', 'the', 'iucn', 'red', 'list', 'as', 'of', 'the', 'global', 'wild', 'tiger', 'population', 'was', 'estimated', 'to', 'number', 'between', 'and', 'mature', 'individuals', 'with', 'most', 'of', 'the', 'populations', 'living', 'in', 'small', 'pockets', 'isolated', 'from', 'each', 'other', 'india', 'currently', 'hosts', 'the', 'largest', 'tiger', 'population', 'major', 'reasons', 'for', 'population', 'decline', 'are', 'habitat', 'destruction', 'habitat', 'fragmentation', 'and', 'poaching', 'tigers', 'are', 'also', 'victims', 'of', 'human', 'wildlife', 'conflict', 'in', 'particular', 'in', 'range', 'countries', 'with', 'high', 'human', 'population', 'density', 'the', 'tiger', 'is', 'among', 'the', 'most', 'recognisable', 'and', 'popular', 'of', 'the', 'world', 'charismatic', 'megafauna', 'it', 'featured', 'prominently', 'in', 'ancient', 'mythology', 'and', 'folklore', 'and', 'continues', 'to', 'be', 'depicted', 'in', 'modern', 'films', 'and', 'literature', 'appearing', 'on', 'many', 'flags', 'coats', 'of', 'arms', 'and', 'as', 'mascots', 'for', 'sporting', 'teams', 'the', 'tiger', 'is', 'the', 'national', 'animal', 'of', 'india', 'bangladesh', 'malaysia', 'and', 'south', 'korea'], ['Animals'])\n"
          ],
          "name": "stdout"
        }
      ]
    },
    {
      "cell_type": "code",
      "metadata": {
        "id": "f_cNexf8MXgM"
      },
      "source": [
        "all = documents"
      ],
      "execution_count": 205,
      "outputs": []
    },
    {
      "cell_type": "code",
      "metadata": {
        "id": "Vq2x49qGS_Ok"
      },
      "source": [
        "train_tagged, test_tagged = train_test_split(all, test_size=0.3, random_state=42)\r\n",
        "all=train_tagged"
      ],
      "execution_count": 206,
      "outputs": []
    },
    {
      "cell_type": "code",
      "metadata": {
        "id": "sH3eZpR6DJcl"
      },
      "source": [
        "#DBOW Distributed Bag of Words dm=0\r\n",
        "#The paragraph vectors are obtained \r\n",
        "#by training a neural network on the task of predicting a probability distribution of words in a paragraph given a randomly-sampled word from the paragraph.\r\n",
        "#DM Distributed Memory dm=1\r\n",
        "#    If dm=0, distributed bag of words (PV-DBOW) is used; if dm=1,‘distributed memory’ (PV-DM) is used.\r\n",
        "   # 300- dimensional feature vectors.\r\n",
        "   # min_count=2, ignores all words with total frequency lower than this.\r\n",
        "   # negative=5 , specifies how many “noise words” should be drawn.\r\n",
        "   #hs=0 , and negative is non-zero, negative sampling will be used.\r\n",
        "   #3 sample=0 , the threshold for configuring which higher-frequency words are randomly down sampled.\r\n",
        "   # workers=cores , use these many worker threads to train the model (=faster training with multicore machines)."
      ],
      "execution_count": 126,
      "outputs": []
    },
    {
      "cell_type": "code",
      "metadata": {
        "id": "cIjoHf45G87Y"
      },
      "source": [
        "import multiprocessing\r\n",
        "cores = multiprocessing.cpu_count()"
      ],
      "execution_count": 207,
      "outputs": []
    },
    {
      "cell_type": "code",
      "metadata": {
        "id": "UY2fMYywODHc"
      },
      "source": [
        "def vec_for_learning(model, tagged_docs):\r\n",
        "    sents = tagged_docs\r\n",
        "    targets, regressors = zip(*[(doc.tags[0], model.infer_vector(doc.words, steps=20)) for doc in sents])\r\n",
        "    return targets, regressors"
      ],
      "execution_count": 208,
      "outputs": []
    },
    {
      "cell_type": "code",
      "metadata": {
        "id": "qMJdPE0eQxSI"
      },
      "source": [
        "model1 = Doc2Vec(dm=0, vector_size=300, negative=5, hs=0, min_count=2, sample = 0, workers=cores)\r\n",
        "model2 = Doc2Vec(dm=0, vector_size=300, negative=5, min_count=1, alpha=0.065, min_alpha=0.065)\r\n",
        "model3 = Doc2Vec(dm=1, dm_mean=1, vector_size=300, window=10, negative=5, min_count=1, workers=5, alpha=0.065, min_alpha=0.065)"
      ],
      "execution_count": 209,
      "outputs": []
    },
    {
      "cell_type": "code",
      "metadata": {
        "id": "eksiN_gJRAAM"
      },
      "source": [
        "model1.build_vocab(all)\r\n",
        "model2.build_vocab(all)\r\n",
        "model3.build_vocab(all)"
      ],
      "execution_count": 210,
      "outputs": []
    },
    {
      "cell_type": "code",
      "metadata": {
        "colab": {
          "base_uri": "https://localhost:8080/"
        },
        "id": "uUxjrLVYRLuS",
        "outputId": "29b5567b-c814-4187-af93-6b4faaa76ec2"
      },
      "source": [
        "%%time\r\n",
        "for epoch in range(30):\r\n",
        "    model1.train(utils.shuffle([x for x in tqdm(all)]), total_examples=len(all), epochs=1)\r\n",
        "    model1.alpha -= 0.002\r\n",
        "    model1.min_alpha = model1.alpha"
      ],
      "execution_count": 211,
      "outputs": [
        {
          "output_type": "stream",
          "text": [
            "100%|██████████| 31/31 [00:00<00:00, 6875.54it/s]\n",
            "100%|██████████| 31/31 [00:00<00:00, 74855.17it/s]\n",
            "100%|██████████| 31/31 [00:00<00:00, 35671.72it/s]\n",
            "100%|██████████| 31/31 [00:00<00:00, 63862.19it/s]\n",
            "100%|██████████| 31/31 [00:00<00:00, 57813.88it/s]\n",
            "100%|██████████| 31/31 [00:00<00:00, 17074.65it/s]\n",
            "100%|██████████| 31/31 [00:00<00:00, 37352.32it/s]\n",
            "100%|██████████| 31/31 [00:00<00:00, 16746.96it/s]\n",
            "100%|██████████| 31/31 [00:00<00:00, 6304.17it/s]\n",
            "100%|██████████| 31/31 [00:00<00:00, 14302.43it/s]\n",
            "100%|██████████| 31/31 [00:00<00:00, 9853.99it/s]\n",
            "100%|██████████| 31/31 [00:00<00:00, 97032.41it/s]\n",
            "100%|██████████| 31/31 [00:00<00:00, 36781.73it/s]\n",
            "100%|██████████| 31/31 [00:00<00:00, 12914.52it/s]\n",
            "100%|██████████| 31/31 [00:00<00:00, 87264.04it/s]\n",
            "100%|██████████| 31/31 [00:00<00:00, 25978.71it/s]\n",
            "100%|██████████| 31/31 [00:00<00:00, 7536.28it/s]\n",
            "100%|██████████| 31/31 [00:00<00:00, 9476.93it/s]\n",
            "100%|██████████| 31/31 [00:00<00:00, 74812.10it/s]\n",
            "100%|██████████| 31/31 [00:00<00:00, 99711.21it/s]\n",
            "100%|██████████| 31/31 [00:00<00:00, 83135.18it/s]\n",
            "100%|██████████| 31/31 [00:00<00:00, 17909.56it/s]\n",
            "100%|██████████| 31/31 [00:00<00:00, 8236.63it/s]\n",
            "100%|██████████| 31/31 [00:00<00:00, 74554.72it/s]\n",
            "100%|██████████| 31/31 [00:00<00:00, 11296.56it/s]\n",
            "100%|██████████| 31/31 [00:00<00:00, 26082.93it/s]\n",
            "100%|██████████| 31/31 [00:00<00:00, 97177.45it/s]\n",
            "100%|██████████| 31/31 [00:00<00:00, 97688.52it/s]\n",
            "100%|██████████| 31/31 [00:00<00:00, 32975.76it/s]\n",
            "100%|██████████| 31/31 [00:00<00:00, 84266.64it/s]\n"
          ],
          "name": "stderr"
        },
        {
          "output_type": "stream",
          "text": [
            "CPU times: user 1.11 s, sys: 72.9 ms, total: 1.18 s\n",
            "Wall time: 1.51 s\n"
          ],
          "name": "stdout"
        }
      ]
    },
    {
      "cell_type": "code",
      "metadata": {
        "colab": {
          "base_uri": "https://localhost:8080/"
        },
        "id": "erXgKcnVRRHj",
        "outputId": "646b936b-3206-4190-a082-688cf0b79617"
      },
      "source": [
        "y_train, X_train = vec_for_learning(model1, train_tagged)\r\n",
        "y_test, X_test = vec_for_learning(model1, test_tagged)\r\n",
        "logreg = LogisticRegression(n_jobs=1, C=1e5)\r\n",
        "logreg.fit(X_train, y_train)\r\n",
        "y_pred = logreg.predict(X_test)\r\n",
        "print('Testing accuracy %s' % accuracy_score(y_test, y_pred))\r\n",
        "print('Testing F1 score: {}'.format(f1_score(y_test, y_pred, average='weighted')))"
      ],
      "execution_count": 212,
      "outputs": [
        {
          "output_type": "stream",
          "text": [
            "Testing accuracy 0.5\n",
            "Testing F1 score: 0.5003607503607503\n"
          ],
          "name": "stdout"
        },
        {
          "output_type": "stream",
          "text": [
            "/usr/local/lib/python3.6/dist-packages/sklearn/linear_model/_logistic.py:940: ConvergenceWarning: lbfgs failed to converge (status=1):\n",
            "STOP: TOTAL NO. of ITERATIONS REACHED LIMIT.\n",
            "\n",
            "Increase the number of iterations (max_iter) or scale the data as shown in:\n",
            "    https://scikit-learn.org/stable/modules/preprocessing.html\n",
            "Please also refer to the documentation for alternative solver options:\n",
            "    https://scikit-learn.org/stable/modules/linear_model.html#logistic-regression\n",
            "  extra_warning_msg=_LOGISTIC_SOLVER_CONVERGENCE_MSG)\n"
          ],
          "name": "stderr"
        }
      ]
    },
    {
      "cell_type": "code",
      "metadata": {
        "id": "U2Vc0Fqpn29y"
      },
      "source": [
        "model1.save('/content/drive/MyDrive/d2v_model_dbow.doc2vec')"
      ],
      "execution_count": 214,
      "outputs": []
    },
    {
      "cell_type": "code",
      "metadata": {
        "id": "dUcgc4d4TZfL"
      },
      "source": [
        "model1.save('/content/drive/MyDrive/d2v_model_dbow.pkl')"
      ],
      "execution_count": 216,
      "outputs": []
    },
    {
      "cell_type": "code",
      "metadata": {
        "colab": {
          "base_uri": "https://localhost:8080/"
        },
        "id": "SqJFqsiaTvGC",
        "outputId": "5245fafc-8ce1-4ee4-d827-b0e466ccf31c"
      },
      "source": [
        "for epoch in range(30):\r\n",
        "    model2.train(utils.shuffle([x for x in tqdm(all)]), total_examples=len(all), epochs=1)\r\n",
        "    model2.alpha -= 0.002\r\n",
        "    model2.min_alpha = model2.alpha\r\n",
        "\r\n",
        "y_train, X_train = vec_for_learning(model2, train_tagged)\r\n",
        "y_test, X_test = vec_for_learning(model2, test_tagged)\r\n",
        "logreg = LogisticRegression(n_jobs=1, C=1e5)\r\n",
        "logreg.fit(X_train, y_train)\r\n",
        "y_pred = logreg.predict(X_test)\r\n",
        "print('Testing accuracy %s' % accuracy_score(y_test, y_pred))\r\n",
        "print('Testing F1 score: {}'.format(f1_score(y_test, y_pred, average='weighted')))"
      ],
      "execution_count": 218,
      "outputs": [
        {
          "output_type": "stream",
          "text": [
            "100%|██████████| 31/31 [00:00<00:00, 91116.63it/s]\n",
            "100%|██████████| 31/31 [00:00<00:00, 7080.34it/s]\n",
            "100%|██████████| 31/31 [00:00<00:00, 45194.10it/s]\n",
            "100%|██████████| 31/31 [00:00<00:00, 156466.21it/s]\n",
            "100%|██████████| 31/31 [00:00<00:00, 54978.19it/s]\n",
            "100%|██████████| 31/31 [00:00<00:00, 7638.10it/s]\n",
            "100%|██████████| 31/31 [00:00<00:00, 122432.60it/s]\n",
            "100%|██████████| 31/31 [00:00<00:00, 121064.64it/s]\n",
            "100%|██████████| 31/31 [00:00<00:00, 49932.19it/s]\n",
            "100%|██████████| 31/31 [00:00<00:00, 135723.82it/s]\n",
            "100%|██████████| 31/31 [00:00<00:00, 119397.08it/s]\n",
            "100%|██████████| 31/31 [00:00<00:00, 46156.70it/s]\n",
            "100%|██████████| 31/31 [00:00<00:00, 124662.92it/s]\n",
            "100%|██████████| 31/31 [00:00<00:00, 162123.97it/s]\n",
            "100%|██████████| 31/31 [00:00<00:00, 171083.45it/s]\n",
            "100%|██████████| 31/31 [00:00<00:00, 168861.59it/s]\n",
            "100%|██████████| 31/31 [00:00<00:00, 135582.30it/s]\n",
            "100%|██████████| 31/31 [00:00<00:00, 139960.63it/s]\n",
            "100%|██████████| 31/31 [00:00<00:00, 151542.45it/s]\n",
            "100%|██████████| 31/31 [00:00<00:00, 165214.01it/s]\n",
            "100%|██████████| 31/31 [00:00<00:00, 153510.54it/s]\n",
            "100%|██████████| 31/31 [00:00<00:00, 155716.68it/s]\n",
            "100%|██████████| 31/31 [00:00<00:00, 27944.00it/s]\n",
            "100%|██████████| 31/31 [00:00<00:00, 155903.39it/s]\n",
            "100%|██████████| 31/31 [00:00<00:00, 153873.87it/s]\n",
            "100%|██████████| 31/31 [00:00<00:00, 147586.18it/s]\n",
            "100%|██████████| 31/31 [00:00<00:00, 51150.05it/s]\n",
            "100%|██████████| 31/31 [00:00<00:00, 97468.83it/s]\n",
            "100%|██████████| 31/31 [00:00<00:00, 42380.52it/s]\n",
            "100%|██████████| 31/31 [00:00<00:00, 137590.92it/s]\n"
          ],
          "name": "stderr"
        },
        {
          "output_type": "stream",
          "text": [
            "Testing accuracy 0.5\n",
            "Testing F1 score: 0.460482374768089\n"
          ],
          "name": "stdout"
        },
        {
          "output_type": "stream",
          "text": [
            "/usr/local/lib/python3.6/dist-packages/sklearn/linear_model/_logistic.py:940: ConvergenceWarning: lbfgs failed to converge (status=1):\n",
            "STOP: TOTAL NO. of ITERATIONS REACHED LIMIT.\n",
            "\n",
            "Increase the number of iterations (max_iter) or scale the data as shown in:\n",
            "    https://scikit-learn.org/stable/modules/preprocessing.html\n",
            "Please also refer to the documentation for alternative solver options:\n",
            "    https://scikit-learn.org/stable/modules/linear_model.html#logistic-regression\n",
            "  extra_warning_msg=_LOGISTIC_SOLVER_CONVERGENCE_MSG)\n"
          ],
          "name": "stderr"
        }
      ]
    },
    {
      "cell_type": "code",
      "metadata": {
        "colab": {
          "base_uri": "https://localhost:8080/"
        },
        "id": "ICej4F-9T7nU",
        "outputId": "85fcd5a2-3455-4d46-9a2b-9bb569a6c979"
      },
      "source": [
        "for epoch in range(30):\r\n",
        "    model3.train(utils.shuffle([x for x in tqdm(all)]), total_examples=len(all), epochs=1)\r\n",
        "    model3.alpha -= 0.002\r\n",
        "    model3.min_alpha = model3.alpha\r\n",
        "\r\n",
        "y_train, X_train = vec_for_learning(model3, train_tagged)\r\n",
        "y_test, X_test = vec_for_learning(model3, test_tagged)\r\n",
        "logreg = LogisticRegression(n_jobs=1, C=1e5)\r\n",
        "logreg.fit(X_train, y_train)\r\n",
        "y_pred = logreg.predict(X_test)\r\n",
        "print('Testing accuracy %s' % accuracy_score(y_test, y_pred))\r\n",
        "print('Testing F1 score: {}'.format(f1_score(y_test, y_pred, average='weighted')))"
      ],
      "execution_count": 220,
      "outputs": [
        {
          "output_type": "stream",
          "text": [
            "100%|██████████| 31/31 [00:00<00:00, 144631.17it/s]\n",
            "100%|██████████| 31/31 [00:00<00:00, 148768.22it/s]\n",
            "100%|██████████| 31/31 [00:00<00:00, 23189.48it/s]\n",
            "100%|██████████| 31/31 [00:00<00:00, 22514.88it/s]\n",
            "100%|██████████| 31/31 [00:00<00:00, 178358.61it/s]\n",
            "100%|██████████| 31/31 [00:00<00:00, 59589.10it/s]\n",
            "100%|██████████| 31/31 [00:00<00:00, 168642.57it/s]\n",
            "100%|██████████| 31/31 [00:00<00:00, 44270.83it/s]\n",
            "100%|██████████| 31/31 [00:00<00:00, 10978.00it/s]\n",
            "100%|██████████| 31/31 [00:00<00:00, 39860.03it/s]\n",
            "100%|██████████| 31/31 [00:00<00:00, 46754.20it/s]\n",
            "100%|██████████| 31/31 [00:00<00:00, 12786.25it/s]\n",
            "100%|██████████| 31/31 [00:00<00:00, 153873.87it/s]\n",
            "100%|██████████| 31/31 [00:00<00:00, 14630.74it/s]\n",
            "100%|██████████| 31/31 [00:00<00:00, 162732.70it/s]\n",
            "100%|██████████| 31/31 [00:00<00:00, 14540.75it/s]\n",
            "100%|██████████| 31/31 [00:00<00:00, 12092.95it/s]\n",
            "100%|██████████| 31/31 [00:00<00:00, 164378.54it/s]\n",
            "100%|██████████| 31/31 [00:00<00:00, 137736.68it/s]\n",
            "100%|██████████| 31/31 [00:00<00:00, 154238.94it/s]\n",
            "100%|██████████| 31/31 [00:00<00:00, 38639.95it/s]\n",
            "100%|██████████| 31/31 [00:00<00:00, 154605.74it/s]\n",
            "100%|██████████| 31/31 [00:00<00:00, 157223.00it/s]\n",
            "100%|██████████| 31/31 [00:00<00:00, 154056.19it/s]\n",
            "100%|██████████| 31/31 [00:00<00:00, 146919.12it/s]\n",
            "100%|██████████| 31/31 [00:00<00:00, 55565.57it/s]\n",
            "100%|██████████| 31/31 [00:00<00:00, 154605.74it/s]\n",
            "100%|██████████| 31/31 [00:00<00:00, 47802.73it/s]\n",
            "100%|██████████| 31/31 [00:00<00:00, 27824.40it/s]\n",
            "100%|██████████| 31/31 [00:00<00:00, 148598.20it/s]\n"
          ],
          "name": "stderr"
        },
        {
          "output_type": "stream",
          "text": [
            "Testing accuracy 0.9285714285714286\n",
            "Testing F1 score: 0.9267161410018553\n"
          ],
          "name": "stdout"
        }
      ]
    },
    {
      "cell_type": "code",
      "metadata": {
        "id": "kmtyRuTfUVkv"
      },
      "source": [
        "model3.save('/content/drive/MyDrive/best92.pkl')"
      ],
      "execution_count": 221,
      "outputs": []
    }
  ]
}