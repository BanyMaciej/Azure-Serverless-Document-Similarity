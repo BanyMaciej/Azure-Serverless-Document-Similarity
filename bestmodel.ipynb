{
  "nbformat": 4,
  "nbformat_minor": 0,
  "metadata": {
    "colab": {
      "name": "bestmodel.ipynb",
      "provenance": [],
      "collapsed_sections": []
    },
    "kernelspec": {
      "name": "python3",
      "display_name": "Python 3"
    }
  },
  "cells": [
    {
      "cell_type": "code",
      "metadata": {
        "id": "1pq6EQxS1fmZ",
        "colab": {
          "base_uri": "https://localhost:8080/"
        },
        "outputId": "ebb5eedb-6d5e-46a4-b583-b41759378208"
      },
      "source": [
        "#Dostęp do dysku\r\n",
        "from google.colab import drive\r\n",
        "drive.mount('/content/drive')"
      ],
      "execution_count": null,
      "outputs": [
        {
          "output_type": "stream",
          "text": [
            "Drive already mounted at /content/drive; to attempt to forcibly remount, call drive.mount(\"/content/drive\", force_remount=True).\n"
          ],
          "name": "stdout"
        }
      ]
    },
    {
      "cell_type": "code",
      "metadata": {
        "id": "CFNIjOO4BF1z",
        "colab": {
          "base_uri": "https://localhost:8080/"
        },
        "outputId": "c46fb924-e6eb-4031-dedc-82edd287a034"
      },
      "source": [
        "#Biblioteki\r\n",
        "import pandas as pd\r\n",
        "import numpy as np\r\n",
        "from tqdm import tqdm\r\n",
        "tqdm.pandas(desc=\"progress-bar\")\r\n",
        "from gensim.models import Doc2Vec\r\n",
        "from sklearn import utils\r\n",
        "from sklearn.model_selection import train_test_split\r\n",
        "import gensim\r\n",
        "from sklearn.linear_model import LogisticRegression\r\n",
        "from gensim.models.doc2vec import TaggedDocument\r\n",
        "import re\r\n",
        "import seaborn as sns\r\n",
        "import matplotlib.pyplot as plt\r\n",
        "from sklearn.metrics import accuracy_score, f1_score\r\n",
        "import nltk\r\n",
        "from nltk.corpus import stopwords\r\n",
        "nltk.download('punkt')\r\n",
        "nltk.download('stopwords')\r\n",
        "import pickle"
      ],
      "execution_count": null,
      "outputs": [
        {
          "output_type": "stream",
          "text": [
            "[nltk_data] Downloading package punkt to /root/nltk_data...\n",
            "[nltk_data]   Package punkt is already up-to-date!\n",
            "[nltk_data] Downloading package stopwords to /root/nltk_data...\n",
            "[nltk_data]   Package stopwords is already up-to-date!\n"
          ],
          "name": "stdout"
        }
      ]
    },
    {
      "cell_type": "code",
      "metadata": {
        "colab": {
          "base_uri": "https://localhost:8080/",
          "height": 424
        },
        "id": "WJA4SPE6lDN6",
        "outputId": "8bf48a9e-e398-484e-cfb5-b4c6cc280ee5"
      },
      "source": [
        "#Wczytanie dnaych do trenowania\r\n",
        "df = pd.read_csv('/content/drive/MyDrive/result.csv', sep='\\t')\r\n",
        "df = df[['Category','Title','RawWiki','CleanWiki']]\r\n",
        "df.head(75)"
      ],
      "execution_count": null,
      "outputs": [
        {
          "output_type": "execute_result",
          "data": {
            "text/html": [
              "<div>\n",
              "<style scoped>\n",
              "    .dataframe tbody tr th:only-of-type {\n",
              "        vertical-align: middle;\n",
              "    }\n",
              "\n",
              "    .dataframe tbody tr th {\n",
              "        vertical-align: top;\n",
              "    }\n",
              "\n",
              "    .dataframe thead th {\n",
              "        text-align: right;\n",
              "    }\n",
              "</style>\n",
              "<table border=\"1\" class=\"dataframe\">\n",
              "  <thead>\n",
              "    <tr style=\"text-align: right;\">\n",
              "      <th></th>\n",
              "      <th>Category</th>\n",
              "      <th>Title</th>\n",
              "      <th>RawWiki</th>\n",
              "      <th>CleanWiki</th>\n",
              "    </tr>\n",
              "  </thead>\n",
              "  <tbody>\n",
              "    <tr>\n",
              "      <th>0</th>\n",
              "      <td>Animals</td>\n",
              "      <td>Tiger</td>\n",
              "      <td>The tiger (Panthera tigris) is the largest ext...</td>\n",
              "      <td>the tiger panthera tigris is the largest extan...</td>\n",
              "    </tr>\n",
              "    <tr>\n",
              "      <th>1</th>\n",
              "      <td>Animals</td>\n",
              "      <td>Rabbit</td>\n",
              "      <td>Rabbits are small mammals in the family Lepori...</td>\n",
              "      <td>rabbits are small mammals in the family lepori...</td>\n",
              "    </tr>\n",
              "    <tr>\n",
              "      <th>2</th>\n",
              "      <td>Animals</td>\n",
              "      <td>Koala Bear</td>\n",
              "      <td>The koala or, inaccurately, koala bear[a]  (Ph...</td>\n",
              "      <td>the koala or inaccurately koala bear a phascol...</td>\n",
              "    </tr>\n",
              "    <tr>\n",
              "      <th>3</th>\n",
              "      <td>Animals</td>\n",
              "      <td>Guinea Pig</td>\n",
              "      <td>The  guinea pig or domestic guinea pig (Cavia ...</td>\n",
              "      <td>the guinea pig or domestic guinea pig cavia po...</td>\n",
              "    </tr>\n",
              "    <tr>\n",
              "      <th>4</th>\n",
              "      <td>Animals</td>\n",
              "      <td>Mouse</td>\n",
              "      <td>A mouse, plural mice, is a small rodent. Chara...</td>\n",
              "      <td>a mouse plural mice is a small rodent characte...</td>\n",
              "    </tr>\n",
              "    <tr>\n",
              "      <th>...</th>\n",
              "      <td>...</td>\n",
              "      <td>...</td>\n",
              "      <td>...</td>\n",
              "      <td>...</td>\n",
              "    </tr>\n",
              "    <tr>\n",
              "      <th>70</th>\n",
              "      <td>Countries</td>\n",
              "      <td>Andorra</td>\n",
              "      <td>Andorra (/ænˈdɔːrə/ (listen), also UK: /ænˈdɒr...</td>\n",
              "      <td>andorra ænˈdɔːrə listen also uk ænˈdɒrə catala...</td>\n",
              "    </tr>\n",
              "    <tr>\n",
              "      <th>71</th>\n",
              "      <td>Countries</td>\n",
              "      <td>Zambia</td>\n",
              "      <td>Zambia (/ˈzæmbiə, ˈzɑːm-/), officially the Rep...</td>\n",
              "      <td>zambia ˈzæmbiə ˈzɑːm officially the republic o...</td>\n",
              "    </tr>\n",
              "    <tr>\n",
              "      <th>72</th>\n",
              "      <td>Countries</td>\n",
              "      <td>Vietnam</td>\n",
              "      <td>Vietnam (also written as Viet Nam, Vietnamese:...</td>\n",
              "      <td>vietnam also written as viet nam vietnamese vi...</td>\n",
              "    </tr>\n",
              "    <tr>\n",
              "      <th>73</th>\n",
              "      <td>Countries</td>\n",
              "      <td>Australia</td>\n",
              "      <td>Australia, officially the Commonwealth of Aust...</td>\n",
              "      <td>australia officially the commonwealth of austr...</td>\n",
              "    </tr>\n",
              "    <tr>\n",
              "      <th>74</th>\n",
              "      <td>Countries</td>\n",
              "      <td>Uzbekistan</td>\n",
              "      <td>Uzbekistan (UK: /ʊzˌbɛkɪˈstɑːn, ʌz-, -ˈstæn/, ...</td>\n",
              "      <td>uzbekistan uk ʊzˌbɛkɪˈstɑːn ʌz ˈstæn us ʊzˈbɛk...</td>\n",
              "    </tr>\n",
              "  </tbody>\n",
              "</table>\n",
              "<p>75 rows × 4 columns</p>\n",
              "</div>"
            ],
            "text/plain": [
              "     Category  ...                                          CleanWiki\n",
              "0     Animals  ...  the tiger panthera tigris is the largest extan...\n",
              "1     Animals  ...  rabbits are small mammals in the family lepori...\n",
              "2     Animals  ...  the koala or inaccurately koala bear a phascol...\n",
              "3     Animals  ...  the guinea pig or domestic guinea pig cavia po...\n",
              "4     Animals  ...  a mouse plural mice is a small rodent characte...\n",
              "..        ...  ...                                                ...\n",
              "70  Countries  ...  andorra ænˈdɔːrə listen also uk ænˈdɒrə catala...\n",
              "71  Countries  ...  zambia ˈzæmbiə ˈzɑːm officially the republic o...\n",
              "72  Countries  ...  vietnam also written as viet nam vietnamese vi...\n",
              "73  Countries  ...  australia officially the commonwealth of austr...\n",
              "74  Countries  ...  uzbekistan uk ʊzˌbɛkɪˈstɑːn ʌz ˈstæn us ʊzˈbɛk...\n",
              "\n",
              "[75 rows x 4 columns]"
            ]
          },
          "metadata": {
            "tags": []
          },
          "execution_count": 227
        }
      ]
    },
    {
      "cell_type": "code",
      "metadata": {
        "id": "e0hG_bg8aeWh",
        "colab": {
          "base_uri": "https://localhost:8080/"
        },
        "outputId": "319a3546-f363-4482-d558-597363b98a43"
      },
      "source": [
        "df.shape"
      ],
      "execution_count": null,
      "outputs": [
        {
          "output_type": "execute_result",
          "data": {
            "text/plain": [
              "(75, 4)"
            ]
          },
          "metadata": {
            "tags": []
          },
          "execution_count": 228
        }
      ]
    },
    {
      "cell_type": "code",
      "metadata": {
        "colab": {
          "base_uri": "https://localhost:8080/"
        },
        "id": "loCHvq2k6j80",
        "outputId": "760f4135-2808-41bc-870b-edf0662b24f3"
      },
      "source": [
        "df['CleanWiki'].apply(lambda x: len(x.split(' '))).sum()"
      ],
      "execution_count": null,
      "outputs": [
        {
          "output_type": "execute_result",
          "data": {
            "text/plain": [
              "24658"
            ]
          },
          "metadata": {
            "tags": []
          },
          "execution_count": 229
        }
      ]
    },
    {
      "cell_type": "code",
      "metadata": {
        "id": "-Gk0y7aF7WaL"
      },
      "source": [
        "def tokenize_text(text):\r\n",
        "  tokens = []\r\n",
        "  for sent in nltk.sent_tokenize(df['CleanWiki'][text]):\r\n",
        "  #for sent in nltk.sent_tokenize(text):\r\n",
        "    #print(sent)\r\n",
        "    for word in nltk.word_tokenize(sent):\r\n",
        "      #print(word)\r\n",
        "      if len(word) < 2:\r\n",
        "        continue\r\n",
        "      tokens.append(word.lower())\r\n",
        "  #print(tokens)\r\n",
        "  return tokens"
      ],
      "execution_count": null,
      "outputs": []
    },
    {
      "cell_type": "code",
      "metadata": {
        "colab": {
          "base_uri": "https://localhost:8080/"
        },
        "id": "eCPOPJlx9T9b",
        "outputId": "913c8e2a-ccb0-4ec8-bea8-99c7c00ef599"
      },
      "source": [
        "print(nltk.sent_tokenize(df['CleanWiki'][1]))"
      ],
      "execution_count": null,
      "outputs": [
        {
          "output_type": "stream",
          "text": [
            "['rabbits are small mammals in the family leporidae along with the hare of the order lagomorpha along with the pika oryctolagus cuniculus includes the european rabbit species and its descendants the world s breeds of domestic rabbit sylvilagus includes wild rabbit species among them the seven types of cottontail the european rabbit which has been introduced on every continent except antarctica is familiar throughout the world as a wild prey animal and as a domesticated form of livestock and pet with its widespread effect on ecologies and cultures the rabbit or bunny is in many areas of the world a part of daily life as food clothing a companion and a source of artistic inspiration although once considered rodents lagomorphs like rabbits have been discovered to have diverged separately and earlier than their rodent cousins and have a number of traits rodents lack like two extra incisors']\n"
          ],
          "name": "stdout"
        }
      ]
    },
    {
      "cell_type": "code",
      "metadata": {
        "colab": {
          "base_uri": "https://localhost:8080/"
        },
        "id": "vmLwSo2d9yFw",
        "outputId": "7203c281-6db8-482c-eb38-901fa8df1b69"
      },
      "source": [
        "en_stops = set(stopwords.words('english'))\r\n",
        "tokens=[]\r\n",
        "for i in range(len(df['CleanWiki'])):\r\n",
        "  toke = tokenize_text(i)\r\n",
        "  #print(toke)\r\n",
        "  one =[]\r\n",
        "  for x in toke:\r\n",
        "    if x not in en_stops:\r\n",
        "      one.append(x)\r\n",
        "  tokens.append(one)\r\n",
        "\r\n",
        "print(tokens)"
      ],
      "execution_count": null,
      "outputs": [
        {
          "output_type": "stream",
          "text": [
            "[['tiger', 'panthera', 'tigris', 'largest', 'extant', 'cat', 'species', 'member', 'genus', 'recognisable', 'dark', 'vertical', 'stripes', 'orange', 'brown', 'fur', 'lighter', 'underside', 'apex', 'predator', 'primarily', 'preying', 'ungulates', 'deer', 'wild', 'boar', 'territorial', 'generally', 'solitary', 'social', 'requiring', 'large', 'contiguous', 'areas', 'habitat', 'support', 'requirements', 'prey', 'rearing', 'offspring', 'cubs', 'stay', 'mother', 'two', 'years', 'become', 'independent', 'leave', 'home', 'range', 'establish', 'ranged', 'widely', 'eastern', 'anatolia', 'region', 'west', 'amur', 'river', 'basin', 'south', 'foothills', 'himalayas', 'bali', 'sunda', 'islands', 'since', 'early', 'century', 'populations', 'lost', 'least', 'historic', 'extirpated', 'western', 'central', 'asia', 'java', 'southeast', 'china', 'today', 'fragmented', 'stretching', 'siberian', 'temperate', 'forests', 'subtropical', 'tropical', 'indian', 'subcontinent', 'sumatra', 'listed', 'endangered', 'iucn', 'red', 'list', 'global', 'population', 'estimated', 'number', 'mature', 'individuals', 'living', 'small', 'pockets', 'isolated', 'india', 'currently', 'hosts', 'major', 'reasons', 'decline', 'destruction', 'fragmentation', 'poaching', 'tigers', 'also', 'victims', 'human', 'wildlife', 'conflict', 'particular', 'countries', 'high', 'density', 'among', 'popular', 'world', 'charismatic', 'megafauna', 'featured', 'prominently', 'ancient', 'mythology', 'folklore', 'continues', 'depicted', 'modern', 'films', 'literature', 'appearing', 'many', 'flags', 'coats', 'arms', 'mascots', 'sporting', 'teams', 'national', 'animal', 'bangladesh', 'malaysia', 'korea'], ['rabbits', 'small', 'mammals', 'family', 'leporidae', 'along', 'hare', 'order', 'lagomorpha', 'pika', 'oryctolagus', 'cuniculus', 'includes', 'european', 'rabbit', 'species', 'descendants', 'world', 'breeds', 'domestic', 'sylvilagus', 'wild', 'among', 'seven', 'types', 'cottontail', 'introduced', 'every', 'continent', 'except', 'antarctica', 'familiar', 'throughout', 'prey', 'animal', 'domesticated', 'form', 'livestock', 'pet', 'widespread', 'effect', 'ecologies', 'cultures', 'bunny', 'many', 'areas', 'part', 'daily', 'life', 'food', 'clothing', 'companion', 'source', 'artistic', 'inspiration', 'although', 'considered', 'rodents', 'lagomorphs', 'like', 'discovered', 'diverged', 'separately', 'earlier', 'rodent', 'cousins', 'number', 'traits', 'lack', 'two', 'extra', 'incisors'], ['koala', 'inaccurately', 'bear', 'phascolarctos', 'cinereus', 'arboreal', 'herbivorous', 'marsupial', 'native', 'australia', 'extant', 'representative', 'family', 'phascolarctidae', 'closest', 'living', 'relatives', 'wombats', 'members', 'vombatidae', 'found', 'coastal', 'areas', 'mainland', 'eastern', 'southern', 'regions', 'inhabiting', 'queensland', 'new', 'south', 'wales', 'victoria', 'easily', 'recognisable', 'stout', 'tailless', 'body', 'large', 'head', 'round', 'fluffy', 'ears', 'spoon', 'shaped', 'nose', 'length', 'cm', 'weighs', 'kg', 'lb', 'fur', 'colour', 'ranges', 'silver', 'grey', 'chocolate', 'brown', 'koalas', 'northern', 'populations', 'typically', 'smaller', 'lighter', 'counterparts', 'possibly', 'separate', 'subspecies', 'disputed', 'inhabit', 'open', 'eucalypt', 'woodlands', 'leaves', 'trees', 'make', 'diet', 'limited', 'nutritional', 'caloric', 'content', 'largely', 'sedentary', 'sleep', 'hours', 'day', 'asocial', 'animals', 'bonding', 'exists', 'mothers', 'dependent', 'offspring', 'adult', 'males', 'communicate', 'loud', 'bellows', 'intimidate', 'rivals', 'attract', 'mates', 'mark', 'presence', 'secretions', 'scent', 'glands', 'located', 'chests', 'marsupials', 'give', 'birth', 'underdeveloped', 'young', 'crawl', 'pouches', 'stay', 'first', 'six', 'seven', 'months', 'lives', 'known', 'joeys', 'fully', 'weaned', 'around', 'year', 'old', 'natural', 'predators', 'parasites', 'threatened', 'various', 'pathogens', 'chlamydiaceae', 'bacteria', 'retrovirus', 'hunted', 'indigenous', 'australians', 'depicted', 'myths', 'cave', 'art', 'millennia', 'recorded', 'encounter', 'european', 'image', 'animal', 'published', 'naturalist', 'george', 'perry', 'botanist', 'robert', 'wrote', 'detailed', 'scientific', 'description', 'although', 'work', 'remained', 'unpublished', 'years', 'popular', 'artist', 'john', 'gould', 'illustrated', 'described', 'introducing', 'species', 'general', 'british', 'public', 'details', 'biology', 'revealed', 'century', 'several', 'english', 'scientists', 'distinctive', 'appearance', 'recognised', 'worldwide', 'symbol', 'listed', 'vulnerable', 'international', 'union', 'conservation', 'nature', 'heavily', 'early', 'scale', 'cullings', 'resulted', 'outcry', 'initiated', 'movement', 'protect', 'sanctuaries', 'established', 'translocation', 'efforts', 'moved', 'whose', 'habitat', 'become', 'fragmented', 'reduced', 'among', 'many', 'threats', 'existence', 'destruction', 'caused', 'agriculture', 'urbanisation', 'droughts', 'associated', 'bushfires', 'related', 'climate', 'change'], ['guinea', 'pig', 'domestic', 'cavia', 'porcellus', 'also', 'known', 'cavy', 'ˈkeɪvi', 'species', 'rodent', 'belonging', 'family', 'caviidae', 'genus', 'despite', 'common', 'name', 'pigs', 'native', 'closely', 'biologically', 'related', 'origin', 'still', 'unclear', 'originated', 'andes', 'south', 'america', 'studies', 'based', 'biochemistry', 'hybridization', 'suggest', 'domesticated', 'descendants', 'tschudii', 'exist', 'naturally', 'wild', 'originally', 'livestock', 'source', 'meat', 'continue', 'consumed', 'food', 'western', 'society', 'enjoyed', 'widespread', 'popularity', 'pocket', 'pet', 'since', 'introduction', 'europe', 'north', 'european', 'traders', 'century', 'docile', 'nature', 'friendly', 'responsiveness', 'handling', 'feeding', 'relative', 'ease', 'caring', 'made', 'continuing', 'popular', 'choice', 'household', 'organizations', 'devoted', 'competitive', 'breeding', 'formed', 'worldwide', 'many', 'specialized', 'breeds', 'varying', 'coat', 'colors', 'textures', 'selected', 'breeders', 'plays', 'important', 'role', 'folk', 'culture', 'indigenous', 'andean', 'peoples', 'especially', 'used', 'medicine', 'community', 'religious', 'ceremonies', 'animals', 'culinary', 'staple', 'mountains', 'cuy', 'modern', 'program', 'started', 'peru', 'resulted', 'large', 'mejorados', 'improved', 'marketers', 'tried', 'increase', 'consumption', 'animal', 'outside', 'biological', 'experimentation', 'carried', 'frequently', 'model', 'organisms', 'centuries', 'epithet', 'came', 'use', 'describe', 'human', 'test', 'subject', 'time', 'largely', 'replaced', 'rodents', 'mice', 'rats', 'however', 'research', 'primarily', 'models', 'study', 'medical', 'conditions', 'juvenile', 'diabetes', 'tuberculosis', 'scurvy', 'like', 'humans', 'require', 'dietary', 'intake', 'vitamin', 'pregnancy', 'complications'], ['mouse', 'plural', 'mice', 'small', 'rodent', 'characteristically', 'known', 'pointed', 'snout', 'rounded', 'ears', 'body', 'length', 'scaly', 'tail', 'high', 'breeding', 'rate', 'best', 'species', 'common', 'house', 'mus', 'musculus', 'also', 'popular', 'pets', 'places', 'certain', 'kinds', 'field', 'locally', 'invade', 'homes', 'food', 'shelter', 'classified', 'order', 'rodentia', 'typical', 'genus', 'typically', 'distinguished', 'rats', 'size', 'generally', 'someone', 'discovers', 'smaller', 'muroid', 'name', 'includes', 'term', 'larger', 'rat', 'terms', 'taxonomically', 'specific', 'scientifically', 'confined', 'members', 'example', 'applies', 'genera', 'deer', 'peromyscus', 'domestic', 'sold', 'often', 'differ', 'substantially', 'attributable', 'different', 'conditions', 'wild', 'strain', 'white', 'lab', 'uniform', 'traits', 'appropriate', 'use', 'research', 'cats', 'dogs', 'foxes', 'birds', 'prey', 'snakes', 'even', 'arthropods', 'heavily', 'upon', 'despite', 'populations', 'remain', 'plentiful', 'due', 'remarkable', 'adaptability', 'almost', 'environment', 'one', 'successful', 'mammalian', 'living', 'earth', 'today', 'contexts', 'considered', 'vermin', 'major', 'source', 'crop', 'damage', 'cause', 'structural', 'spread', 'disease', 'feces', 'carriers', 'parasites', 'north', 'america', 'breathing', 'dust', 'come', 'contact', 'excrement', 'linked', 'hantavirus', 'may', 'lead', 'pulmonary', 'syndrome', 'hps', 'primarily', 'nocturnal', 'animals', 'compensate', 'poor', 'eyesight', 'keen', 'sense', 'hearing', 'depend', 'smell', 'locate', 'avoid', 'predators', 'build', 'intricate', 'burrows', 'long', 'entrances', 'equipped', 'escape', 'tunnels', 'least', 'architectural', 'design', 'burrow', 'genetic', 'trait'], ['penguins', 'order', 'sphenisciformes', 'sfɪˈnɪsɪfɔːrmiːz', 'family', 'spheniscidae', 'sfɪˈnɪsɪdiː', 'group', 'aquatic', 'flightless', 'birds', 'live', 'almost', 'exclusively', 'southern', 'hemisphere', 'one', 'species', 'galápagos', 'penguin', 'found', 'north', 'equator', 'highly', 'adapted', 'life', 'water', 'countershaded', 'dark', 'white', 'plumage', 'flippers', 'swimming', 'feed', 'krill', 'fish', 'squid', 'forms', 'sea', 'catch', 'underwater', 'spend', 'roughly', 'half', 'lives', 'land', 'although', 'native', 'cold', 'climates', 'antarctica', 'fact', 'far', 'south', 'several', 'temperate', 'zone', 'near', 'largest', 'living', 'emperor', 'aptenodytes', 'forsteri', 'average', 'adults', 'ft', 'tall', 'weigh', 'kg', 'lb', 'smallest', 'little', 'blue', 'eudyptula', 'minor', 'also', 'known', 'fairy', 'stands', 'around', 'cm', 'weighs', 'among', 'extant', 'larger', 'inhabit', 'colder', 'regions', 'smaller', 'generally', 'even', 'tropical', 'prehistoric', 'attained', 'enormous', 'sizes', 'becoming', 'heavy', 'adult', 'human', 'restricted', 'antarctic', 'contrary', 'subantarctic', 'harboured', 'high', 'diversity', 'least', 'giant', 'occurred', 'region', 'km', 'mya', 'climate', 'decidedly', 'warmer', 'today'], ['cat', 'felis', 'catus', 'domestic', 'species', 'small', 'carnivorous', 'mammal', 'domesticated', 'family', 'felidae', 'often', 'referred', 'distinguish', 'wild', 'members', 'either', 'house', 'farm', 'feral', 'latter', 'ranges', 'freely', 'avoids', 'human', 'contact', 'cats', 'valued', 'humans', 'companionship', 'ability', 'hunt', 'rodents', 'breeds', 'recognized', 'various', 'registries', 'similar', 'anatomy', 'felid', 'strong', 'flexible', 'body', 'quick', 'reflexes', 'sharp', 'teeth', 'retractable', 'claws', 'adapted', 'killing', 'prey', 'night', 'vision', 'sense', 'smell', 'well', 'developed', 'communication', 'includes', 'vocalizations', 'like', 'meowing', 'purring', 'trilling', 'hissing', 'growling', 'grunting', 'specific', 'language', 'predator', 'active', 'dawn', 'dusk', 'solitary', 'hunter', 'social', 'hear', 'sounds', 'faint', 'high', 'frequency', 'ears', 'made', 'mice', 'mammals', 'secretes', 'perceives', 'pheromones', 'female', 'kittens', 'spring', 'late', 'autumn', 'litter', 'sizes', 'ranging', 'two', 'five', 'bred', 'shown', 'events', 'registered', 'pedigreed', 'hobby', 'known', 'fancy', 'failure', 'control', 'breeding', 'pet', 'spaying', 'neutering', 'abandonment', 'pets', 'resulted', 'large', 'numbers', 'worldwide', 'contributing', 'extinction', 'entire', 'bird', 'reptile', 'evoking', 'population', 'first', 'near', 'east', 'around', 'bc', 'long', 'thought', 'domestication', 'initiated', 'ancient', 'egypt', 'since', 'veneration', 'given', 'update', 'second', 'popular', 'united', 'states', 'million', 'owned', 'kingdom', 'lived', 'households'], ['dog', 'canis', 'familiaris', 'considered', 'distinct', 'species', 'lupus', 'subspecies', 'wolf', 'domesticated', 'carnivore', 'family', 'canidae', 'part', 'like', 'canids', 'widely', 'abundant', 'terrestrial', 'extant', 'gray', 'sister', 'taxa', 'modern', 'wolves', 'closely', 'related', 'first', 'implies', 'direct', 'ancestor', 'extinct', 'selectively', 'bred', 'millennia', 'various', 'behaviors', 'sensory', 'capabilities', 'physical', 'attributes', 'long', 'association', 'humans', 'led', 'dogs', 'uniquely', 'attuned', 'human', 'behavior', 'thrive', 'starch', 'rich', 'diet', 'would', 'inadequate', 'vary', 'shape', 'size', 'colors', 'perform', 'many', 'roles', 'hunting', 'herding', 'pulling', 'loads', 'protection', 'assisting', 'police', 'military', 'companionship', 'recently', 'aiding', 'disabled', 'people', 'therapeutic', 'influence', 'society', 'given', 'sobriquet', 'man', 'best', 'friend'], ['lion', 'panthera', 'leo', 'species', 'family', 'felidae', 'member', 'genus', 'muscular', 'deep', 'chested', 'body', 'short', 'rounded', 'head', 'round', 'ears', 'hairy', 'tuft', 'end', 'tail', 'sexually', 'dimorphic', 'adult', 'male', 'lions', 'prominent', 'mane', 'typical', 'length', 'cm', 'larger', 'females', 'social', 'forming', 'groups', 'called', 'prides', 'pride', 'consists', 'males', 'related', 'cubs', 'female', 'usually', 'hunt', 'together', 'preying', 'mostly', 'large', 'ungulates', 'apex', 'keystone', 'predator', 'although', 'scavenge', 'opportunities', 'occur', 'known', 'humans', 'typically', 'inhabits', 'grasslands', 'savannas', 'absent', 'dense', 'forests', 'diurnal', 'big', 'cats', 'persecuted', 'adapts', 'active', 'night', 'twilight', 'neolithic', 'period', 'ranged', 'central', 'asia', 'southeast', 'europe', 'africa', 'today', 'reduced', 'fragmented', 'populations', 'sub', 'saharan', 'one', 'critically', 'endangered', 'population', 'western', 'india', 'listed', 'vulnerable', 'iucn', 'red', 'list', 'since', 'african', 'countries', 'declined', 'early', 'untenable', 'outside', 'designated', 'protected', 'areas', 'cause', 'decline', 'fully', 'understood', 'habitat', 'loss', 'conflicts', 'greatest', 'causes', 'concern', 'widely', 'recognised', 'animal', 'symbols', 'human', 'culture', 'extensively', 'depicted', 'sculptures', 'paintings', 'national', 'flags', 'contemporary', 'films', 'literature', 'kept', 'menageries', 'time', 'roman', 'empire', 'key', 'sought', 'exhibition', 'zoological', 'gardens', 'across', 'world', 'late', 'century', 'cultural', 'depictions', 'ancient', 'egypt', 'occurred', 'virtually', 'medieval', 'cultures', 'former', 'current', 'ranges'], ['foxes', 'small', 'medium', 'sized', 'omnivorous', 'mammals', 'belonging', 'several', 'genera', 'family', 'canidae', 'flattened', 'skull', 'upright', 'triangular', 'ears', 'pointed', 'slightly', 'upturned', 'snout', 'long', 'bushy', 'tail', 'brush', 'twelve', 'species', 'belong', 'monophyletic', 'true', 'group', 'genus', 'vulpes', 'approximately', 'another', 'current', 'extinct', 'always', 'sometimes', 'called', 'either', 'part', 'paraphyletic', 'south', 'american', 'outlying', 'consists', 'bat', 'eared', 'fox', 'gray', 'island', 'live', 'every', 'continent', 'except', 'antarctica', 'far', 'common', 'widespread', 'red', 'recognized', 'subspecies', 'global', 'distribution', 'together', 'reputation', 'cunning', 'contributed', 'prominence', 'popular', 'culture', 'folklore', 'many', 'societies', 'around', 'world', 'hunting', 'packs', 'hounds', 'established', 'pursuit', 'europe', 'especially', 'british', 'isles', 'exported', 'european', 'settlers', 'various', 'parts', 'new'], ['horse', 'equus', 'ferus', 'caballus', 'one', 'two', 'extant', 'subspecies', 'odd', 'toed', 'ungulate', 'mammal', 'belonging', 'taxonomic', 'family', 'equidae', 'evolved', 'past', 'million', 'years', 'small', 'multi', 'creature', 'eohippus', 'large', 'single', 'animal', 'today', 'humans', 'began', 'domesticating', 'horses', 'around', 'bc', 'domestication', 'believed', 'widespread', 'domesticated', 'although', 'populations', 'live', 'wild', 'feral', 'true', 'term', 'used', 'describe', 'never', 'endangered', 'przewalski', 'separate', 'remaining', 'extensive', 'specialized', 'vocabulary', 'equine', 'related', 'concepts', 'covering', 'everything', 'anatomy', 'life', 'stages', 'size', 'colors', 'markings', 'breeds', 'locomotion', 'behavior', 'adapted', 'run', 'allowing', 'quickly', 'escape', 'predators', 'possessing', 'excellent', 'sense', 'balance', 'strong', 'fight', 'flight', 'response', 'need', 'flee', 'unusual', 'trait', 'able', 'sleep', 'standing', 'lying', 'younger', 'tending', 'significantly', 'adults', 'female', 'called', 'mares', 'carry', 'young', 'approximately', 'months', 'foal', 'stand', 'shortly', 'following', 'birth', 'begin', 'training', 'saddle', 'harness', 'ages', 'four', 'reach', 'full', 'adult', 'development', 'age', 'five', 'average', 'lifespan', 'loosely', 'divided', 'three', 'categories', 'based', 'general', 'temperament', 'spirited', 'hot', 'bloods', 'speed', 'endurance', 'cold', 'draft', 'ponies', 'suitable', 'slow', 'heavy', 'work', 'warmbloods', 'developed', 'crosses', 'often', 'focusing', 'creating', 'specific', 'riding', 'purposes', 'particularly', 'europe', 'world', 'many', 'different', 'uses', 'interact', 'wide', 'variety', 'sport', 'competitions', 'non', 'competitive', 'recreational', 'pursuits', 'well', 'working', 'activities', 'police', 'agriculture', 'entertainment', 'therapy', 'historically', 'warfare', 'driving', 'techniques', 'using', 'styles', 'equipment', 'methods', 'control', 'products', 'derived', 'including', 'meat', 'milk', 'hide', 'hair', 'bone', 'pharmaceuticals', 'extracted', 'urine', 'pregnant', 'provide', 'food', 'water', 'shelter', 'attention', 'specialists', 'veterinarians', 'farriers'], ['zebras', 'subgenus', 'hippotigris', 'african', 'equines', 'distinctive', 'black', 'white', 'striped', 'coats', 'three', 'extant', 'species', 'grévy', 'zebra', 'equus', 'grevyi', 'plains', 'quagga', 'mountain', 'share', 'genus', 'horses', 'asses', 'groups', 'living', 'members', 'family', 'equidae', 'stripes', 'come', 'different', 'patterns', 'unique', 'individual', 'several', 'theories', 'proposed', 'function', 'evidence', 'supporting', 'form', 'protection', 'biting', 'flies', 'inhabit', 'eastern', 'southern', 'africa', 'found', 'variety', 'habitats', 'savannahs', 'grasslands', 'woodlands', 'shrublands', 'mountainous', 'areas', 'primarily', 'grazers', 'subsist', 'lower', 'quality', 'vegetation', 'preyed', 'mainly', 'lions', 'typically', 'flee', 'threatened', 'also', 'bite', 'kick', 'differ', 'social', 'behaviour', 'stable', 'harems', 'consisting', 'adult', 'male', 'stallion', 'females', 'mares', 'young', 'foals', 'live', 'alone', 'loosely', 'associated', 'herds', 'harem', 'holding', 'mate', 'establish', 'territories', 'attract', 'promiscuous', 'communicate', 'various', 'vocalisations', 'body', 'postures', 'facial', 'expressions', 'grooming', 'strengthens', 'bonds', 'dazzling', 'make', 'among', 'recognisable', 'mammals', 'featured', 'art', 'stories', 'beyond', 'historically', 'highly', 'sought', 'exotic', 'animal', 'collectors', 'unlike', 'donkeys', 'never', 'truly', 'domesticated', 'international', 'union', 'conservation', 'nature', 'iucn', 'lists', 'endangered', 'vulnerable', 'near', 'type', 'driven', 'extinction', 'century', 'nevertheless', 'numerous', 'protected'], ['donkey', 'ass', 'equus', 'africanus', 'asinus', 'domesticated', 'member', 'horse', 'family', 'equidae', 'wild', 'ancestor', 'african', 'used', 'working', 'animal', 'least', 'years', 'million', 'donkeys', 'world', 'mostly', 'underdeveloped', 'countries', 'principally', 'draught', 'pack', 'animals', 'often', 'associated', 'living', 'subsistence', 'levels', 'small', 'numbers', 'kept', 'breeding', 'pets', 'developed', 'male', 'called', 'jack', 'female', 'jenny', 'jennet', 'young', 'foal', 'mate', 'horses', 'produce', 'mules', 'biological', 'reciprocal', 'mule', 'stallion', 'parents', 'instead', 'hinny', 'asses', 'first', 'around', 'bc', 'probably', 'egypt', 'mesopotamia', 'spread', 'continue', 'fill', 'important', 'roles', 'many', 'places', 'today', 'species', 'increasing', 'critically', 'endangered', 'beasts', 'burden', 'companions', 'worked', 'together', 'humans', 'millennia'], ['giraffe', 'giraffa', 'african', 'artiodactyl', 'mammal', 'tallest', 'living', 'terrestrial', 'animal', 'largest', 'ruminant', 'traditionally', 'considered', 'one', 'species', 'camelopardalis', 'nine', 'subspecies', 'however', 'existence', 'eight', 'extant', 'described', 'based', 'upon', 'research', 'mitochondrial', 'nuclear', 'dna', 'well', 'morphological', 'measurements', 'seven', 'extinct', 'prehistoric', 'known', 'fossils', 'chief', 'distinguishing', 'characteristics', 'extremely', 'long', 'neck', 'legs', 'horn', 'like', 'ossicones', 'distinctive', 'coat', 'patterns', 'classified', 'family', 'giraffidae', 'along', 'closest', 'relative', 'okapi', 'scattered', 'range', 'extends', 'chad', 'north', 'south', 'africa', 'niger', 'west', 'somalia', 'east', 'giraffes', 'usually', 'inhabit', 'savannahs', 'woodlands', 'food', 'source', 'leaves', 'fruits', 'flowers', 'woody', 'plants', 'primarily', 'acacia', 'browse', 'heights', 'herbivores', 'reach', 'may', 'preyed', 'lions', 'leopards', 'spotted', 'hyenas', 'wild', 'dogs', 'live', 'herds', 'related', 'females', 'offspring', 'bachelor', 'unrelated', 'adult', 'males', 'gregarious', 'gather', 'large', 'aggregations', 'establish', 'social', 'hierarchies', 'necking', 'combat', 'bouts', 'used', 'weapon', 'dominant', 'gain', 'mating', 'access', 'bear', 'sole', 'responsibility', 'raising', 'young', 'intrigued', 'various', 'cultures', 'ancient', 'modern', 'peculiar', 'appearance', 'often', 'featured', 'paintings', 'books', 'cartoons', 'international', 'union', 'conservation', 'nature', 'vulnerable', 'extinction', 'extirpated', 'many', 'parts', 'former', 'still', 'found', 'numerous', 'national', 'parks', 'game', 'reserves', 'estimates', 'indicate', 'approximately', 'members', 'kept', 'zoos'], ['giant', 'panda', 'ailuropoda', 'melanoleuca', 'chinese', '大熊猫', 'pinyin', 'dàxióngmāo', 'also', 'known', 'bear', 'simply', 'native', 'south', 'central', 'china', 'characterised', 'large', 'black', 'patches', 'around', 'eyes', 'ears', 'across', 'round', 'body', 'name', 'sometimes', 'used', 'distinguish', 'red', 'neighboring', 'musteloid', 'though', 'belongs', 'order', 'carnivora', 'folivore', 'bamboo', 'shoots', 'leaves', 'making', 'diet', 'pandas', 'wild', 'occasionally', 'eat', 'grasses', 'tubers', 'even', 'meat', 'form', 'birds', 'rodents', 'carrion', 'captivity', 'may', 'receive', 'honey', 'eggs', 'fish', 'yams', 'shrub', 'oranges', 'bananas', 'along', 'specially', 'prepared', 'food', 'lives', 'mountain', 'ranges', 'mainly', 'sichuan', 'neighbouring', 'shaanxi', 'gansu', 'result', 'farming', 'deforestation', 'development', 'driven', 'lowland', 'areas', 'lived', 'conservation', 'reliant', 'vulnerable', 'species', 'report', 'showed', 'living', 'inside', 'another', 'outside', 'country', 'december', 'zoos', 'different', 'countries', 'population', 'estimates', 'vary', 'one', 'estimate', 'shows', 'individuals', 'study', 'via', 'dna', 'analysis', 'estimated', 'figure', 'could', 'high', 'reports', 'show', 'number', 'rise', 'march', 'news', 'site', 'mongabay', 'stated', 'increased', 'iucn', 'reclassified', 'endangered', 'affirming', 'decade', 'long', 'efforts', 'save', 'dragon', 'often', 'served', 'national', 'symbol', 'internationally', 'filled', 'role', 'becoming', 'widely', 'within', 'international', 'contexts', 'example', 'appearing', 'since', 'gold', 'bullion', 'coins', 'five', 'fuwa', 'mascots', 'beijing', 'olympics'], ['football', 'family', 'team', 'sports', 'involve', 'varying', 'degrees', 'kicking', 'ball', 'score', 'goal', 'unqualified', 'word', 'normally', 'means', 'form', 'popular', 'used', 'commonly', 'called', 'include', 'association', 'known', 'soccer', 'countries', 'gridiron', 'specifically', 'american', 'canadian', 'australian', 'rules', 'rugby', 'either', 'union', 'league', 'gaelic', 'various', 'forms', 'share', 'extent', 'common', 'origins', 'codes', 'number', 'references', 'traditional', 'ancient', 'prehistoric', 'games', 'played', 'many', 'different', 'parts', 'world', 'contemporary', 'traced', 'back', 'codification', 'english', 'public', 'schools', 'century', 'expansion', 'cultural', 'influence', 'british', 'empire', 'allowed', 'spread', 'areas', 'outside', 'directly', 'controlled', 'end', 'distinct', 'regional', 'already', 'developing', 'example', 'deliberately', 'incorporated', 'local', 'order', 'maintain', 'heritage', 'founded', 'england', 'becoming', 'first', 'professional', 'competitions', 'several', 'kinds', 'grew', 'become'], ['badminton', 'racquet', 'sport', 'played', 'using', 'racquets', 'hit', 'shuttlecock', 'across', 'net', 'although', 'may', 'larger', 'teams', 'common', 'forms', 'game', 'singles', 'one', 'player', 'per', 'side', 'doubles', 'two', 'players', 'often', 'casual', 'outdoor', 'activity', 'yard', 'beach', 'formal', 'games', 'rectangular', 'indoor', 'court', 'points', 'scored', 'striking', 'landing', 'within', 'opposing', 'half', 'strike', 'passes', 'play', 'ends', 'struck', 'floor', 'fault', 'called', 'umpire', 'service', 'judge', 'absence', 'feathered', 'informal', 'matches', 'plastic', 'projectile', 'flies', 'differently', 'balls', 'used', 'many', 'sports', 'particular', 'feathers', 'create', 'much', 'higher', 'drag', 'causing', 'decelerate', 'rapidly', 'shuttlecocks', 'also', 'high', 'top', 'speed', 'compared', 'flight', 'gives', 'distinctive', 'nature', 'developed', 'british', 'india', 'earlier', 'battledore', 'european', 'came', 'dominated', 'denmark', 'become', 'popular', 'asia', 'recent', 'competitions', 'china', 'since', 'summer', 'olympic', 'four', 'events', 'men', 'women', 'mixed', 'added', 'years', 'later', 'levels', 'demands', 'excellent', 'fitness', 'require', 'aerobic', 'stamina', 'agility', 'strength', 'precision', 'technical', 'requiring', 'good', 'motor', 'coordination', 'development', 'sophisticated', 'movements'], ['field', 'hockey', 'widely', 'played', 'team', 'sport', 'family', 'game', 'grass', 'watered', 'turf', 'artificial', 'synthetic', 'well', 'indoor', 'boarded', 'surface', 'plays', 'ten', 'players', 'goalkeeper', 'use', 'sticks', 'made', 'wood', 'carbon', 'fibre', 'glass', 'combination', 'different', 'quantities', 'hit', 'round', 'hard', 'plastic', 'ball', 'length', 'stick', 'based', 'player', 'individual', 'height', 'top', 'usually', 'comes', 'hip', 'taller', 'typically', 'longer', 'side', 'flat', 'face', 'allowed', 'used', 'results', 'foul', 'goalies', 'often', 'design', 'although', 'also', 'ordinary', 'specific', 'goal', 'keeping', 'another', 'curve', 'end', 'give', 'area', 'block', 'uniform', 'consists', 'shin', 'guards', 'shoes', 'shorts', 'skirt', 'mouthguard', 'jersey', 'globally', 'particularly', 'parts', 'western', 'europe', 'south', 'asia', 'southern', 'africa', 'australia', 'new', 'zealand', 'argentina', 'united', 'states', 'primarily', 'england', 'mid', 'atlantic', 'known', 'simply', 'territories', 'term', 'canada', 'ice', 'popular', 'sweden', 'landhockey', 'degree', 'norway', 'governed', 'norges', 'bandyforbund', 'play', 'keepers', 'touch', 'part', 'body', 'hand', 'considered', 'holding', 'touched', 'rounded', 'result', 'penalty', 'back', 'scores', 'goals', 'match', 'wins', 'score', 'tied', 'either', 'draw', 'declared', 'goes', 'extra', 'time', 'shoot', 'depending', 'format', 'competition', 'many', 'variations', 'overtime', 'depend', 'league', 'tournament', 'rules', 'american', 'college', 'seven', 'aside', 'period', 'minute', 'golden', 'tie', 'still', 'remains', 'enters', 'one', 'chooses', 'five', 'dribble', 'yard', 'line', 'circle', 'opposing', 'goalie', 'eight', 'seconds', 'bounds', 'ends', 'scored', 'committed', 'ending', 'stroke', 'flick', 'expires', 'persists', 'rounds', 'governing', 'international', 'federation', 'fih', 'called', 'fédération', 'internationale', 'de', 'french', 'men', 'women', 'represented', 'internationally', 'competitions', 'including', 'olympic', 'games', 'world', 'cup', 'champions', 'trophy', 'junior', 'countries', 'running', 'extensive', 'senior', 'masters', 'club', 'responsible', 'organizing', 'board', 'developing', 'variant', 'differs', 'number', 'respects', 'embodying', 'primary', 'principles', 'using', 'reduced', 'approximately', 'ft', 'remain', 'obstruction', 'feet', 'several', 'key', 'may', 'raise', 'unless', 'shooting', 'instead', 'pushes', 'transfer', 'sidelines', 'replaced', 'solid', 'barriers', 'rebound', 'addition', 'regulation', 'guidelines', 'require', 'slightly', 'thinner', 'lighter', 'outdoor'], ['volleyball', 'team', 'sport', 'two', 'teams', 'six', 'players', 'separated', 'net', 'tries', 'score', 'points', 'grounding', 'ball', 'court', 'organized', 'rules', 'part', 'official', 'program', 'summer', 'olympic', 'games', 'since', 'tokyo', 'complete', 'set', 'extensive', 'play', 'essentially', 'proceeds', 'follows', 'player', 'one', 'begins', 'rally', 'serving', 'tossing', 'releasing', 'hitting', 'hand', 'arm', 'behind', 'back', 'boundary', 'line', 'receiving', 'must', 'let', 'grounded', 'within', 'may', 'touch', 'times', 'individual', 'twice', 'consecutively', 'typically', 'first', 'touches', 'used', 'attack', 'attempt', 'direct', 'way', 'unable', 'prevent', 'continues', 'allowed', 'many', 'three', 'consecutive', 'either', 'makes', 'kill', 'opponent', 'winning', 'commits', 'fault', 'loses', 'wins', 'awarded', 'point', 'serves', 'start', 'next', 'common', 'faults', 'include'], ['basketball', 'colloquially', 'referred', 'hoops', 'team', 'sport', 'two', 'teams', 'commonly', 'five', 'players', 'opposing', 'one', 'another', 'rectangular', 'court', 'compete', 'primary', 'objective', 'shooting', 'approximately', 'inches', 'cm', 'diameter', 'defender', 'hoop', 'basket', 'mounted', 'feet', 'high', 'backboard', 'end', 'preventing', 'field', 'goal', 'worth', 'points', 'unless', 'made', 'behind', 'three', 'point', 'line', 'foul', 'timed', 'play', 'stops', 'player', 'fouled', 'designated', 'shoot', 'technical', 'given', 'free', 'throws', 'game', 'wins', 'regulation', 'expires', 'score', 'tied', 'additional', 'period', 'overtime', 'mandated', 'advance', 'ball', 'bouncing', 'walking', 'running', 'dribbling', 'passing', 'teammate', 'require', 'considerable', 'skill', 'offense', 'may', 'use', 'variety', 'shots', 'lay', 'jump', 'shot', 'dunk', 'defense', 'steal', 'dribbler', 'intercept', 'passes', 'block', 'either', 'collect', 'rebound', 'missed', 'bounces', 'rim', 'violation', 'lift', 'drag', 'pivot', 'foot', 'without', 'carry', 'hold', 'hands', 'resume', 'side', 'fall', 'playing', 'positions', 'tallest', 'usually', 'center', 'second', 'strongest', 'power', 'forward', 'slightly', 'shorter', 'agile', 'small', 'shortest', 'best', 'handlers', 'guard', 'implements', 'coach', 'plan', 'managing', 'execution', 'offensive', 'defensive', 'plays', 'positioning', 'informally', 'invented', 'canadian', 'american', 'gym', 'teacher', 'james', 'naismith', 'springfield', 'massachusetts', 'united', 'states', 'evolved', 'become', 'world', 'popular', 'widely', 'viewed', 'sports', 'national', 'association', 'nba', 'significant', 'professional', 'league', 'terms', 'popularity', 'salaries', 'talent', 'level', 'competition', 'outside', 'north', 'america', 'top', 'clubs', 'leagues', 'qualify', 'continental', 'championships', 'euroleague', 'champions', 'americas', 'fiba', 'cup', 'men', 'olympic', 'tournament', 'major', 'international', 'events', 'attract', 'around', 'continent', 'hosts', 'regional', 'competitions', 'like', 'eurobasket', 'americup', 'women', 'feature', 'main', 'wnba', 'ncaa', 'division', 'championship', 'also', 'whereas', 'european', 'participate'], ['tennis', 'racket', 'sport', 'played', 'individually', 'single', 'opponent', 'singles', 'two', 'teams', 'players', 'doubles', 'player', 'uses', 'strung', 'cord', 'strike', 'hollow', 'rubber', 'ball', 'covered', 'felt', 'around', 'net', 'court', 'object', 'game', 'maneuver', 'way', 'able', 'play', 'valid', 'return', 'unable', 'gain', 'point', 'opposite', 'olympic', 'levels', 'society', 'ages', 'anyone', 'hold', 'including', 'wheelchair', 'users', 'modern', 'originated', 'birmingham', 'england', 'late', 'century', 'lawn', 'close', 'connections', 'various', 'field', 'games', 'croquet', 'bowls', 'well', 'older', 'today', 'called', 'real', 'fact', 'term', 'referred', 'rules', 'changed', 'little', 'since', 'exceptions', 'server', 'keep', 'one', 'foot', 'ground', 'times', 'adoption', 'tiebreak', 'recent', 'addition', 'professional', 'electronic', 'review', 'technology', 'coupled', 'challenge', 'system', 'allows', 'contest', 'line', 'call', 'known', 'hawk', 'eye', 'millions', 'recreational', 'also', 'popular', 'worldwide', 'spectator', 'four', 'grand', 'slam', 'tournaments', 'majors', 'especially', 'australian', 'open', 'hard', 'courts', 'french', 'red', 'clay', 'wimbledon', 'grass', 'us'], ['cricket', 'bat', 'ball', 'game', 'played', 'two', 'teams', 'eleven', 'players', 'field', 'centre', 'yard', 'metre', 'pitch', 'wicket', 'end', 'comprising', 'bails', 'balanced', 'three', 'stumps', 'batting', 'side', 'scores', 'runs', 'striking', 'bowled', 'running', 'wickets', 'bowling', 'fielding', 'tries', 'prevent', 'preventing', 'leaving', 'getting', 'either', 'dismiss', 'batter', 'means', 'dismissal', 'include', 'hits', 'dislodges', 'catching', 'hit', 'ground', 'hitting', 'cross', 'crease', 'front', 'ten', 'batters', 'dismissed', 'innings', 'ends', 'swap', 'roles', 'adjudicated', 'umpires', 'aided', 'third', 'umpire', 'match', 'referee', 'international', 'matches', 'communicate', 'scorers', 'record', 'statistical', 'information', 'forms', 'range', 'team', 'single', 'overs', 'test', 'five', 'days', 'traditionally', 'cricketers', 'play', 'white', 'kit', 'limited', 'wear', 'club', 'colours', 'addition', 'basic', 'protective', 'gear', 'injury', 'caused', 'hard', 'solid', 'spheroid', 'made', 'compressed', 'leather', 'slightly', 'raised', 'sewn', 'seam', 'enclosing', 'cork', 'core', 'layered', 'tightly', 'wound', 'string', 'earliest', 'reference', 'south', 'east', 'england', 'mid', 'century', 'spread', 'globally', 'expansion', 'british', 'empire', 'first', 'second', 'half', 'governing', 'body', 'council', 'icc', 'members', 'twelve', 'full', 'rules', 'laws', 'maintained', 'marylebone', 'mcc', 'london', 'sport', 'followed', 'primarily', 'indian', 'subcontinent', 'australasia', 'united', 'kingdom', 'southern', 'africa', 'west', 'indies', 'women', 'organised', 'separately', 'also', 'achieved', 'standard', 'successful', 'playing', 'australia', 'seven', 'one', 'day', 'trophies', 'including', 'world', 'cups', 'country', 'top', 'rated'], ['table', 'tennis', 'also', 'known', 'ping', 'pong', 'whiff', 'whaff', 'sport', 'two', 'four', 'players', 'hit', 'lightweight', 'ball', 'back', 'forth', 'across', 'using', 'small', 'rackets', 'game', 'takes', 'place', 'hard', 'divided', 'net', 'except', 'initial', 'serve', 'rules', 'generally', 'follows', 'must', 'allow', 'played', 'toward', 'bounce', 'one', 'time', 'side', 'return', 'bounces', 'opposite', 'least', 'point', 'scored', 'player', 'fails', 'within', 'play', 'fast', 'demands', 'quick', 'reactions', 'spinning', 'alters', 'trajectory', 'limits', 'opponent', 'options', 'giving', 'hitter', 'great', 'advantage', 'governed', 'worldwide', 'organization', 'international', 'federation', 'ittf', 'founded', 'currently', 'includes', 'member', 'associations', 'official', 'specified', 'handbook', 'olympic', 'since', 'several', 'event', 'categories', 'men', 'singles', 'women', 'doubles', 'team', 'instead'], ['boxing', 'combat', 'sport', 'two', 'people', 'usually', 'wearing', 'protective', 'gloves', 'equipment', 'hand', 'wraps', 'mouthguards', 'throw', 'punches', 'predetermined', 'amount', 'time', 'ring', 'amateur', 'olympic', 'commonwealth', 'games', 'standard', 'fixture', 'international', 'also', 'world', 'championships', 'overseen', 'referee', 'series', 'one', 'three', 'minute', 'intervals', 'called', 'rounds', 'winner', 'resolved', 'completion', 'deems', 'opponent', 'incapable', 'continuing', 'disqualification', 'resignation', 'fight', 'reaches', 'end', 'final', 'round', 'opponents', 'still', 'standing', 'judges', 'scorecards', 'determine', 'victor', 'event', 'fighters', 'gain', 'equal', 'scores', 'professional', 'bouts', 'considered', 'draw', 'must', 'declared', 'award', 'contest', 'fighter', 'technical', 'criteria', 'humans', 'fought', 'since', 'dawn', 'human', 'history', 'earliest', 'evidence', 'fist', 'fighting', 'sporting', 'contests', 'date', 'back', 'ancient', 'near', 'east', 'millennia', 'bc', 'rules', 'greece', 'established', 'game', 'evolved', 'century', 'prizefights', 'largely', 'great', 'britain', 'forerunner', 'modern', 'mid', 'introduction', 'marquess', 'queensberry'], ['golf', 'club', 'ball', 'sport', 'players', 'use', 'various', 'clubs', 'hit', 'balls', 'series', 'holes', 'course', 'strokes', 'possible', 'unlike', 'games', 'utilize', 'standardized', 'playing', 'area', 'coping', 'varied', 'terrains', 'encountered', 'different', 'courses', 'key', 'part', 'game', 'usual', 'level', 'played', 'arranged', 'progression', 'though', 'recreational', 'smaller', 'often', 'nine', 'hole', 'must', 'contain', 'teeing', 'ground', 'start', 'putting', 'green', 'containing', 'actual', 'cup', 'inches', 'cm', 'diameter', 'standard', 'forms', 'terrain', 'fairway', 'rough', 'long', 'grass', 'bunkers', 'sand', 'traps', 'hazards', 'water', 'rocks', 'unique', 'specific', 'layout', 'arrangement', 'lowest', 'number', 'individual', 'known', 'stroke', 'play', 'score', 'complete', 'round', 'team', 'match', 'commonly', 'seen', 'format', 'levels', 'especially', 'elite', 'modern', 'originated', 'century', 'scotland', 'created', 'old', 'st', 'andrews', 'first', 'major', 'world', 'oldest', 'tournament', 'existence', 'open', 'championship', 'also', 'british', 'prestwick', 'ayrshire', 'one', 'four', 'championships', 'men', 'professional', 'three', 'united', 'states', 'masters', 'pga'], ['swimming', 'self', 'propulsion', 'person', 'water', 'usually', 'recreation', 'sport', 'exercise', 'survival', 'locomotion', 'achieved', 'coordinated', 'movement', 'limbs', 'body', 'humans', 'hold', 'breath', 'underwater', 'undertake', 'rudimentary', 'locomotive', 'within', 'weeks', 'birth', 'response', 'consistently', 'among', 'top', 'public', 'recreational', 'activities', 'countries', 'lessons', 'compulsory', 'part', 'educational', 'curriculum', 'formalized', 'features', 'range', 'local', 'national', 'international', 'competitions', 'including', 'every', 'modern', 'summer', 'olympics'], ['handball', 'also', 'known', 'team', 'european', 'olympic', 'sport', 'two', 'teams', 'seven', 'players', 'six', 'outcourt', 'goalkeeper', 'pass', 'ball', 'using', 'hands', 'aim', 'throwing', 'goal', 'standard', 'match', 'consists', 'periods', 'minutes', 'scores', 'goals', 'wins', 'modern', 'played', 'court', 'metres', 'ft', 'middle', 'end', 'surrounded', 'meter', 'zone', 'defending', 'allowed', 'must', 'scored', 'outside', 'diving', 'usually', 'indoors', 'outdoor', 'variants', 'exist', 'forms', 'field', 'czech', 'common', 'past', 'beach', 'game', 'fast', 'high', 'scoring', 'professional', 'typically', 'score', 'though', 'lower', 'uncommon', 'decades', 'ago', 'may', 'hat', 'tricks', 'body', 'contact', 'permitted', 'defenders', 'trying', 'stop', 'attackers', 'approaching', 'protective', 'equipment', 'mandated', 'wear', 'soft', 'bands', 'pads', 'mouth', 'guards', 'codified', 'century', 'denmark', 'set', 'rules', 'published', 'october', 'berlin', 'seen', 'date', 'birth', 'several', 'revisions', 'since', 'first', 'official', 'year', 'germany', 'international', 'games', 'men', 'women', 'summer', 'olympics', 'outdoors', 'next', 'time', 'munich', 'added', 'federation', 'formed', 'update', 'member', 'federations', 'popular', 'europe', 'countries', 'medals', 'one', 'world', 'championships', 'non', 'title', 'south', 'korea', 'brazil', 'enjoys', 'popularity', 'east', 'asia', 'north', 'africa', 'parts', 'america'], ['skiing', 'means', 'transport', 'using', 'skis', 'glide', 'snow', 'variations', 'purpose', 'include', 'basic', 'recreational', 'activity', 'competitive', 'winter', 'sport', 'many', 'types', 'events', 'recognized', 'international', 'olympic', 'committee', 'ioc', 'ski', 'federation', 'fis'], ['cycling', 'also', 'called', 'bicycling', 'biking', 'use', 'bicycles', 'transport', 'recreation', 'exercise', 'sport', 'people', 'engaged', 'referred', 'cyclists', 'bicyclists', 'bikers', 'apart', 'two', 'wheeled', 'includes', 'riding', 'unicycles', 'tricycles', 'quadricycles', 'recumbent', 'similar', 'human', 'powered', 'vehicles', 'hpvs', 'introduced', 'century', 'number', 'approximately', 'one', 'billion', 'worldwide', 'principal', 'means', 'transportation', 'many', 'parts', 'world', 'widely', 'regarded', 'effective', 'efficient', 'mode', 'optimal', 'short', 'moderate', 'distances', 'provide', 'numerous', 'possible', 'benefits', 'comparison', 'motor', 'including', 'sustained', 'physical', 'involved', 'easier', 'parking', 'increased', 'maneuverability', 'access', 'roads', 'bike', 'paths', 'rural', 'trails', 'offers', 'reduced', 'consumption', 'fossil', 'fuels', 'less', 'air', 'noise', 'pollution', 'much', 'traffic', 'congestion', 'lead', 'financial', 'cost', 'user', 'well', 'society', 'large', 'negligible', 'damage', 'road', 'area', 'required', 'fitting', 'bicycle', 'racks', 'front', 'buses', 'transit', 'agencies', 'significantly', 'increase', 'areas', 'serve', 'addition', 'provides', 'variety', 'health', 'organization', 'states', 'reduce', 'risk', 'cancers', 'heart', 'disease', 'diabetes', 'prevalent', 'sedentary', 'lifestyles', 'stationary', 'bikes', 'used', 'part', 'rehabilitation', 'lower', 'limb', 'injuries', 'particularly', 'hip', 'surgery', 'individuals', 'cycle', 'regularly', 'reported', 'mental', 'improvements', 'perceived', 'stress', 'better', 'vitality', 'among', 'disadvantages', 'requirement', 'excepting', 'balanced', 'rider', 'order', 'remain', 'upright', 'protection', 'crashes', 'often', 'longer', 'travel', 'time', 'except', 'densely', 'populated', 'vulnerability', 'weather', 'conditions', 'difficulty', 'transporting', 'passengers', 'fact', 'basic', 'level', 'fitness', 'long'], ['rugby', 'collective', 'name', 'family', 'team', 'sports', 'union', 'league', 'well', 'earlier', 'forms', 'football', 'games', 'australian', 'rules', 'gridiron', 'evolved', 'canadian', 'lesser', 'extent', 'american', 'also', 'broadly', 'considered', 'seldom', 'referred', 'governing', 'body', 'canada', 'known', 'late', 'fifty', 'years', 'sport', 'parted', 'ways', 'established', 'started', 'school', 'warwickshire', 'england', 'although', 'ball', 'carried', 'tossed', 'date', 'medieval', 'times', 'split', 'two', 'twenty', 'one', 'clubs', 'form', 'northern', 'later', 'renamed', 'george', 'hotel', 'huddersfield', 'broken', 'time', 'payments', 'players', 'took', 'work', 'play', 'thus', 'making', 'first', 'code', 'turn', 'professional', 'pay', 'turned', 'hundred', 'following', 'world', 'cup', 'south', 'africa', 'respective', 'bodies', 'international', 'federation', 'many', 'versions', 'played', 'english', 'public', 'schools', 'century', 'initially', 'used', 'wholly', 'separate', 'much', 'similar', 'addition', 'codes', 'beginning'], ['guitar', 'fretted', 'musical', 'instrument', 'usually', 'six', 'strings', 'typically', 'played', 'hands', 'strumming', 'plucking', 'either', 'pick', 'fingers', 'fingernails', 'one', 'hand', 'simultaneously', 'fretting', 'pressing', 'frets', 'sound', 'vibrating', 'projected', 'acoustically', 'means', 'hollow', 'chamber', 'acoustic', 'electrical', 'amplifier', 'speaker', 'type', 'chordophone', 'wherein', 'produced', 'way', 'string', 'stretched', 'two', 'fixed', 'points', 'plucked', 'traditionally', 'constructed', 'wood', 'strung', 'gut', 'nylon', 'steel', 'distinguished', 'chordophones', 'construction', 'tuning', 'modern', 'preceded', 'gittern', 'vihuela', 'four', 'course', 'renaissance', 'five', 'baroque', 'contributed', 'development', 'three', 'main', 'types', 'classical', 'spanish', 'archtop', 'sometimes', 'called', 'jazz', 'tone', 'vibration', 'amplified', 'body', 'acts', 'resonating', 'often', 'solo', 'using', 'comprehensive', 'finger', 'picking', 'technique', 'individually', 'player', 'opposed', 'strummed', 'term', 'also', 'refer', 'specific', 'tradition', 'folk', 'blues', 'bluegrass', 'country', 'playing', 'united', 'states', 'bass', 'pitched', 'octave', 'regular', 'electric', 'guitars', 'introduced', 'use', 'loudspeaker', 'makes', 'loud', 'enough', 'performers', 'audience', 'hear', 'given', 'produces', 'signal', 'electronically', 'manipulate', 'shape', 'equalizer', 'treble', 'controls', 'wide', 'variety', 'electronic', 'effects', 'units', 'commonly', 'used', 'ones', 'distortion', 'overdrive', 'reverb', 'early', 'employed', 'solid', 'began', 'dominate', 'less', 'prone', 'unwanted', 'feedback', 'howls', 'number', 'including', 'hollowbody', 'rockabilly', 'widely', 'rock', 'music', 'sonic', 'power', 'amp', 'key', 'role', 'accompaniment', 'riffs', 'chords', 'performing', 'solos', 'many', 'subgenres', 'notably', 'heavy', 'metal', 'punk', 'major', 'influence', 'popular', 'culture', 'genres', 'worldwide', 'recognized', 'primary', 'flamenco', 'jota', 'mariachi', 'reggae', 'soul', 'pop'], ['piano', 'acoustic', 'stringed', 'musical', 'instrument', 'invented', 'italy', 'bartolomeo', 'cristofori', 'around', 'year', 'exact', 'uncertain', 'strings', 'struck', 'wooden', 'hammers', 'coated', 'softer', 'material', 'modern', 'covered', 'dense', 'wool', 'felt', 'early', 'pianos', 'used', 'leather', 'played', 'using', 'keyboard', 'row', 'keys', 'small', 'levers', 'performer', 'presses', 'strikes', 'fingers', 'thumbs', 'hands', 'cause', 'strike', 'word', 'shortened', 'form', 'pianoforte', 'italian', 'term', 'versions', 'turn', 'derives', 'gravicembalo', 'col', 'forte', 'key', 'cymbal', 'quieter', 'louder', 'fortepiano', 'terms', 'indicate', 'soft', 'loud', 'respectively', 'context', 'referring', 'variations', 'volume', 'loudness', 'produced', 'response', 'pianist', 'touch', 'pressure', 'greater', 'velocity', 'press', 'force', 'hammer', 'hitting', 'sound', 'note', 'stronger', 'attack', 'name', 'created', 'contrast', 'harpsichord', 'allow', 'variation', 'compared', 'first', 'fortepianos', 'smaller', 'dynamic', 'range', 'usually', 'protective', 'case', 'surrounding', 'soundboard', 'metal', 'strung', 'great', 'tension', 'heavy', 'frame', 'pressing', 'one', 'causes', 'plastic', 'typically', 'padded', 'firm', 'rebounds', 'continue', 'vibrate', 'resonant', 'frequency', 'vibrations', 'transmitted', 'bridge', 'amplifies', 'efficiently', 'coupling', 'energy', 'air', 'released', 'damper', 'stops', 'vibration', 'ending', 'notes', 'sustained', 'even', 'use', 'pedals', 'base', 'sustain', 'pedal', 'enables', 'pianists', 'play', 'passages', 'would', 'otherwise', 'impossible', 'sounding', 'chord', 'lower', 'register', 'continued', 'shifting', 'treble', 'melody', 'arpeggios', 'top', 'unlike', 'pipe', 'organ', 'two', 'major', 'instruments', 'widely', 'allows', 'gradations', 'tone', 'according', 'forcefully', 'softly', 'black', 'white', 'scale', 'shorter', 'raised', 'set', 'back', 'means', 'different', 'pitches', 'going', 'deepest', 'bass', 'highest', 'accidentals', 'needed', 'twelve', 'rarely', 'additional', 'require', 'three', 'except', 'graduates', 'sounded', 'pressed', 'silenced', 'dampers', 'lifted', 'although', 'classified', 'percussion', 'rather', 'plucked', 'spinet', 'hornbostel', 'sachs', 'system', 'classification', 'considered', 'chordophones', 'main', 'types', 'grand', 'upright', 'better', 'gives', 'player', 'precise', 'control', 'therefore', 'preferred', 'choice', 'every', 'situation', 'available', 'floor', 'space', 'budget', 'well', 'often', 'requirement', 'venues', 'skilled', 'frequently', 'give', 'public', 'performances', 'necessarily', 'involves', 'compromise', 'action', 'equivalent', 'quality', 'nevertheless', 'much', 'occupies', 'less', 'allowing', 'fit', 'comfortably', 'room', 'large', 'significantly', 'expensive', 'influenced', 'trends', 'romantic', 'music', 'era', 'innovations', 'cast', 'iron', 'allowed', 'string', 'tensions', 'aliquot', 'stringing', 'gave', 'powerful', 'longer', 'richer', 'nineteenth', 'century', 'family', 'role', 'radio', 'phonograph', 'twentieth', 'wanted', 'hear', 'newly', 'published', 'piece', 'symphony', 'could', 'member', 'simplified', 'version', 'publishers', 'many', 'works', 'symphonies', 'opera', 'overtures', 'waltzes', 'etc', 'arrangements', 'lovers', 'popular', 'pieces', 'day', 'home', 'employed', 'classical', 'jazz', 'traditional', 'solo', 'ensemble', 'accompaniment', 'composing', 'songwriting', 'rehearsals', 'thus', 'portable', 'comparison', 'guitar', 'versatility', 'wide', 'pitch', 'ability', 'chords', 'independent', 'lines', 'time', 'number', 'musicians', 'amateurs', 'professionals', 'trained', 'playing', 'availability', 'performance', 'schools', 'rehearsal', 'spaces', 'made', 'western', 'world', 'familiar'], ['violin', 'sometimes', 'known', 'fiddle', 'wooden', 'chordophone', 'string', 'instrument', 'family', 'violins', 'hollow', 'body', 'smallest', 'thus', 'highest', 'pitched', 'soprano', 'regular', 'use', 'typically', 'four', 'strings', 'usually', 'tuned', 'perfect', 'fifths', 'notes', 'commonly', 'played', 'drawing', 'bow', 'across', 'also', 'plucking', 'fingers', 'pizzicato', 'specialized', 'cases', 'striking', 'side', 'col', 'legno', 'important', 'instruments', 'wide', 'variety', 'musical', 'genres', 'prominent', 'western', 'classical', 'tradition', 'ensembles', 'chamber', 'music', 'orchestras', 'solo', 'many', 'varieties', 'folk', 'including', 'country', 'bluegrass', 'jazz', 'electric', 'solid', 'bodies', 'piezoelectric', 'pickups', 'used', 'forms', 'rock', 'fusion', 'plugged', 'amplifiers', 'speakers', 'produce', 'sound', 'come', 'incorporated', 'non', 'cultures', 'indian', 'iranian', 'name', 'often', 'regardless', 'type', 'first', 'century', 'italy', 'modifications', 'occurring', 'centuries', 'give', 'powerful', 'projection', 'europe', 'served', 'basis', 'development', 'stringed', 'viola', 'violinists', 'collectors', 'particularly', 'prize', 'fine', 'historical', 'made', 'stradivari', 'guarneri', 'guadagnini', 'amati', 'families', 'brescia', 'cremona', 'jacob', 'stainer', 'austria', 'according', 'reputation', 'quality', 'defied', 'attempts', 'explain', 'equal', 'though', 'belief', 'disputed', 'great', 'numbers', 'hands', 'less', 'famous', 'makers', 'well', 'still', 'greater', 'mass', 'produced', 'commercial', 'trade', 'coming', 'cottage', 'industries', 'places', 'saxony', 'bohemia', 'mirecourt', 'formerly', 'sold', 'sears', 'roebuck', 'co', 'merchandisers', 'components', 'different', 'types', 'wood', 'strung', 'gut', 'perlon', 'synthetic', 'steel', 'person', 'makes', 'repairs', 'called', 'luthier', 'violinmaker', 'one', 'bows', 'archetier', 'bowmaker'], ['drum', 'kit', 'also', 'called', 'set', 'trap', 'abbreviation', 'word', 'contraption', 'simply', 'drums', 'collection', 'cymbals', 'percussion', 'instruments', 'stands', 'played', 'single', 'player', 'drumsticks', 'held', 'hands', 'feet', 'operating', 'pedals', 'control', 'hi', 'hat', 'cymbal', 'beater', 'bass', 'consists', 'mix', 'categorized', 'classically', 'membranophones', 'hornbostel', 'sachs', 'high', 'level', 'classification', 'idiophones', 'significantly', 'include', 'woodblock', 'cowbell', 'classified', 'kits', 'electronic', 'hybrid', 'mixing', 'acoustic', 'entirely', 'used', 'standard', 'modern', 'right', 'handed', 'popular', 'music', 'taught', 'schools', 'contains'], ['saxophone', 'referred', 'colloquially', 'sax', 'family', 'woodwind', 'instruments', 'usually', 'made', 'brass', 'played', 'single', 'reed', 'mouthpiece', 'although', 'saxophones', 'categorized', 'sound', 'produced', 'oscillating', 'traditionally', 'woody', 'cane', 'rather', 'lips', 'vibrating', 'cup', 'instrument', 'pitch', 'note', 'controlled', 'covering', 'holes', 'body', 'tube', 'control', 'resonant', 'frequency', 'air', 'column', 'changing', 'effective', 'length', 'player', 'covers', 'uncovers', 'pressing', 'keys', 'used', 'classical', 'music', 'concert', 'bands', 'chamber', 'solo', 'repertoire', 'occasionally', 'orchestras', 'military', 'marching', 'jazz', 'big', 'combos', 'contemporary', 'also', 'melody', 'member', 'horn', 'section', 'styles', 'rock', 'roll', 'popular', 'players', 'called', 'saxophonists', 'since', 'first', 'invented', 'belgian', 'maker', 'adolphe', 'early', 'variety', 'series', 'distinguished', 'transpositions', 'within', 'sets', 'tuning', 'standard', 'patented', 'june', 'two', 'groups', 'seven', 'consisted', 'ranked', 'alternating', 'transposition', 'pitched', 'soon', 'became', 'dominant', 'encountered', 'today', 'never', 'gained', 'foothold', 'constituted', 'small', 'percentage', 'high', 'marked', 'hp', 'tuned', 'sharper', 'hz', 'twentieth', 'century', 'sonic', 'qualities', 'suited', 'outdoor', 'uses', 'playable', 'modern', 'considered', 'obsolete', 'low', 'lp', 'equivalent', 'soprano', 'casual', 'market', 'parlor', 'introduced', 'late', 'acceptance', 'consists', 'entirely', 'historical', 'experimental', 'notwithstanding', 'widest', 'use', 'availability', 'alto', 'tenor', 'baritone'], ['cello', 'ˈtʃɛloʊ', 'chel', 'oh', 'plural', 'celli', 'cellos', 'violoncello', 'ˌvaɪələnˈtʃɛloʊ', 'vy', 'lən', 'italian', 'pronunciation', 'vjolonˈtʃɛllo', 'bowed', 'occasionally', 'plucked', 'string', 'instrument', 'violin', 'family', 'four', 'strings', 'usually', 'tuned', 'perfect', 'fifths', 'low', 'high', 'viola', 'octave', 'higher', 'music', 'generally', 'written', 'bass', 'clef', 'tenor', 'treble', 'used', 'range', 'passages', 'played', 'cellist', 'violoncellist', 'enjoys', 'large', 'solo', 'repertoire', 'without', 'accompaniment', 'well', 'numerous', 'concerti', 'uses', 'whole', 'soprano', 'chamber', 'quartets', 'orchestra', 'section', 'often', 'plays', 'part', 'may', 'reinforced', 'lower', 'double', 'basses', 'figured', 'baroque', 'era', 'typically', 'assumes', 'da', 'gamba', 'bassoon', 'basso', 'continuo', 'group', 'alongside', 'chordal', 'instruments', 'organ', 'harpsichord', 'lute', 'theorbo', 'found', 'many', 'ensembles', 'modern', 'chinese', 'orchestras', 'rock', 'bands'], ['flute', 'family', 'musical', 'instruments', 'woodwind', 'group', 'unlike', 'reeds', 'aerophone', 'reedless', 'wind', 'instrument', 'produces', 'sound', 'flow', 'air', 'across', 'opening', 'according', 'classification', 'hornbostel', 'sachs', 'flutes', 'categorized', 'edge', 'blown', 'aerophones', 'musician', 'plays', 'referred', 'player', 'flautist', 'flutist', 'less', 'commonly', 'fluter', 'flutenist', 'earliest', 'known', 'identifiable', 'paleolithic', 'examples', 'hand', 'bored', 'holes', 'found', 'number', 'dating', 'years', 'ago', 'swabian', 'jura', 'region', 'present', 'day', 'germany', 'demonstrate', 'developed', 'tradition', 'existed', 'period', 'modern', 'human', 'presence', 'europe', 'oldest', 'currently', 'asia', 'long', 'history', 'continued', 'china', 'playable', 'bone', 'discovered', 'dated', 'approximately', 'old', 'americas', 'also', 'ancient', 'culture', 'caral', 'peru', 'back', 'labrador', 'historians', 'bamboo', 'well', 'especially', 'india', 'historical', 'records', 'artworks', 'starting', 'zhou', 'dynasty', 'written', 'sources', 'reveal', 'chinese', 'using', 'kuan', 'reed', 'hsio', 'xiao', 'end', 'often', 'centuries', 'followed', 'chi', 'ch', 'ih', 'century', 'yüeh', 'documented', 'cross', 'transverse', 'made', 'sanscrit', 'vāṃśī', 'outstanding', 'curt', 'said', 'religious', 'artwork', 'depicting', 'celestial', 'music', 'linked', 'aristocratic', 'character', 'indian', 'bansuri', 'sacred', 'krishna', 'depicted', 'hindu', 'art', 'appeared', 'reliefs', 'sanchi', 'amaravati', 'although', 'prehistoric', 'times', 'recent', 'millenia', 'absent', 'subcontinent', 'arrival', 'way', 'north', 'africa', 'hungary', 'bohemia', 'historian', 'alexander', 'buchner', 'began', 'seen', 'illustration', 'entered', 'byzantium', 'greek', 'spread', 'german'], ['clarinet', 'family', 'woodwind', 'instruments', 'single', 'reed', 'mouthpiece', 'straight', 'cylindrical', 'tube', 'almost', 'bore', 'flared', 'bell', 'person', 'plays', 'called', 'clarinetist', 'sometimes', 'spelled', 'clarinettist', 'similarity', 'sound', 'earliest', 'clarinets', 'trumpet', 'may', 'hold', 'clue', 'name', 'factors', 'involved', 'late', 'baroque', 'era', 'composers', 'bach', 'handel', 'making', 'new', 'demands', 'skills', 'trumpeters', 'often', 'required', 'play', 'difficult', 'melodic', 'passages', 'high', 'came', 'clarion', 'register', 'since', 'trumpets', 'time', 'valves', 'pistons', 'would', 'require', 'use', 'highest', 'part', 'range', 'harmonics', 'close', 'enough', 'together', 'produce', 'scales', 'adjacent', 'notes', 'opposed', 'gapped', 'arpeggios', 'lower', 'parts', 'specialty', 'known', 'term', 'clarino', 'turn', 'apply', 'musicians', 'probable', 'stem', 'diminutive', 'version', 'suggested', 'players', 'helped', 'playing', 'particularly', 'newly', 'developed', 'mock', 'johann', 'christoph', 'denner', 'generally', 'believed', 'invented', 'germany', 'around', 'year', 'adding', 'key', 'earlier', 'chalumeau', 'usually', 'additional', 'keywork', 'airtight', 'pads', 'added', 'improve', 'tone', 'playability', 'modern', 'times', 'common', 'however', 'pitched', 'semitone', 'regularly', 'used', 'orchestral', 'chamber', 'solo', 'music', 'must', 'repertoire', 'divided', 'fairly', 'evenly', 'two', 'middle', 'century', 'bass', 'nowadays', 'invariably', 'extra', 'keys', 'extend', 'low', 'written', 'become', 'essential', 'addition', 'orchestra', 'ranges', 'extremely', 'rare', 'bbb', 'octo', 'contrabass', 'piccolo', 'proved', 'exceptionally', 'flexible', 'instrument', 'classical', 'concert', 'bands', 'military', 'marching', 'klezmer', 'jazz', 'styles'], ['trumpet', 'brass', 'instrument', 'commonly', 'used', 'classical', 'jazz', 'ensembles', 'group', 'ranges', 'piccolo', 'highest', 'register', 'family', 'bass', 'pitched', 'one', 'octave', 'standard', 'like', 'instruments', 'historically', 'signalling', 'devices', 'battle', 'hunting', 'examples', 'dating', 'back', 'least', 'bce', 'began', 'musical', 'late', 'early', 'century', 'trumpets', 'art', 'music', 'styles', 'instance', 'orchestras', 'concert', 'bands', 'well', 'popular', 'played', 'blowing', 'air', 'nearly', 'closed', 'lips', 'called', 'player', 'embouchure', 'producing', 'buzzing', 'sound', 'starts', 'standing', 'wave', 'vibration', 'column', 'inside', 'since', 'primarily', 'constructed', 'tubing', 'usually', 'bent', 'twice', 'rounded', 'rectangular', 'shape', 'many', 'distinct', 'types', 'common', 'transposing', 'length', 'ft', 'provide', 'means', 'change', 'whereas', 'modern', 'generally', 'three', 'sometimes', 'four', 'valves', 'order', 'pitch', 'eight', 'combinations', 'making', 'seven', 'different', 'lengths', 'third', 'valve', 'alternate', 'fingering', 'equivalent', 'combination', 'piston', 'type', 'rotary', 'use', 'valved', 'orchestral', 'settings', 'especially', 'german', 'style', 'although', 'practice', 'varies', 'country', 'engaged', 'increases', 'lowering', 'musician', 'plays', 'trumpeter'], ['pipe', 'organ', 'musical', 'instrument', 'produces', 'sound', 'driving', 'pressurized', 'air', 'called', 'wind', 'pipes', 'selected', 'keyboard', 'single', 'pitch', 'provided', 'sets', 'ranks', 'common', 'timbre', 'volume', 'throughout', 'compass', 'organs', 'many', 'differing', 'player', 'employ', 'singly', 'combination', 'use', 'controls', 'stops', 'one', 'keyboards', 'manuals', 'played', 'hands', 'pedal', 'clavier', 'feet', 'division', 'group', 'pedalboard', 'housed', 'console', 'continuous', 'supply', 'allows', 'sustain', 'notes', 'long', 'corresponding', 'keys', 'pressed', 'unlike', 'piano', 'harpsichord', 'whose', 'begins', 'dissipate', 'immediately', 'key', 'depressed', 'smallest', 'portable', 'may', 'two', 'dozen', 'manual', 'largest', 'seven', 'list', 'notable', 'world', 'viewed', 'consisting', 'ranking', 'based', 'criterion', 'constructed', 'michał', 'szostak', 'number', 'additional', 'equipment', 'managed', 'found', 'vox', 'humana', 'origins', 'traced', 'back', 'hydraulis', 'ancient', 'greece', 'century', 'bc', 'created', 'weight', 'displaced', 'water', 'airtight', 'container', 'ad', 'bellows', 'used', 'byzantine', 'beginning', 'began', 'evolve', 'complex', 'capable', 'producing', 'different', 'timbres', 'great', 'leaden', 'sent', 'west', 'emperor', 'constantine', 'gift', 'pepin', 'short', 'king', 'franks', 'son', 'charlemagne', 'requested', 'similar', 'chapel', 'aachen', 'establishment', 'western', 'european', 'church', 'music', 'england', 'first', 'detailed', 'record', 'exists', 'built', 'winchester', 'cathedral', 'huge', 'machine', 'needed', 'men', 'play', 'blow', 'could', 'heard', 'city', 'sounds', 'available', 'modern', 'classical', 'developed', 'time', 'man', 'made', 'device', 'distinction', 'retained', 'telephone', 'exchange', 'late', 'installed', 'churches', 'synagogues', 'concert', 'halls', 'schools', 'public', 'buildings', 'private', 'properties', 'performance', 'sacred', 'secular', 'popular', 'early', 'theaters', 'accompany', 'screening', 'films', 'silent', 'movie', 'era', 'municipal', 'auditoria', 'orchestral', 'transcriptions', 'homes', 'wealthy', 'seen', 'resurgence', 'installations', 'boasts', 'substantial', 'repertoire', 'spans', 'years'], ['harp', 'stringed', 'musical', 'instrument', 'number', 'individual', 'strings', 'running', 'angle', 'soundboard', 'plucked', 'fingers'], ['ukulele', 'ˌjuːkəˈleɪli', 'yoo', 'kə', 'lay', 'lee', 'hawaiian', 'ʻukulele', 'ˈʔukuˈlɛlɛ', 'approximately', 'oo', 'koo', 'leh', 'member', 'lute', 'family', 'instruments', 'generally', 'employs', 'four', 'nylon', 'strings', 'small', 'guitar', 'like', 'instrument', 'introduced', 'hawaii', 'portuguese', 'immigrants', 'madeira', 'gained', 'great', 'popularity', 'elsewhere', 'united', 'states', 'early', 'century', 'spread', 'internationally', 'tone', 'volume', 'vary', 'size', 'construction', 'ukuleles', 'commonly', 'come', 'sizes', 'soprano', 'concert', 'tenor', 'baritone'], ['trombone', 'musical', 'instrument', 'brass', 'family', 'instruments', 'sound', 'produced', 'player', 'vibrating', 'lips', 'embouchure', 'cause', 'air', 'column', 'inside', 'vibrate', 'unlike', 'valves', 'pressed', 'alter', 'pitch', 'trombones', 'instead', 'telescoping', 'slide', 'mechanism', 'varies', 'length', 'change', 'however', 'many', 'modern', 'models', 'also', 'valve', 'attachment', 'lowers', 'variants', 'superbone', 'three', 'similar', 'trumpet', 'word', 'derives', 'italian', 'tromba', 'one', 'suffix', 'meaning', 'large', 'name', 'means', 'predominantly', 'cylindrical', 'bore', 'like', 'valved', 'counterpart', 'baritone', 'contrast', 'conical', 'counterparts', 'cornet', 'euphonium', 'french', 'horn', 'frequently', 'encountered', 'tenor', 'bass', 'common', 'variant', 'non', 'transposing', 'pitched', 'octave', 'pedal', 'tuba', 'alto', 'became', 'less', 'widely', 'used', 'improvements', 'technique', 'extended', 'upper', 'range', 'resurging', 'due', 'lighter', 'sonority', 'appreciated', 'classical', 'early', 'romantic', 'works', 'music', 'usually', 'written', 'concert', 'either', 'clef', 'although', 'exceptions', 'occur', 'notably', 'british', 'band', 'presented', 'treble', 'person', 'plays', 'called', 'trombonist'], ['viola', 'viˈoʊlə', 'vee', 'oh', 'lə', 'also', 'uk', 'vaɪˈoʊlə', 'vy', 'italian', 'ˈvjɔːla', 'viˈɔːla', 'string', 'instrument', 'bowed', 'plucked', 'played', 'varying', 'techniques', 'slightly', 'larger', 'violin', 'lower', 'deeper', 'sound', 'since', 'century', 'middle', 'alto', 'voice', 'family', 'tuned', 'perfect', 'fifth', 'cello', 'octave', 'strings', 'low', 'high', 'typically', 'past', 'varied', 'size', 'style', 'names', 'citation', 'needed', 'word', 'originates', 'language', 'italians', 'often', 'used', 'term', 'da', 'braccio', 'meaning', 'literally', 'arm', 'brazzo', 'another', 'germans', 'adopted', 'bratsche', 'french', 'cinquiesme', 'small', 'haute', 'contre', 'large', 'taile', 'tenor', 'today', 'use', 'reference', 'range', 'popular', 'heyday', 'five', 'part', 'harmony', 'eighteenth', 'taking', 'three', 'lines', 'occasionally', 'playing', 'melody', 'line', 'music', 'differs', 'instruments', 'primarily', 'uses', 'clef', 'substantial', 'sections', 'higher', 'register', 'switches', 'treble', 'make', 'easier', 'read', 'plays', 'inner', 'voices', 'quartets', 'symphonic', 'writing', 'likely', 'first', 'play', 'accompaniment', 'parts', 'major', 'soloistic', 'role', 'orchestral', 'examples', 'include', 'poem', 'quixote', 'richard', 'strauss', 'symphony', 'concerto', 'harold', 'en', 'italie', 'hector', 'berlioz', 'earlier', 'composers', 'began', 'write', 'encouraged', 'emergence', 'specialized', 'soloists', 'lionel', 'tertis', 'william', 'primrose', 'english', 'arthur', 'bliss', 'york', 'bowen', 'benjamin', 'dale', 'frank', 'bridge', 'britten', 'rebecca', 'clarke', 'ralph', 'vaughan', 'williams', 'wrote', 'chamber', 'concert', 'works', 'many', 'pieces', 'commissioned', 'written', 'walton', 'bohuslav', 'martinů', 'toru', 'takemitsu', 'tibor', 'serly', 'alfred', 'schnittke', 'béla', 'bartók', 'well', 'known', 'concertos', 'concerti', 'paul', 'hindemith', 'carl', 'stamitz', 'georg', 'philipp', 'telemann', 'considered', 'repertoire', 'violist', 'amount', 'including', 'der', 'schwanendreher'], ['double', 'bass', 'also', 'known', 'simply', 'names', 'largest', 'lowest', 'pitched', 'bowed', 'plucked', 'string', 'instrument', 'modern', 'symphony', 'orchestra', 'standard', 'member', 'section', 'well', 'concert', 'band', 'featured', 'concertos', 'solo', 'chamber', 'music', 'western', 'classical', 'used', 'range', 'genres', 'jazz', 'style', 'blues', 'rock', 'roll', 'rockabilly', 'psychobilly', 'traditional', 'country', 'bluegrass', 'tango', 'many', 'types', 'folk', 'transposing', 'typically', 'notated', 'one', 'octave', 'higher', 'tuned', 'avoid', 'excessive', 'ledger', 'lines', 'staff', 'fourths', 'like', 'viol', 'rather', 'fifths', 'strings', 'usually', 'exact', 'lineage', 'still', 'matter', 'debate', 'scholars', 'divided', 'whether', 'derived', 'violin', 'family', 'played', 'bow', 'arco', 'plucking', 'pizzicato', 'via', 'variety', 'extended', 'techniques', 'orchestral', 'repertoire', 'employed', 'norm', 'uses', 'natural', 'sound', 'produced', 'acoustically', 'reggae', 'related', 'frequently', 'amplified'], ['edgar', 'degas', 'uk', 'ˈdeɪɡɑː', 'us', 'deɪˈɡɑː', 'dəˈɡɑː', 'born', 'hilaire', 'germain', 'de', 'gas', 'french', 'ilɛːʁ', 'ʒɛʁmɛ', 'ɛdɡaʁ', 'də', 'ɡa', 'july', 'september', 'impressionist', 'artist', 'famous', 'pastel', 'drawings', 'oil', 'paintings', 'also', 'produced', 'bronze', 'sculptures', 'prints', 'especially', 'identified', 'subject', 'dance', 'half', 'works', 'depict', 'dancers', 'although', 'regarded', 'one', 'founders', 'impressionism', 'rejected', 'term', 'preferring', 'called', 'realist', 'paint', 'outdoors', 'many', 'impressionists', 'superb', 'draftsman', 'particularly', 'masterly', 'depicting', 'movement', 'seen', 'rendition', 'bathing', 'female', 'nudes', 'addition', 'ballet', 'women', 'painted', 'racehorses', 'racing', 'jockeys', 'well', 'portraits', 'notable', 'psychological', 'complexity', 'portrayal', 'human', 'isolation', 'beginning', 'career', 'wanted', 'history', 'painter', 'calling', 'prepared', 'rigorous', 'academic', 'training', 'close', 'study', 'classical', 'art', 'early', 'thirties', 'changed', 'course', 'bringing', 'traditional', 'methods', 'bear', 'contemporary', 'matter', 'became', 'modern', 'life'], ['paul', 'kane', 'september', 'february', 'irish', 'born', 'canadian', 'painter', 'famous', 'paintings', 'first', 'nations', 'peoples', 'west', 'native', 'americans', 'columbia', 'district', 'largely', 'self', 'educated', 'artist', 'grew', 'york', 'upper', 'canada', 'toronto', 'trained', 'copying', 'european', 'masters', 'grand', 'tour', 'study', 'trip', 'europe', 'undertook', 'two', 'voyages', 'northwest', 'took', 'sault', 'ste', 'marie', 'back', 'secured', 'support', 'hudson', 'bay', 'company', 'set', 'second', 'much', 'longer', 'voyage', 'across', 'rocky', 'mountains', 'fort', 'vancouver', 'present', 'day', 'washington', 'victoria', 'british', 'trips', 'sketched', 'painted', 'métis', 'upon', 'return', 'produced', 'one', 'hundred', 'oil', 'sketches', 'completed', 'studio', 'considered', 'part', 'heritage', 'although', 'often', 'embellished', 'considerably', 'departing', 'accuracy', 'field', 'favour', 'dramatic', 'scenes', 'work', 'followed', 'tenets', 'salvage', 'ethnography'], ['giacomo', 'antonio', 'melchiorre', 'ceruti', 'october', 'august', 'italian', 'late', 'baroque', 'painter', 'active', 'northern', 'italy', 'milan', 'brescia', 'venice', 'acquired', 'nickname', 'pitocchetto', 'little', 'beggar', 'many', 'paintings', 'peasants', 'dressed', 'rags', 'born', 'worked', 'primarily', 'may', 'influenced', 'early', 'cifrondi', 'todesco', 'todeschini', 'received', 'training', 'carlo', 'ceresa', 'also', 'painted', 'still', 'life', 'religious', 'scenes', 'best', 'known', 'genre', 'especially', 'beggars', 'poor', 'realistically', 'endowed', 'unusual', 'dignity', 'individuality', 'gave', 'particular', 'attention', 'subject', 'matter', 'period', 'years', 'survive', 'mira', 'pajes', 'merriman', 'essay', 'titled', 'comedy', 'reality', 'development', 'painting', 'observes', 'generally', 'figures', 'almost', 'nothing', 'describes', 'confronting', 'us'], ['william', 'bell', 'scott', 'scottish', 'artist', 'oils', 'watercolour', 'occasionally', 'printmaking', 'also', 'poet', 'art', 'teacher', 'posthumously', 'published', 'reminiscences', 'give', 'chatty', 'often', 'vivid', 'picture', 'life', 'circle', 'pre', 'raphaelites', 'especially', 'close', 'dante', 'gabriel', 'rossetti', 'growing', 'edinburgh', 'moved', 'london', 'principal', 'government', 'school', 'newcastle', 'upon', 'tyne', 'added', 'industrial', 'subjects', 'repertoire', 'landscapes', 'history', 'painting', 'one', 'first', 'british', 'artists', 'extensively', 'depict', 'processes', 'revolution', 'returned', 'working', 'science', 'department', 'painted', 'cycle', 'historical', 'mixed', 'scenes', 'modern', 'industry', 'wallington', 'hall', 'northumberland', 'national', 'trust', 'best', 'known', 'works', 'purely', 'penkill', 'castle', 'ayrshire', 'scotland'], ['jean', 'baptiste', 'greuze', 'august', 'march', 'french', 'painter', 'portraits', 'genre', 'scenes', 'history', 'painting'], ['albert', 'gustaf', 'aristides', 'edelfelt', 'july', 'august', 'finnish', 'painter', 'noted', 'naturalistic', 'style', 'realist', 'approach', 'art', 'lived', 'grand', 'duchy', 'finland', 'made', 'culture', 'visible', 'abroad', 'gained', 'full', 'independence'], ['ignacy', 'aleksander', 'gierymski', 'january', 'warsaw', 'march', 'rome', 'polish', 'painter', 'late', 'century', 'younger', 'brother', 'maksymilian', 'representative', 'realism', 'well', 'important', 'precursor', 'impressionism', 'poland'], ['vladimir', 'yegorovich', 'makovsky', 'russian', 'влади', 'мир', 'его', 'рович', 'мако', 'вский', 'january', 'greg', 'february', 'moscow', 'petrograd', 'painter', 'art', 'collector', 'teacher'], ['paul', 'jackson', 'pollock', 'ˈpɒlək', 'january', 'august', 'american', 'painter', 'major', 'figure', 'abstract', 'expressionist', 'movement', 'widely', 'noticed', 'technique', 'pouring', 'splashing', 'liquid', 'household', 'paint', 'onto', 'horizontal', 'surface', 'drip', 'enabling', 'view', 'canvases', 'angles', 'also', 'called', 'painting', 'action', 'since', 'covered', 'entire', 'canvas', 'used', 'force', 'whole', 'body', 'often', 'frenetic', 'dancing', 'style', 'extreme', 'form', 'abstraction', 'divided', 'critics', 'praised', 'immediacy', 'creation', 'others', 'derided', 'random', 'effects', 'titled', 'number', 'reported', 'fetched', 'us', 'million', 'private', 'purchase', 'reclusive', 'volatile', 'personality', 'struggled', 'alcoholism', 'life', 'married', 'artist', 'lee', 'krasner', 'became', 'important', 'influence', 'career', 'legacy', 'died', 'age', 'alcohol', 'related', 'single', 'car', 'accident', 'driving', 'december', 'four', 'months', 'death', 'given', 'memorial', 'retrospective', 'exhibition', 'museum', 'modern', 'art', 'moma', 'new', 'york', 'city', 'larger', 'comprehensive', 'work', 'held', 'honored', 'large', 'scale', 'exhibitions', 'tate', 'london'], ['barnett', 'newman', 'january', 'july', 'american', 'artist', 'seen', 'one', 'major', 'figures', 'abstract', 'expressionism', 'foremost', 'color', 'field', 'painters', 'paintings', 'existential', 'tone', 'content', 'explicitly', 'composed', 'intention', 'communicating', 'sense', 'locality', 'presence', 'contingency'], ['arshile', 'gorky', 'ˌɑːrʃiːl', 'ˈɡɔːrkiː', 'born', 'vostanik', 'manoug', 'adoian', 'armenian', 'ոստանիկ', 'մանուկ', 'ատոյեան', 'april', 'july', 'american', 'painter', 'seminal', 'influence', 'abstract', 'expressionism', 'spent', 'life', 'national', 'united', 'states', 'along', 'mark', 'rothko', 'jackson', 'pollock', 'willem', 'de', 'kooning', 'hailed', 'one', 'powerful', 'painters', 'century', 'works', 'often', 'speculated', 'informed', 'suffering', 'loss', 'experienced', 'genocide'], ['oscar', 'claude', 'monet', 'uk', 'ˈmɒneɪ', 'us', 'moʊˈneɪ', 'french', 'klod', 'mɔnɛ', 'november', 'december', 'painter', 'founder', 'impressionist', 'painting', 'consistent', 'prolific', 'practitioner', 'movement', 'philosophy', 'expressing', 'one', 'perceptions', 'nature', 'especially', 'applied', 'plein', 'air', 'landscape', 'term', 'impressionism', 'derived', 'title', 'impression', 'soleil', 'levant', 'sunrise', 'exhibited', 'first', 'independent', 'exhibitions', 'mounted', 'associates', 'alternative', 'salon', 'de', 'paris', 'ambition', 'documenting', 'countryside', 'led', 'adopt', 'method', 'scene', 'many', 'times', 'order', 'capture', 'changing', 'light', 'passing', 'seasons', 'lived', 'giverny', 'purchased', 'house', 'property', 'began', 'vast', 'landscaping', 'project', 'included', 'lily', 'ponds', 'would', 'become', 'subjects', 'best', 'known', 'works', 'water', 'lilies', 'vertical', 'views', 'japanese', 'bridge', 'central', 'feature', 'later', 'series', 'large', 'scale', 'paintings', 'occupy', 'continuously', 'next', 'years', 'life'], ['pierre', 'auguste', 'renoir', 'french', 'pjɛʁ', 'oɡyst', 'ʁənwaʁ', 'february', 'december', 'artist', 'leading', 'painter', 'development', 'impressionist', 'style', 'celebrator', 'beauty', 'especially', 'feminine', 'sensuality', 'said', 'final', 'representative', 'tradition', 'runs', 'directly', 'rubens', 'watteau', 'father', 'actor', 'filmmaker', 'jean', 'ceramic', 'claude', 'grandfather', 'son'], ['alfred', 'sisley', 'ˈsɪsli', 'french', 'sislɛ', 'october', 'january', 'impressionist', 'landscape', 'painter', 'born', 'spent', 'life', 'france', 'retained', 'british', 'citizenship', 'consistent', 'impressionists', 'dedication', 'painting', 'en', 'plein', 'air', 'outdoors', 'deviated', 'figure', 'rarely', 'unlike', 'renoir', 'pissarro', 'found', 'impressionism', 'fulfilled', 'artistic', 'needs', 'among', 'important', 'works', 'series', 'paintings', 'river', 'thames', 'mostly', 'around', 'hampton', 'court', 'executed', 'landscapes', 'depicting', 'places', 'near', 'moret', 'sur', 'loing', 'notable', 'seine', 'bridges', 'former', 'suburbs', 'paris', 'like', 'many', 'characterized', 'tranquillity', 'pale', 'shades', 'green', 'pink', 'purple', 'dusty', 'blue', 'cream', 'years', 'power', 'expression', 'colour', 'intensity', 'increased'], ['wojciech', 'horacy', 'kossak', 'paris', 'france', 'december', 'july', 'kraków', 'poland', 'noted', 'polish', 'painter', 'member', 'celebrated', 'family', 'artists', 'writers', 'son', 'juliusz', 'twin', 'brother', 'freedom', 'fighter', 'tadeusz', 'father', 'two', 'highly', 'talented', 'literary', 'daughters', 'maria', 'pawlikowska', 'jasnorzewska', 'magdalena', 'samozwaniec', 'jerzy'], ['azerbaijan', 'uk', 'ˌæzərbaɪˈdʒɑːn', 'ˈʒɑːn', 'listen', 'us', 'ˌɑːzərbaɪˈdʒɑːn', 'ˌæz', 'azerbaijani', 'azərbaycan', 'ɑːzæɾbɑjˈd', 'ʒɑn', 'officially', 'republic', 'respublikası', 'ɾespublikɑˈsɯ', 'country', 'caucasus', 'region', 'eurasia', 'located', 'crossroads', 'eastern', 'europe', 'western', 'asia', 'bounded', 'caspian', 'sea', 'east', 'russian', 'dagestan', 'north', 'georgia', 'northwest', 'armenia', 'turkey', 'west', 'iran', 'south', 'democratic', 'proclaimed', 'independence', 'empire', 'became', 'first', 'secular', 'muslim', 'majority', 'state', 'incorporated', 'soviet', 'union', 'socialist', 'modern', 'august', 'shortly', 'dissolution', 'ussr', 'year', 'september', 'armenian', 'disputed', 'nagorno', 'karabakh', 'seceded', 'form', 'artsakh', 'seven', 'surrounding', 'districts', 'internationally', 'recognized', 'part', 'pending', 'solution', 'status', 'negotiations', 'facilitated', 'osce', 'de', 'facto', 'independent', 'end', 'war', 'following', 'parts', 'returned', 'control', 'unitary', 'semi', 'presidential', 'one', 'six', 'turkic', 'states', 'active', 'member', 'council', 'türksoy', 'community', 'diplomatic', 'relations', 'countries', 'holds', 'membership', 'international', 'organizations', 'including', 'united', 'nations', 'since', 'non', 'aligned', 'movement', 'nato', 'partnership', 'peace', 'pfp', 'program', 'founding', 'members', 'guam', 'commonwealth', 'cis', 'organisation', 'prohibition', 'chemical', 'weapons', 'also', 'observer', 'world', 'trade', 'organization', 'around', 'population', 'constitution', 'declare', 'official', 'religion', 'major', 'political', 'forces', 'secularist', 'developing', 'ranks', 'human', 'development', 'index', 'high', 'rate', 'economic', 'literacy', 'well', 'low', 'unemployment', 'however', 'ruling', 'party', 'new', 'power', 'accused', 'authoritarian', 'leadership', 'deterioration', 'rights', 'record', 'increasing', 'restrictions', 'civil', 'liberties', 'particularly', 'press', 'freedom', 'repression'], ['bangladesh', 'ˌbæŋləˈdɛʃ', 'bengali', 'pronounced', 'ˈbaŋlaˌdeʃ', 'listen', 'officially', 'people', 'republic', 'country', 'south', 'asia', 'eighth', 'populous', 'world', 'population', 'exceeding', 'million', 'terms', 'landmass', 'ranks', 'spanning', 'square', 'kilometres', 'sq', 'mi', 'making', 'one', 'densely', 'populated', 'countries', 'shares', 'land', 'borders', 'india', 'west', 'north', 'east', 'myanmar', 'southeast', 'bay', 'bengal', 'narrowly', 'separated', 'nepal', 'bhutan', 'siliguri', 'corridor', 'china', 'sikkim', 'respectively', 'dhaka', 'capital', 'largest', 'city', 'nation', 'economic', 'political', 'cultural', 'hub', 'chittagong', 'seaport', 'second', 'forms', 'larger', 'eastern', 'part', 'region', 'according', 'ancient', 'indian', 'texts', 'rāmāyana', 'mahābhārata', 'vanga', 'kingdom', 'namesakes', 'strong', 'naval', 'power', 'classical', 'periods', 'subcontinent', 'territory', 'home', 'many', 'principalities', 'including', 'pundra', 'gangaridai', 'gauda', 'samatata', 'harikela', 'also', 'mauryan', 'province', 'reign', 'ashoka', 'notable', 'overseas', 'trade', 'contacts', 'roman', 'export', 'fine', 'muslin', 'silk', 'middle', 'spreading', 'philosophy', 'art', 'pala', 'empire', 'chandra', 'dynasty', 'sena', 'last', 'pre', 'islamic', 'kingdoms', 'islam', 'introduced', 'abbāsid', 'caliphate', 'following', 'ghurid', 'conquests', 'led', 'bakhtiyar', 'khalji', 'subsequent', 'establishment', 'delhi', 'sultanate', 'preaching', 'shah', 'jalāl', 'faith', 'spread', 'across', 'entire', 'wealthy', 'absorbed', 'mughal', 'rule', 'briefly', 'interrupted', 'suri', 'death', 'emperor', 'aurangzeb', 'alamgir', 'early', 'proto', 'industrialised', 'became', 'semi', 'independent', 'state', 'nawabs', 'later', 'conquered', 'british', 'company', 'battle', 'plassey', 'modern', 'established', 'partition', 'august', 'time', 'pakistan', 'newly', 'formed', 'dominion', 'rise', 'pro', 'democracy', 'movement', 'thrived', 'nationalism', 'self', 'determination', 'leading', 'liberation', 'war', 'eventually', 'resulted', 'emergence', 'sovereign', 'created', 'basis', 'language', 'ethnicity', 'bengalis', 'make', 'total', 'ethnically', 'homogeneous', 'states', 'large', 'muslim', 'makes', 'third', 'majority', 'constitution', 'declares', 'secular', 'establishing', 'religion', 'politics', 'unitary', 'parliamentary', 'constitutional', 'westminster', 'system', 'governance', 'divided', 'eight', 'administrative', 'divisions', 'sixty', 'four', 'districts', 'although', 'continues', 'face', 'challenges', 'rohingya', 'refugee', 'crisis', 'corruption', 'adverse', 'effects', 'climate', 'change', 'emerging', 'growth', 'economies', 'next', 'eleven', 'fastest', 'real', 'gdp', 'rates', 'bangladeshi', 'economy', 'nominal', 'ppp'], ['belarus', 'officially', 'republic', 'landlocked', 'country', 'eastern', 'europe', 'bordered', 'russia', 'east', 'northeast', 'ukraine', 'south', 'poland', 'west', 'lithuania', 'latvia', 'northwest', 'covers', 'area', 'square', 'kilometres', 'sq', 'mi', 'population', 'million', 'thirteenth', 'largest', 'twentieth', 'populous', 'administratively', 'divided', 'seven', 'regions', 'one', 'world', 'urbanized', 'total', 'land', 'forested', 'minsk', 'capital', 'city', 'century', 'different', 'states', 'various', 'times', 'controlled', 'lands', 'modern', 'day', 'including', 'kievan', 'rus', 'principality', 'polotsk', 'grand', 'duchy', 'polish', 'lithuanian', 'commonwealth', 'russian', 'empire', 'aftermath', 'revolution', 'arose', 'competing', 'legitimacy', 'amidst', 'civil', 'war', 'ultimately', 'ending', 'rise', 'byelorussian', 'ssr', 'became', 'founding', 'constituent', 'soviet', 'union', 'lost', 'almost', 'half', 'territory', 'much', 'borders', 'took', 'shape', 'second', 'reintegrated', 'invasion', 'finalized', 'ii', 'wwii', 'military', 'operations', 'devastated', 'quarter', 'economic', 'resources', 'redeveloped', 'post', 'years', 'member', 'united', 'nations', 'along', 'parliament', 'proclaimed', 'sovereignty', 'july', 'dissolution', 'declared', 'independence', 'august', 'following', 'adoption', 'new', 'constitution', 'alexander', 'lukashenko', 'elected', 'first', 'president', 'free', 'election', 'serving', 'ever', 'since', 'openly', 'acknowledges', 'style', 'governance', 'authoritarian', 'human', 'rights', 'groups', 'consider', 'poor', 'using', 'death', 'penalty', 'continued', 'number', 'era', 'policies', 'state', 'ownership', 'large', 'sections', 'economy', 'signed', 'treaty', 'greater', 'cooperation', 'forming', 'developing', 'ranking', 'high', 'development', 'index', 'cis', 'csto', 'eaeu', 'non', 'aligned', 'movement', 'shown', 'aspirations', 'joining', 'european', 'nevertheless', 'maintains', 'bilateral', 'relationship', 'likewise', 'participates', 'two', 'eu', 'projects', 'partnership', 'baku', 'initiative'], ['belize', 'bəˈliːz', 'listen', 'formerly', 'known', 'british', 'honduras', 'caribbean', 'country', 'located', 'northeastern', 'coast', 'central', 'america', 'bordered', 'north', 'mexico', 'east', 'sea', 'south', 'west', 'guatemala', 'area', 'square', 'kilometres', 'sq', 'mi', 'population', 'mainland', 'km', 'long', 'wide', 'lowest', 'density', 'growth', 'rate', 'per', 'year', 'estimate', 'second', 'highest', 'region', 'one', 'western', 'hemisphere', 'maya', 'civilization', 'spread', 'bc', 'ad', 'flourished', 'european', 'contact', 'began', 'christopher', 'columbus', 'sailed', 'along', 'gulf', 'exploration', 'begun', 'english', 'settlers', 'period', 'also', 'marked', 'spain', 'britain', 'laying', 'claim', 'land', 'defeated', 'spanish', 'battle', 'st', 'george', 'caye', 'became', 'colony', 'crown', 'independence', 'achieved', 'united', 'kingdom', 'september', 'diverse', 'society', 'composed', 'many', 'cultures', 'languages', 'reflect', 'rich', 'history', 'american', 'official', 'language', 'belizean', 'creole', 'widely', 'spoken', 'national', 'native', 'third', 'half', 'multilingual', 'common', 'celebrations', 'extensive', 'barrier', 'reef', 'coral', 'reefs', 'punta', 'music', 'abundance', 'terrestrial', 'marine', 'species', 'diversity', 'ecosystems', 'give', 'key', 'place', 'globally', 'significant', 'mesoamerican', 'biological', 'corridor', 'considered', 'nation', 'strong', 'ties', 'regions', 'member', 'community', 'caricom', 'latin', 'states', 'celac', 'integration', 'system', 'sica', 'hold', 'full', 'membership', 'three', 'regional', 'organizations', 'continental', 'commonwealth', 'realm', 'queen', 'elizabeth', 'ii', 'monarch', 'head', 'state', 'represented', 'governor', 'general', 'currently', 'sir', 'colville', 'young'], ['brazil', 'portuguese', 'brasil', 'brazilian', 'bɾaˈziw', 'nt', 'officially', 'federative', 'republic', 'república', 'federativa', 'largest', 'country', 'south', 'america', 'latin', 'million', 'square', 'kilometers', 'miles', 'people', 'world', 'fifth', 'area', 'sixth', 'populous', 'capital', 'brasília', 'city', 'são', 'paulo', 'federation', 'composed', 'union', 'states', 'federal', 'district', 'official', 'language', 'one', 'americas', 'also', 'multicultural', 'ethnically', 'diverse', 'nations', 'due', 'century', 'mass', 'immigration', 'around', 'well', 'roman', 'catholic', 'majority', 'bounded', 'atlantic', 'ocean', 'east', 'coastline', 'mi', 'borders', 'countries', 'except', 'ecuador', 'chile', 'covers', 'continent', 'land', 'amazon', 'basin', 'includes', 'vast', 'tropical', 'forest', 'home', 'wildlife', 'variety', 'ecological', 'systems', 'extensive', 'natural', 'resources', 'spanning', 'numerous', 'protected', 'habitats', 'unique', 'environmental', 'heritage', 'makes', 'megadiverse', 'subject', 'significant', 'global', 'interest', 'degradation', 'processes', 'like', 'deforestation', 'direct', 'impacts', 'issues', 'climate', 'change', 'biodiversity', 'loss', 'inhabited', 'tribal', 'prior', 'landing', 'explorer', 'pedro', 'álvares', 'cabral', 'claimed', 'empire', 'remained', 'colony', 'transferred', 'lisbon', 'rio', 'de', 'janeiro', 'elevated', 'rank', 'kingdom', 'upon', 'formation', 'united', 'portugal', 'algarves', 'independence', 'achieved', 'creation', 'unitary', 'state', 'governed', 'constitutional', 'monarchy', 'parliamentary', 'system', 'ratification', 'first', 'constitution', 'led', 'bicameral', 'legislature', 'called', 'national', 'congress', 'became', 'presidential', 'following', 'military', 'coup', 'état', 'authoritarian', 'junta', 'came', 'power', 'ruled', 'civilian', 'governance', 'resumed', 'current', 'formulated', 'defines', 'democratic', 'rich', 'culture', 'history', 'ranks', 'thirteenth', 'number', 'unesco', 'sites', 'classified', 'upper', 'middle', 'income', 'economy', 'bank', 'newly', 'industrialized', 'share', 'wealth', 'considered', 'advanced', 'emerging', 'twelfth', 'gdp', 'nominal', 'eighth', 'ppp', 'measures', 'major', 'breadbaskets', 'producer', 'coffee', 'last', 'years', 'regional', 'sometimes', 'great', 'international', 'affairs', 'account', 'recognition', 'influence', 'subsequently', 'potential', 'superpower', 'several', 'analysts', 'founding', 'member', 'brics', 'mercosul', 'organization', 'american', 'ibero', 'community'], ['bulgaria', 'bʌlˈɡɛəriə', 'bʊl', 'listen', 'bulgarian', 'българия', 'romanized', 'balgariya', 'officially', 'republic', 'република', 'republika', 'ipa', 'rɛˈpublikɐ', 'bɐɫˈɡarijɐ', 'country', 'southeast', 'europe', 'bordered', 'romania', 'north', 'serbia', 'macedonia', 'west', 'greece', 'turkey', 'south', 'black', 'sea', 'east', 'capital', 'largest', 'city', 'sofia', 'major', 'cities', 'plovdiv', 'varna', 'burgas', 'territory', 'square', 'kilometres', 'sq', 'mi', 'sixteenth', 'one', 'earliest', 'societies', 'lands', 'modern', 'day', 'neolithic', 'karanovo', 'culture', 'dates', 'back', 'bc', 'century', 'region', 'battleground', 'ancient', 'thracians', 'persians', 'celts', 'macedonians', 'stability', 'came', 'roman', 'empire', 'conquered', 'ad', 'eastern', 'lost', 'territories', 'numerous', 'early', 'slavs', 'invaded', 'small', 'number', 'warlike', 'bulgars', 'late', 'subdued', 'founded', 'first', 'dominated', 'balkans', 'significantly', 'influenced', 'slavic', 'cultures', 'developing', 'cyrillic', 'script', 'state', 'lasted', 'byzantine', 'emperor', 'basil', 'ii', 'dismantled', 'successful', 'revolt', 'established', 'second', 'reached', 'apex', 'ivan', 'asen', 'exhausting', 'wars', 'feudal', 'strife', 'disintegrated', 'fell', 'ottoman', 'rule', 'nearly', 'five', 'centuries', 'russo', 'turkish', 'war', 'resulted', 'formation', 'third', 'current', 'many', 'ethnic', 'bulgarians', 'left', 'outside', 'new', 'nation', 'borders', 'stoked', 'irredentist', 'sentiments', 'led', 'several', 'conflicts', 'neighbours', 'alliances', 'germany', 'world', 'soviet', 'bloc', 'became', 'party', 'socialist', 'ruling', 'communist', 'gave', 'monopoly', 'power', 'revolutions', 'allowed', 'multiparty', 'elections', 'transitioned', 'democracy', 'market', 'based', 'economy', 'since', 'adopting', 'democratic', 'constitution', 'unitary', 'parliamentary', 'composed', 'provinces', 'high', 'degree', 'political', 'administrative', 'economic', 'centralisation', 'member', 'european', 'union', 'nato', 'council', 'founding', 'organization', 'security', 'co', 'operation', 'osce', 'taken', 'seat', 'united', 'nations', 'three', 'times', 'part', 'single', 'mostly', 'relies', 'services', 'followed', 'industry', 'especially', 'machine', 'building', 'mining', 'agriculture', 'upper', 'middle', 'income', 'human', 'development', 'index', 'although', 'lowest', 'gdp', 'per', 'capita', 'joint', 'widespread', 'corruption', 'socioeconomic', 'issue', 'ranked', 'corrupt', 'also', 'faces', 'demographic', 'crisis', 'population', 'shrinking', 'annually', 'currently', 'numbers', 'roughly', 'seven', 'million', 'peak', 'nine'], ['switzerland', 'officially', 'swiss', 'confederation', 'country', 'situated', 'confluence', 'western', 'central', 'southern', 'europe', 'note', 'federal', 'republic', 'composed', 'cantons', 'authorities', 'based', 'bern', 'landlocked', 'bordered', 'italy', 'south', 'france', 'west', 'germany', 'north', 'austria', 'liechtenstein', 'east', 'geographically', 'divided', 'among', 'plateau', 'alps', 'jura', 'spanning', 'total', 'area', 'sq', 'mi', 'land', 'occupy', 'greater', 'part', 'territory', 'population', 'approximately', 'million', 'concentrated', 'mostly', 'largest', 'cities', 'economic', 'centres', 'located', 'zürich', 'geneva', 'basel', 'home', 'several', 'offices', 'international', 'organisations', 'headquarters', 'fifa', 'un', 'second', 'office', 'main', 'building', 'bank', 'settlements', 'airports', 'also', 'establishment', 'old', 'confederacy', 'dates', 'late', 'medieval', 'period', 'resulting', 'series', 'military', 'successes', 'burgundy', 'independence', 'holy', 'roman', 'empire', 'formally', 'recognized', 'peace', 'westphalia', 'charter', 'considered', 'founding', 'document', 'celebrated', 'national', 'day', 'since', 'reformation', 'century', 'maintained', 'strong', 'policy', 'armed', 'neutrality', 'fought', 'war', 'join', 'united', 'nations', 'nevertheless', 'pursues', 'active', 'foreign', 'frequently', 'involved', 'processes', 'around', 'world', 'birthplace', 'red', 'cross', 'one', 'oldest', 'best', 'known', 'humanitarian', 'numerous', 'including', 'member', 'european', 'free', 'trade', 'association', 'notably', 'union', 'eurozone', 'however', 'participates', 'schengen', 'single', 'market', 'bilateral', 'treaties', 'occupies', 'crossroads', 'germanic', 'romance', 'reflected', 'four', 'linguistic', 'cultural', 'regions', 'german', 'french', 'italian', 'romansh', 'although', 'majority', 'speaking', 'identity', 'rooted', 'common', 'historical', 'background', 'shared', 'values', 'federalism', 'direct', 'democracy', 'alpine', 'symbolism', 'due', 'diversity', 'variety', 'native', 'names', 'schweiz', 'ˈʃvaɪts', 'suisse', 'sɥis', 'svizzera', 'ˈzvittsera', 'svizra', 'ˈʒviːtsrɐ', 'ˈʒviːtsʁɐ', 'coins', 'stamps', 'latin', 'name', 'confoederatio', 'helvetica', 'shortened', 'helvetia', 'used', 'instead', 'languages', 'developed', 'highest', 'nominal', 'wealth', 'per', 'adult', 'eighth', 'capita', 'gross', 'domestic', 'product', 'tax', 'ranks', 'highly', 'metrics', 'competitiveness', 'human', 'development', 'rank', 'terms', 'quality', 'life', 'albeit', 'costs', 'living', 'imd', 'placed', 'first', 'attracting', 'skilled', 'workers', 'forum', 'competitive', 'globally'], ['italy', 'italian', 'italia', 'iˈtaːlja', 'listen', 'officially', 'republic', 'repubblica', 'italiana', 'reˈpubːlika', 'itaˈljaːna', 'country', 'consisting', 'peninsula', 'delimited', 'alps', 'several', 'islands', 'surrounding', 'located', 'south', 'central', 'europe', 'considered', 'part', 'western', 'unitary', 'parliamentary', 'rome', 'capital', 'covers', 'total', 'area', 'sq', 'mi', 'shares', 'land', 'borders', 'france', 'switzerland', 'austria', 'slovenia', 'enclaved', 'microstates', 'vatican', 'city', 'san', 'marino', 'territorial', 'enclave', 'campione', 'maritime', 'exclave', 'tunisian', 'waters', 'lampedusa', 'around', 'million', 'inhabitants', 'third', 'populous', 'member', 'state', 'european', 'union', 'due', 'geographic', 'location', 'southern', 'mediterranean', 'historically', 'home', 'myriad', 'peoples', 'cultures', 'addition', 'various', 'ancient', 'dispersed', 'throughout', 'modern', 'day', 'predominant', 'indo', 'italic', 'gave', 'name', 'beginning', 'classical', 'era', 'phoenicians', 'carthaginians', 'founded', 'colonies', 'mostly', 'insular', 'greeks', 'established', 'settlements', 'called', 'magna', 'graecia', 'etruscans', 'celts', 'inhabited', 'northern', 'respectively', 'tribe', 'known', 'latins', 'formed', 'roman', 'kingdom', 'century', 'bc', 'eventually', 'became', 'government', 'senate', 'people', 'initially', 'conquered', 'assimilated', 'neighbours', 'expanding', 'conquering', 'parts', 'north', 'africa', 'asia', 'first', 'empire', 'emerged', 'dominant', 'power', 'basin', 'leading', 'cultural', 'political', 'religious', 'centre', 'inaugurating', 'pax', 'romana', 'period', 'years', 'law', 'technology', 'economy', 'art', 'literature', 'developed', 'remained', 'homeland', 'romans', 'metropole', 'whose', 'legacy', 'also', 'observed', 'global', 'distribution', 'culture', 'governments', 'christianity', 'latin', 'script', 'early', 'middle', 'ages', 'endured', 'fall', 'barbarian', 'invasions', 'numerous', 'rival', 'states', 'republics', 'mainly', 'regions', 'rose', 'great', 'prosperity', 'trade', 'commerce', 'banking', 'laying', 'groundwork', 'capitalism', 'independent', 'statelets', 'served', 'main', 'trading', 'hubs', 'near', 'east', 'often', 'enjoying', 'greater', 'degree', 'democracy', 'larger', 'feudal', 'monarchies', 'consolidating', 'however', 'control', 'theocratic', 'papal', 'largely', 'partially', 'result', 'succession', 'byzantine', 'arab', 'norman', 'angevin', 'aragonese', 'foreign', 'conquests', 'region', 'renaissance', 'began', 'spread', 'rest', 'bringing', 'renewed', 'interest', 'humanism', 'science', 'exploration', 'flourished', 'producing', 'famous', 'scholars', 'artists', 'polymaths', 'explorers', 'discovered', 'new', 'routes', 'far', 'world', 'helping', 'usher', 'age', 'discovery', 'nevertheless', 'commercial', 'significantly', 'waned', 'opening', 'bypassed', 'centuries', 'meddling', 'conquest', 'rivalry', 'infighting', 'wars', 'left', 'politically', 'fragmented', 'divided', 'among', 'multiple', 'powers', 'mid', 'rising', 'nationalism', 'calls', 'independence', 'led', 'revolutionary', 'upheaval', 'domination', 'division', 'almost', 'entirely', 'unified', 'establishing', 'late', 'rapidly', 'industrialised', 'acquired', 'colonial', 'impoverished', 'excluded', 'industrialisation', 'fuelling', 'large', 'influential', 'diaspora', 'despite', 'one', 'four', 'allied', 'war', 'entered', 'economic', 'crisis', 'social', 'turmoil', 'rise', 'fascist', 'dictatorship', 'participation', 'ii', 'axis', 'side', 'ended', 'military', 'defeat', 'destruction', 'civil', 'following', 'liberation', 'resistance', 'abolished', 'monarchy', 'democratic', 'enjoyed', 'prolonged', 'boom', 'highly', 'border', 'applies', 'today', 'existed', 'since', 'trieste', 'formally', 'annexed', 'culturally', 'economically', 'advanced', 'countries', 'eighth', 'largest', 'nominal', 'gdp', 'sixth', 'national', 'wealth', 'bank', 'gold', 'reserve', 'ranks', 'life', 'expectancy', 'quality', 'healthcare', 'education', 'plays', 'prominent', 'role', 'regional', 'diplomatic', 'affairs', 'ranked', 'powerful', 'founding', 'international', 'institutions', 'including', 'united', 'nations', 'nato', 'oecd', 'organization', 'security', 'co', 'operation', 'group', 'seven', 'council', 'uniting', 'consensus', 'schengen', 'many', 'long', 'music', 'philosophy', 'fashion', 'greatly', 'influenced', 'contributed', 'diverse', 'fields', 'cinema', 'cuisine', 'sports', 'jurisprudence', 'business', 'reflection', 'number', 'heritage', 'sites', 'fifth', 'visited'], ['israel', 'ˈɪzriəl', 'ˈɪzreɪəl', 'hebrew', 'arabic', 'ائ', 'يل', 'officially', 'known', 'state', 'ינ', 'medinat', 'yisra', 'el', 'country', 'western', 'asia', 'located', 'southeastern', 'shore', 'mediterranean', 'sea', 'northern', 'red', 'land', 'borders', 'lebanon', 'north', 'syria', 'northeast', 'jordan', 'east', 'palestinian', 'territories', 'west', 'bank', 'gaza', 'strip', 'respectively', 'egypt', 'southwest', 'economic', 'technological', 'center', 'tel', 'aviv', 'seat', 'government', 'proclaimed', 'capital', 'jerusalem', 'although', 'international', 'recognition', 'sovereignty', 'limited', 'fn', 'evidence', 'earliest', 'migration', 'hominids', 'africa', 'canaanite', 'tribes', 'archaeologically', 'attested', 'since', 'middle', 'bronze', 'age', 'kingdoms', 'judah', 'emerged', 'iron', 'neo', 'assyrian', 'empire', 'destroyed', 'around', 'bce', 'later', 'conquered', 'babylonian', 'persian', 'hellenistic', 'empires', 'existed', 'jewish', 'autonomous', 'provinces', 'successful', 'maccabean', 'revolt', 'led', 'independent', 'hasmonean', 'kingdom', 'however', 'became', 'client', 'roman', 'republic', 'subsequently', 'installed', 'herodian', 'dynasty', 'ce', 'created', 'province', 'judea', 'lasted', 'failed', 'revolts', 'resulted', 'widespread', 'destruction', 'expulsion', 'population', 'renaming', 'region', 'iudaea', 'palaestina', 'presence', 'persisted', 'certain', 'extent', 'centuries', 'century', 'levant', 'taken', 'byzantine', 'arabs', 'remained', 'muslim', 'control', 'first', 'crusade', 'followed', 'ayyubid', 'conquest', 'mamluk', 'sultanate', 'extended', 'defeat', 'ottoman', 'national', 'awakening', 'among', 'jews', 'establishment', 'zionist', 'movement', 'immigration', 'palestine', 'half', 'controlled', 'mandate', 'british', 'ceded', 'ottomans', 'end', 'world', 'war', 'long', 'second', 'saw', 'bombed', 'heavily', 'yishuv', 'serve', 'allies', 'agreed', 'supply', 'arms', 'form', 'brigade', 'amidst', 'growing', 'tension', 'eager', 'appease', 'arab', 'factions', 'united', 'nations', 'un', 'adopted', 'partition', 'plan', 'recommending', 'creation', 'states', 'internationalized', 'accepted', 'agency', 'rejected', 'leaders', 'following', 'year', 'declared', 'independence', 'subsequent', 'israeli', 'former', 'territory', 'held', 'neighboring', 'fought', 'several', 'wars', 'countries', 'six', 'day', 'june', 'occupied', 'including', 'golan', 'heights', 'still', 'considered', 'disengagement', 'legal', 'experts', 'dispute', 'claim', 'legislative', 'acts', 'full', 'application', 'law', 'within', 'well', 'partial', 'via', 'pipelining', 'settlements', 'occupation', 'internationally', 'longest', 'military', 'modern', 'times', 'efforts', 'resolve', 'conflict', 'final', 'peace', 'agreement', 'signed', 'treaties', 'basic', 'laws', 'defines', 'democratic', 'nation', 'people', 'liberal', 'democracy', 'parliamentary', 'system', 'proportional', 'representation', 'universal', 'suffrage', 'prime', 'minister', 'head', 'knesset', 'legislature', 'million', 'developed', 'oecd', 'member', 'largest', 'economy', 'nominal', 'gdp', 'currently', 'highest', 'standard', 'living', 'ranks', 'top', 'percentage', 'citizens', 'training', 'holding', 'tertiary', 'education', 'degree', 'research', 'development', 'spending', 'women', 'safety', 'life', 'expectancy', 'innovativeness', 'happiness'], ['poland', 'polish', 'polska', 'ˈpɔlska', 'listen', 'officially', 'republic', 'rzeczpospolita', 'ʐɛt', 'ʂpɔˈspɔlita', 'country', 'located', 'central', 'europe', 'divided', 'administrative', 'provinces', 'covering', 'area', 'square', 'kilometres', 'sq', 'mi', 'largely', 'temperate', 'seasonal', 'climate', 'population', 'nearly', 'million', 'people', 'fifth', 'populous', 'member', 'state', 'european', 'union', 'capital', 'largest', 'metropolis', 'warsaw', 'major', 'cities', 'include', 'kraków', 'łódź', 'wrocław', 'poznań', 'gdańsk', 'szczecin', 'topographically', 'diverse', 'territory', 'extends', 'beaches', 'along', 'baltic', 'sea', 'north', 'sudetes', 'carpathian', 'mountains', 'south', 'bordered', 'lithuania', 'russia', 'kaliningrad', 'oblast', 'northeast', 'belarus', 'ukraine', 'east', 'slovakia', 'czech', 'germany', 'west', 'history', 'human', 'activity', 'soil', 'spans', 'thousands', 'years', 'throughout', 'late', 'antiquity', 'period', 'became', 'extensively', 'various', 'cultures', 'tribes', 'settling', 'vast', 'plain', 'however', 'western', 'polans', 'dominated', 'region', 'gave', 'name', 'establishment', 'statehood', 'traced', 'pagan', 'ruler', 'realm', 'coextensive', 'present', 'day', 'embraced', 'christianity', 'converted', 'catholicism', 'kingdom', 'founded', 'cemented', 'longstanding', 'political', 'association', 'signing', 'lublin', 'formed', 'lithuanian', 'commonwealth', 'one', 'miles', 'nations', 'century', 'uniquely', 'liberal', 'system', 'adopted', 'first', 'modern', 'constitution', 'may', 'passing', 'prominence', 'prosperity', 'partitioned', 'neighbouring', 'states', 'end', 'regained', 'independence', 'treaty', 'versailles', 'series', 'territorial', 'conflicts', 'new', 'multi', 'ethnic', 'restored', 'position', 'key', 'player', 'politics', 'september', 'world', 'war', 'ii', 'began', 'invasion', 'followed', 'soviets', 'invading', 'accordance', 'molotov', 'ribbentrop', 'pact', 'approximately', 'six', 'citizens', 'including', 'three', 'jews', 'perished', 'course', 'eastern', 'bloc', 'proclaimed', 'forthwith', 'chief', 'signatory', 'amidst', 'global', 'cold', 'tensions', 'wake', 'events', 'notably', 'emergence', 'contributions', 'solidarity', 'movement', 'communist', 'government', 'dissolved', 'established', 'semi', 'presidential', 'democratic', 'developed', 'market', 'regional', 'power', 'sixth', 'economy', 'nominal', 'gdp', 'ppp', 'provides', 'high', 'standards', 'living', 'safety', 'economic', 'freedom', 'well', 'free', 'university', 'education', 'universal', 'health', 'care', 'eu', 'unesco', 'heritage', 'sites', 'cultural', 'schengen', 'united', 'nato', 'oecd', 'seas', 'initiative', 'visegrád', 'group'], ['andorra', 'ænˈdɔːrə', 'listen', 'also', 'uk', 'ænˈdɒrə', 'catalan', 'ənˈdorə', 'officially', 'principality', 'principat', 'sovereign', 'landlocked', 'microstate', 'iberian', 'peninsula', 'eastern', 'pyrenees', 'bordered', 'france', 'north', 'spain', 'south', 'believed', 'created', 'charlemagne', 'ruled', 'count', 'urgell', 'transferred', 'roman', 'catholic', 'diocese', 'present', 'formed', 'charter', 'known', 'diarchy', 'headed', 'two', 'princes', 'bishop', 'catalonia', 'president', 'french', 'republic', 'sixth', 'smallest', 'nation', 'europe', 'area', 'square', 'kilometres', 'sq', 'mi', 'population', 'approximately', 'andorran', 'people', 'romance', 'ethnic', 'group', 'originally', 'descent', 'country', 'world', 'land', 'capital', 'la', 'vella', 'highest', 'city', 'elevation', 'metres', 'feet', 'sea', 'level', 'official', 'language', 'spanish', 'portuguese', 'commonly', 'spoken', 'tourism', 'sees', 'estimated', 'million', 'visitors', 'annually', 'member', 'european', 'union', 'euro', 'currency', 'united', 'nations', 'since', 'life', 'expectancy', 'years', 'according', 'global', 'burden', 'disease', 'study'], ['zambia', 'ˈzæmbiə', 'ˈzɑːm', 'officially', 'republic', 'tonga', 'cisi', 'ca', 'nyanja', 'dziko', 'la', 'landlocked', 'country', 'crossroads', 'central', 'southern', 'east', 'africa', 'usually', 'considered', 'south', 'although', 'sources', 'consider', 'part', 'neighbours', 'democratic', 'congo', 'north', 'tanzania', 'malawi', 'mozambique', 'southeast', 'zimbabwe', 'botswana', 'namibia', 'southwest', 'angola', 'west', 'capital', 'city', 'lusaka', 'located', 'population', 'concentrated', 'mainly', 'around', 'copperbelt', 'province', 'northwest', 'core', 'economic', 'hubs', 'originally', 'inhabited', 'khoisan', 'peoples', 'region', 'affected', 'bantu', 'expansion', 'thirteenth', 'century', 'following', 'european', 'explorers', 'eighteenth', 'british', 'colonised', 'protectorates', 'barotziland', 'western', 'rhodesia', 'eastern', 'towards', 'end', 'nineteenth', 'merged', 'form', 'northern', 'colonial', 'period', 'governed', 'administration', 'appointed', 'london', 'advice', 'company', 'october', 'became', 'independent', 'united', 'kingdom', 'prime', 'minister', 'kenneth', 'kaunda', 'inaugural', 'president', 'socialist', 'national', 'independence', 'party', 'unip', 'maintained', 'power', 'played', 'key', 'role', 'regional', 'diplomacy', 'cooperating', 'closely', 'states', 'search', 'solutions', 'conflicts', 'one', 'state', 'sole', 'legal', 'political', 'motto', 'nation', 'succeeded', 'frederick', 'chiluba', 'social', 'movement', 'multi', 'democracy', 'beginning', 'growth', 'government', 'decentralisation', 'levy', 'mwanawasa', 'chosen', 'successor', 'presided', 'january', 'death', 'august', 'credited', 'campaigns', 'reduce', 'corruption', 'increase', 'standard', 'living', 'rupiah', 'banda', 'acting', 'elected', 'holding', 'office', 'three', 'years', 'stepped', 'defeat', 'elections', 'patriotic', 'front', 'leader', 'michael', 'sata', 'died', 'making', 'second', 'zambian', 'die', 'guy', 'scott', 'served', 'briefly', 'interim', 'new', 'held', 'edgar', 'lungu', 'sixth', 'contains', 'vast', 'amounts', 'natural', 'resources', 'minerals', 'wildlife', 'forestry', 'freshwater', 'arable', 'land', 'world', 'bank', 'named', 'fastest', 'economically', 'reformed', 'countries', 'common', 'market', 'comesa', 'headquartered'], ['vietnam', 'also', 'written', 'viet', 'nam', 'vietnamese', 'việt', 'vîət', 'nāːm', 'listen', 'officially', 'socialist', 'republic', 'cộng', 'hòa', 'xã', 'hội', 'chủ', 'nghĩa', 'country', 'southeast', 'asia', 'easternmost', 'indochinese', 'peninsula', 'estimated', 'million', 'inhabitants', 'populous', 'world', 'shares', 'land', 'borders', 'china', 'north', 'laos', 'cambodia', 'west', 'maritime', 'thailand', 'gulf', 'philippines', 'indonesia', 'malaysia', 'south', 'sea', 'capital', 'city', 'hanoi', 'ho', 'chi', 'minh', 'known', 'former', 'name', 'saigon', 'archaeological', 'excavations', 'indicate', 'inhabited', 'early', 'paleolithic', 'age', 'ancient', 'nation', 'centered', 'red', 'river', 'valley', 'nearby', 'coastal', 'areas', 'annexed', 'han', 'dynasty', 'century', 'bc', 'subsequently', 'made', 'division', 'imperial', 'millennium', 'first', 'independent', 'monarchy', 'emerged', 'ad', 'paved', 'way', 'successive', 'dynasties', 'expanded', 'southward', 'indochina', 'colonised', 'french', 'late', 'modern', 'born', 'upon', 'proclamation', 'independence', 'france', 'following', 'victory', 'war', 'ended', 'divided', 'two', 'rival', 'states', 'communist', 'anti', 'conflicts', 'intensified', 'saw', 'extensive', 'us', 'intervention', 'support', 'reunified', 'state', 'unitary', 'government', 'became', 'economically', 'politically', 'isolated', 'party', 'initiated', 'series', 'economic', 'political', 'reforms', 'facilitated', 'integration', 'politics', 'global', 'economy', 'result', 'successful', 'enjoyed', 'high', 'gdp', 'growth', 'rate', 'consistently', 'ranked', 'among', 'fastest', 'growing', 'countries', 'nevertheless', 'faces', 'challenges', 'including', 'corruption', 'pollution', 'poverty', 'inadequate', 'social', 'welfare', 'poor', 'human', 'rights', 'record', 'increasing', 'persecution', 'religious', 'groups', 'advocates', 'intensifying', 'restrictions', 'civil', 'liberties', 'established', 'diplomatic', 'relations', 'member', 'international', 'organisations', 'united', 'nations', 'un', 'association', 'asian', 'asean', 'pacific', 'cooperation', 'apec', 'forum', 'trade', 'organization', 'wto'], ['australia', 'officially', 'commonwealth', 'sovereign', 'country', 'comprising', 'mainland', 'australian', 'continent', 'island', 'tasmania', 'numerous', 'smaller', 'islands', 'largest', 'oceania', 'world', 'sixth', 'total', 'area', 'population', 'million', 'highly', 'urbanised', 'heavily', 'concentrated', 'eastern', 'seaboard', 'capital', 'canberra', 'city', 'sydney', 'major', 'metropolitan', 'areas', 'melbourne', 'brisbane', 'perth', 'adelaide', 'indigenous', 'australians', 'inhabited', 'years', 'prior', 'first', 'arrival', 'dutch', 'explorers', 'early', 'century', 'named', 'new', 'holland', 'half', 'claimed', 'great', 'britain', 'initially', 'settled', 'penal', 'transportation', 'colony', 'south', 'wales', 'january', 'date', 'became', 'national', 'day', 'grew', 'steadily', 'subsequent', 'decades', 'time', 'gold', 'rush', 'explored', 'european', 'settlers', 'additional', 'five', 'self', 'governing', 'crown', 'colonies', 'established', 'six', 'federated', 'forming', 'since', 'maintained', 'stable', 'liberal', 'democratic', 'political', 'system', 'functions', 'federal', 'parliamentary', 'constitutional', 'monarchy', 'states', 'ten', 'territories', 'oldest', 'flattest', 'driest', 'least', 'fertile', 'soils', 'landmass', 'square', 'kilometres', 'sq', 'mi', 'megadiverse', 'size', 'gives', 'wide', 'variety', 'landscapes', 'climates', 'deserts', 'centre', 'tropical', 'rainforests', 'north', 'east', 'mountain', 'ranges', 'generates', 'income', 'various', 'sources', 'including', 'mining', 'related', 'exports', 'telecommunications', 'banking', 'manufacturing', 'international', 'education', 'developed', 'thirteenth', 'economy', 'tenth', 'highest', 'per', 'capita', 'considered', 'regional', 'power', 'military', 'expenditure', 'immigrants', 'account', 'proportion', 'ranks', 'measures', 'health', 'economic', 'freedom', 'civil', 'liberties', 'member', 'united', 'nations', 'anzus', 'organisation', 'co', 'operation', 'development', 'oecd', 'trade', 'organization', 'asia', 'pacific', 'cooperation', 'forum', 'asean', 'plus'], ['uzbekistan', 'uk', 'ʊzˌbɛkɪˈstɑːn', 'ʌz', 'ˈstæn', 'us', 'ʊzˈbɛkɪstæn', 'stɑːn', 'uzbek', 'oʻzbekiston', 'pronounced', 'ozbekiˈstɒn', 'officially', 'republic', 'respublikasi', 'country', 'central', 'asia', 'surrounded', 'five', 'landlocked', 'countries', 'kazakhstan', 'north', 'kyrgyzstan', 'northeast', 'tajikistan', 'southeast', 'afghanistan', 'south', 'turkmenistan', 'west', 'along', 'liechtenstein', 'one', 'two', 'doubly', 'sovereign', 'state', 'secular', 'unitary', 'constitutional', 'comprises', 'provinces', 'vilayats', 'autonomous', 'karakalpakstan', 'capital', 'largest', 'city', 'tashkent', 'ancient', 'times', 'part', 'iranian', 'speaking', 'region', 'transoxiana', 'turan', 'first', 'recorded', 'settlers', 'eastern', 'nomads', 'known', 'scythians', 'founded', 'kingdoms', 'khwarazm', 'centuries', 'bc', 'bactria', 'bce', 'sogdia', 'fergana', 'century', 'ce', 'margiana', 'area', 'incorporated', 'achaemenid', 'empire', 'period', 'macedonian', 'greek', 'rule', 'ruled', 'parthian', 'later', 'sasanian', 'muslim', 'conquest', 'persia', 'seventh', 'early', 'conquests', 'converted', 'people', 'including', 'local', 'ruling', 'classes', 'adherents', 'islam', 'cities', 'samarkand', 'khiva', 'bukhara', 'began', 'grow', 'rich', 'silk', 'road', 'witnessed', 'emergence', 'leading', 'figures', 'islamic', 'golden', 'age', 'muhammad', 'al', 'bukhari', 'tirmidhi', 'ismail', 'samani', 'biruni', 'avicenna', 'khwarazmian', 'dynasty', 'whole', 'decimated', 'mongol', 'invasion', 'became', 'dominated', 'turkic', 'peoples', 'shahrisabz', 'birthplace', 'turco', 'conqueror', 'timur', 'tamerlane', 'established', 'timurid', 'proclaimed', 'supreme', 'emir', 'centre', 'science', 'ulugh', 'beg', 'giving', 'birth', 'renaissance', 'territories', 'conquered', 'shaybanids', 'moving', 'power', 'split', 'three', 'states', 'khanate', 'kokand', 'emirate', 'emperor', 'babur', 'towards', 'east', 'led', 'foundation', 'india', 'proto', 'industrialised', 'mughal', 'bar', 'gradually', 'russian', 'becoming', 'political', 'center', 'turkestan', 'national', 'delimitation', 'meant', 'constituent', 'republics', 'soviet', 'union', 'socialist', 'created', 'following', 'dissolution', 'declared', 'independence', 'august', 'diverse', 'cultural', 'heritage', 'due', 'layers', 'history', 'strategic', 'location', 'official', 'language', 'written', 'modified', 'latin', 'alphabet', 'spoken', 'natively', 'approximately', 'population', 'widespread', 'use', 'inter', 'ethnic', 'tongue', 'pidgen', 'governance', 'uzbeks', 'constitute', 'followed', 'russians', 'tajiks', 'kazakhs', 'others', 'muslims', 'follow', 'orthodox', 'christianity', 'religions', 'non', 'religious', 'majority', 'denominational', 'member', 'cis', 'osce', 'un', 'sco', 'democratic', 'governmental', 'human', 'rights', 'organisations', 'defined', 'authoritarian', 'limited', 'civil', 'death', 'karimov', 'second', 'president', 'shavkat', 'mirziyoyev', 'started', 'new', 'course', 'described', 'quiet', 'revolution', 'stated', 'intended', 'abolish', 'cotton', 'slavery', 'systematic', 'child', 'labour', 'exit', 'visas', 'introduce', 'tax', 'reform', 'create', 'four', 'free', 'economic', 'zones', 'amnestied', 'prisoners', 'relations', 'neighbouring', 'drastically', 'improved', 'amnesty', 'international', 'report', 'found', 'remnant', 'repressive', 'measures', 'lack', 'universal', 'law', 'specific', 'issues', 'small', 'minority', 'force', 'fields', 'forced', 'restrictions', 'movement', 'freed', 'united', 'nations', 'much', 'improvement', 'economy', 'gradual', 'transition', 'market', 'foreign', 'trade', 'policy', 'based', 'import', 'substitution', 'september', 'currency', 'fully', 'convertible', 'rates', 'major', 'producer', 'exporter', 'gigantic', 'generation', 'facilities', 'era', 'ample', 'supply', 'natural', 'gas', 'become', 'electricity', 'late', 'given', 'bb', 'rating', 'standard', 'poor', 'fitch', 'strengths', 'indicated', 'brookings', 'institution', 'include', 'large', 'liquid', 'assets', 'high', 'growth', 'low', 'public', 'debt', 'among', 'constraints', 'holding', 'back', 'gdp', 'per', 'capita', 'something', 'government', 'could', 'influence', 'changing', 'accounts', 'sectors', 'currently', 'included']]\n"
          ],
          "name": "stdout"
        }
      ]
    },
    {
      "cell_type": "code",
      "metadata": {
        "colab": {
          "base_uri": "https://localhost:8080/"
        },
        "id": "FeGol9thAEG2",
        "outputId": "cad0b1aa-8f91-41da-df3f-3a00d3cbe83f"
      },
      "source": [
        "documents = [TaggedDocument(doc, [df['Category'][i]]) for i, doc in enumerate(tokens)]\r\n",
        "print(documents[0])"
      ],
      "execution_count": null,
      "outputs": [
        {
          "output_type": "stream",
          "text": [
            "TaggedDocument(['tiger', 'panthera', 'tigris', 'largest', 'extant', 'cat', 'species', 'member', 'genus', 'recognisable', 'dark', 'vertical', 'stripes', 'orange', 'brown', 'fur', 'lighter', 'underside', 'apex', 'predator', 'primarily', 'preying', 'ungulates', 'deer', 'wild', 'boar', 'territorial', 'generally', 'solitary', 'social', 'requiring', 'large', 'contiguous', 'areas', 'habitat', 'support', 'requirements', 'prey', 'rearing', 'offspring', 'cubs', 'stay', 'mother', 'two', 'years', 'become', 'independent', 'leave', 'home', 'range', 'establish', 'ranged', 'widely', 'eastern', 'anatolia', 'region', 'west', 'amur', 'river', 'basin', 'south', 'foothills', 'himalayas', 'bali', 'sunda', 'islands', 'since', 'early', 'century', 'populations', 'lost', 'least', 'historic', 'extirpated', 'western', 'central', 'asia', 'java', 'southeast', 'china', 'today', 'fragmented', 'stretching', 'siberian', 'temperate', 'forests', 'subtropical', 'tropical', 'indian', 'subcontinent', 'sumatra', 'listed', 'endangered', 'iucn', 'red', 'list', 'global', 'population', 'estimated', 'number', 'mature', 'individuals', 'living', 'small', 'pockets', 'isolated', 'india', 'currently', 'hosts', 'major', 'reasons', 'decline', 'destruction', 'fragmentation', 'poaching', 'tigers', 'also', 'victims', 'human', 'wildlife', 'conflict', 'particular', 'countries', 'high', 'density', 'among', 'popular', 'world', 'charismatic', 'megafauna', 'featured', 'prominently', 'ancient', 'mythology', 'folklore', 'continues', 'depicted', 'modern', 'films', 'literature', 'appearing', 'many', 'flags', 'coats', 'arms', 'mascots', 'sporting', 'teams', 'national', 'animal', 'bangladesh', 'malaysia', 'korea'], ['Animals'])\n"
          ],
          "name": "stdout"
        }
      ]
    },
    {
      "cell_type": "code",
      "metadata": {
        "id": "f_cNexf8MXgM"
      },
      "source": [
        "all = documents"
      ],
      "execution_count": null,
      "outputs": []
    },
    {
      "cell_type": "code",
      "metadata": {
        "id": "Vq2x49qGS_Ok"
      },
      "source": [
        "train_tagged, test_tagged = train_test_split(all, test_size=0.3, random_state=42)"
      ],
      "execution_count": null,
      "outputs": []
    },
    {
      "cell_type": "code",
      "metadata": {
        "id": "cIjoHf45G87Y"
      },
      "source": [
        "import multiprocessing\r\n",
        "cores = multiprocessing.cpu_count()"
      ],
      "execution_count": null,
      "outputs": []
    },
    {
      "cell_type": "code",
      "metadata": {
        "id": "UY2fMYywODHc"
      },
      "source": [
        "def vec_for_learning(model, tagged_docs):\r\n",
        "    sents = tagged_docs\r\n",
        "    targets, regressors = zip(*[(doc.tags[0], model.infer_vector(doc.words, steps=20)) for doc in sents])\r\n",
        "    return targets, regressors"
      ],
      "execution_count": null,
      "outputs": []
    },
    {
      "cell_type": "code",
      "metadata": {
        "id": "qMJdPE0eQxSI"
      },
      "source": [
        "model1 = Doc2Vec(dm=0, vector_size=300, negative=5, hs=0, min_count=2, sample = 0, workers=cores)\r\n",
        "model2 = Doc2Vec(dm=0, vector_size=300, negative=5, min_count=1, alpha=0.065, min_alpha=0.065)\r\n",
        "model3 = Doc2Vec(dm=1, dm_mean=1, vector_size=300, window=10, negative=5, min_count=1, workers=5, alpha=0.065, min_alpha=0.065)"
      ],
      "execution_count": null,
      "outputs": []
    },
    {
      "cell_type": "code",
      "metadata": {
        "id": "eksiN_gJRAAM"
      },
      "source": [
        "model1.build_vocab(train_tagged)\r\n",
        "model2.build_vocab(train_tagged)\r\n",
        "model3.build_vocab(train_tagged)"
      ],
      "execution_count": null,
      "outputs": []
    },
    {
      "cell_type": "code",
      "metadata": {
        "colab": {
          "base_uri": "https://localhost:8080/"
        },
        "id": "2h4kEfwXEbM5",
        "outputId": "8c85dbf2-351b-40a7-a56d-4a37ba30c729"
      },
      "source": [
        "%%time\r\n",
        "for epoch in range(30):\r\n",
        "    model1.train(utils.shuffle([x for x in tqdm(train_tagged)]), total_examples=len(train_tagged), epochs=1)\r\n",
        "    model1.alpha -= 0.002\r\n",
        "    model1.min_alpha = model1.alpha"
      ],
      "execution_count": null,
      "outputs": [
        {
          "output_type": "stream",
          "text": [
            "100%|██████████| 52/52 [00:00<00:00, 253904.32it/s]\n",
            "100%|██████████| 52/52 [00:00<00:00, 63866.42it/s]\n",
            "100%|██████████| 52/52 [00:00<00:00, 14720.83it/s]\n",
            "100%|██████████| 52/52 [00:00<00:00, 246723.76it/s]\n",
            "100%|██████████| 52/52 [00:00<00:00, 12862.17it/s]\n",
            "100%|██████████| 52/52 [00:00<00:00, 13744.02it/s]\n",
            "100%|██████████| 52/52 [00:00<00:00, 45858.66it/s]\n",
            "100%|██████████| 52/52 [00:00<00:00, 82897.68it/s]\n",
            "100%|██████████| 52/52 [00:00<00:00, 15031.28it/s]\n",
            "100%|██████████| 52/52 [00:00<00:00, 20899.18it/s]\n",
            "100%|██████████| 52/52 [00:00<00:00, 81079.48it/s]\n",
            "100%|██████████| 52/52 [00:00<00:00, 75941.44it/s]\n",
            "100%|██████████| 52/52 [00:00<00:00, 18029.58it/s]\n",
            "100%|██████████| 52/52 [00:00<00:00, 54910.32it/s]\n",
            "100%|██████████| 52/52 [00:00<00:00, 80185.22it/s]\n",
            "100%|██████████| 52/52 [00:00<00:00, 204600.20it/s]\n",
            "100%|██████████| 52/52 [00:00<00:00, 201388.56it/s]\n",
            "100%|██████████| 52/52 [00:00<00:00, 32055.23it/s]\n",
            "100%|██████████| 52/52 [00:00<00:00, 261202.17it/s]\n",
            "100%|██████████| 52/52 [00:00<00:00, 139452.56it/s]\n",
            "100%|██████████| 52/52 [00:00<00:00, 47924.37it/s]\n",
            "100%|██████████| 52/52 [00:00<00:00, 161918.19it/s]\n",
            "100%|██████████| 52/52 [00:00<00:00, 13207.21it/s]\n",
            "100%|██████████| 52/52 [00:00<00:00, 242068.60it/s]\n",
            "100%|██████████| 52/52 [00:00<00:00, 255990.38it/s]\n",
            "100%|██████████| 52/52 [00:00<00:00, 78994.50it/s]\n",
            "100%|██████████| 52/52 [00:00<00:00, 194215.32it/s]\n",
            "100%|██████████| 52/52 [00:00<00:00, 209513.74it/s]\n",
            "100%|██████████| 52/52 [00:00<00:00, 225546.85it/s]\n",
            "100%|██████████| 52/52 [00:00<00:00, 173926.48it/s]\n"
          ],
          "name": "stderr"
        },
        {
          "output_type": "stream",
          "text": [
            "CPU times: user 553 ms, sys: 40.8 ms, total: 594 ms\n",
            "Wall time: 736 ms\n"
          ],
          "name": "stdout"
        }
      ]
    },
    {
      "cell_type": "code",
      "metadata": {
        "id": "lqMDdjTRH25Z"
      },
      "source": [
        "filename = '/content/drive/MyDrive/d2v_model1i.pkl'\r\n",
        "pickle.dump(model1, open(filename, 'wb'))"
      ],
      "execution_count": null,
      "outputs": []
    },
    {
      "cell_type": "code",
      "metadata": {
        "colab": {
          "base_uri": "https://localhost:8080/"
        },
        "id": "uUxjrLVYRLuS",
        "outputId": "d11e8705-79fc-44be-ca55-093e5dae3d15"
      },
      "source": [
        "y_train, X_train = vec_for_learning(model1, train_tagged)\r\n",
        "y_test, X_test = vec_for_learning(model1, test_tagged)\r\n",
        "logreg = LogisticRegression(n_jobs=1, C=1e5)\r\n",
        "logreg.fit(X_train, y_train)\r\n",
        "y_pred = logreg.predict(X_test)\r\n",
        "y_pred_tr = logreg.predict(X_train)\r\n",
        "print('Testing accuracy %s' % accuracy_score(y_test, y_pred))\r\n",
        "print('Testing F1 score: {}'.format(f1_score(y_test, y_pred, average='weighted')))\r\n",
        "print('Train accuracy %s' % accuracy_score(y_train, y_pred_tr))\r\n",
        "print('Train F1 score: {}'.format(f1_score(y_train, y_pred_tr, average='weighted')))"
      ],
      "execution_count": null,
      "outputs": [
        {
          "output_type": "stream",
          "text": [
            "Testing accuracy 0.5217391304347826\n",
            "Testing F1 score: 0.5386128364389233\n",
            "Train accuracy 0.7692307692307693\n",
            "Train F1 score: 0.7692307692307693\n"
          ],
          "name": "stdout"
        },
        {
          "output_type": "stream",
          "text": [
            "/usr/local/lib/python3.6/dist-packages/sklearn/linear_model/_logistic.py:940: ConvergenceWarning: lbfgs failed to converge (status=1):\n",
            "STOP: TOTAL NO. of ITERATIONS REACHED LIMIT.\n",
            "\n",
            "Increase the number of iterations (max_iter) or scale the data as shown in:\n",
            "    https://scikit-learn.org/stable/modules/preprocessing.html\n",
            "Please also refer to the documentation for alternative solver options:\n",
            "    https://scikit-learn.org/stable/modules/linear_model.html#logistic-regression\n",
            "  extra_warning_msg=_LOGISTIC_SOLVER_CONVERGENCE_MSG)\n"
          ],
          "name": "stderr"
        }
      ]
    },
    {
      "cell_type": "code",
      "metadata": {
        "id": "7DoHpuZuH8wJ"
      },
      "source": [
        "filename = '/content/drive/MyDrive/best1.pkl'\r\n",
        "pickle.dump(logreg, open(filename, 'wb'))"
      ],
      "execution_count": null,
      "outputs": []
    },
    {
      "cell_type": "code",
      "metadata": {
        "colab": {
          "base_uri": "https://localhost:8080/"
        },
        "id": "SQYCO49tEjux",
        "outputId": "9a93d224-6919-48ed-e728-9d9815da9df3"
      },
      "source": [
        "for epoch in range(30):\r\n",
        "    model2.train(utils.shuffle([x for x in tqdm(train_tagged)]), total_examples=len(train_tagged), epochs=1)\r\n",
        "    model2.alpha -= 0.002\r\n",
        "    model2.min_alpha = model2.alpha"
      ],
      "execution_count": null,
      "outputs": [
        {
          "output_type": "stream",
          "text": [
            "100%|██████████| 52/52 [00:00<00:00, 175465.65it/s]\n",
            "100%|██████████| 52/52 [00:00<00:00, 209917.04it/s]\n",
            "100%|██████████| 52/52 [00:00<00:00, 214669.10it/s]\n",
            "100%|██████████| 52/52 [00:00<00:00, 84177.46it/s]\n",
            "100%|██████████| 52/52 [00:00<00:00, 42391.41it/s]\n",
            "100%|██████████| 52/52 [00:00<00:00, 43866.41it/s]\n",
            "100%|██████████| 52/52 [00:00<00:00, 191151.45it/s]\n",
            "100%|██████████| 52/52 [00:00<00:00, 80451.42it/s]\n",
            "100%|██████████| 52/52 [00:00<00:00, 78005.65it/s]\n",
            "100%|██████████| 52/52 [00:00<00:00, 267612.03it/s]\n",
            "100%|██████████| 52/52 [00:00<00:00, 240202.43it/s]\n",
            "100%|██████████| 52/52 [00:00<00:00, 229341.54it/s]\n",
            "100%|██████████| 52/52 [00:00<00:00, 259338.65it/s]\n",
            "100%|██████████| 52/52 [00:00<00:00, 255390.88it/s]\n",
            "100%|██████████| 52/52 [00:00<00:00, 194388.42it/s]\n",
            "100%|██████████| 52/52 [00:00<00:00, 69615.00it/s]\n",
            "100%|██████████| 52/52 [00:00<00:00, 198276.19it/s]\n",
            "100%|██████████| 52/52 [00:00<00:00, 215517.60it/s]\n",
            "100%|██████████| 52/52 [00:00<00:00, 129515.33it/s]\n",
            "100%|██████████| 52/52 [00:00<00:00, 215944.36it/s]\n",
            "100%|██████████| 52/52 [00:00<00:00, 98958.17it/s]\n",
            "100%|██████████| 52/52 [00:00<00:00, 243691.41it/s]\n",
            "100%|██████████| 52/52 [00:00<00:00, 244511.00it/s]\n",
            "100%|██████████| 52/52 [00:00<00:00, 11007.56it/s]\n",
            "100%|██████████| 52/52 [00:00<00:00, 254200.24it/s]\n",
            "100%|██████████| 52/52 [00:00<00:00, 70062.26it/s]\n",
            "100%|██████████| 52/52 [00:00<00:00, 48847.44it/s]\n",
            "100%|██████████| 52/52 [00:00<00:00, 246444.98it/s]\n",
            "100%|██████████| 52/52 [00:00<00:00, 247845.24it/s]\n",
            "100%|██████████| 52/52 [00:00<00:00, 207323.01it/s]\n"
          ],
          "name": "stderr"
        }
      ]
    },
    {
      "cell_type": "code",
      "metadata": {
        "id": "CM-NhhnEEmKW"
      },
      "source": [
        "#najlepszy model doc2vec\r\n",
        "filename = '/content/drive/MyDrive/d2v_model22i.pkl'\r\n",
        "pickle.dump(model2, open(filename, 'wb'))"
      ],
      "execution_count": null,
      "outputs": []
    },
    {
      "cell_type": "code",
      "metadata": {
        "colab": {
          "base_uri": "https://localhost:8080/"
        },
        "id": "SqJFqsiaTvGC",
        "outputId": "74563d73-1a31-4070-c6ce-f37e0f40aba7"
      },
      "source": [
        "y_train, X_train = vec_for_learning(model2, train_tagged)\r\n",
        "y_test, X_test = vec_for_learning(model2, test_tagged)\r\n",
        "logreg = LogisticRegression(n_jobs=1, C=1e5)\r\n",
        "logreg.fit(X_train, y_train)\r\n",
        "y_pred = logreg.predict(X_test)\r\n",
        "y_pred_tr = logreg.predict(X_train)\r\n",
        "print('Testing accuracy %s' % accuracy_score(y_test, y_pred))\r\n",
        "print('Testing F1 score: {}'.format(f1_score(y_test, y_pred, average='weighted')))\r\n",
        "print('Train accuracy %s' % accuracy_score(y_train, y_pred_tr))\r\n",
        "print('Train F1 score: {}'.format(f1_score(y_train, y_pred_tr, average='weighted')))"
      ],
      "execution_count": null,
      "outputs": [
        {
          "output_type": "stream",
          "text": [
            "Testing accuracy 0.9565217391304348\n",
            "Testing F1 score: 0.9569609134826527\n",
            "Train accuracy 1.0\n",
            "Train F1 score: 1.0\n"
          ],
          "name": "stdout"
        }
      ]
    },
    {
      "cell_type": "code",
      "metadata": {
        "id": "G2LyfMjQktGl"
      },
      "source": [
        "#najlepszy model regresja\r\n",
        "filename = '/content/drive/MyDrive/best101.pkl'\r\n",
        "pickle.dump(logreg, open(filename, 'wb'))"
      ],
      "execution_count": null,
      "outputs": []
    },
    {
      "cell_type": "code",
      "metadata": {
        "colab": {
          "base_uri": "https://localhost:8080/"
        },
        "id": "m92I7tm-EoMI",
        "outputId": "a60aa6da-d507-4a1d-a477-0339da99cb82"
      },
      "source": [
        "for epoch in range(30):\r\n",
        "    model3.train(utils.shuffle([x for x in tqdm(train_tagged)]), total_examples=len(train_tagged), epochs=1)\r\n",
        "    model3.alpha -= 0.002\r\n",
        "    model3.min_alpha = model3.alpha"
      ],
      "execution_count": null,
      "outputs": [
        {
          "output_type": "stream",
          "text": [
            "100%|██████████| 52/52 [00:00<00:00, 226483.71it/s]\n",
            "100%|██████████| 52/52 [00:00<00:00, 44177.40it/s]\n",
            "100%|██████████| 52/52 [00:00<00:00, 263410.40it/s]\n",
            "100%|██████████| 52/52 [00:00<00:00, 99499.91it/s]\n",
            "100%|██████████| 52/52 [00:00<00:00, 43655.69it/s]\n",
            "100%|██████████| 52/52 [00:00<00:00, 251271.67it/s]\n",
            "100%|██████████| 52/52 [00:00<00:00, 244237.19it/s]\n",
            "100%|██████████| 52/52 [00:00<00:00, 11296.03it/s]\n",
            "100%|██████████| 52/52 [00:00<00:00, 204600.20it/s]\n",
            "100%|██████████| 52/52 [00:00<00:00, 16111.68it/s]\n",
            "100%|██████████| 52/52 [00:00<00:00, 71043.59it/s]\n",
            "100%|██████████| 52/52 [00:00<00:00, 18031.07it/s]\n",
            "100%|██████████| 52/52 [00:00<00:00, 32130.79it/s]\n",
            "100%|██████████| 52/52 [00:00<00:00, 83213.97it/s]\n",
            "100%|██████████| 52/52 [00:00<00:00, 60383.11it/s]\n",
            "100%|██████████| 52/52 [00:00<00:00, 105110.27it/s]\n",
            "100%|██████████| 52/52 [00:00<00:00, 14663.43it/s]\n",
            "100%|██████████| 52/52 [00:00<00:00, 27100.37it/s]\n",
            "100%|██████████| 52/52 [00:00<00:00, 204600.20it/s]\n",
            "100%|██████████| 52/52 [00:00<00:00, 214037.10it/s]\n",
            "100%|██████████| 52/52 [00:00<00:00, 240732.68it/s]\n",
            "100%|██████████| 52/52 [00:00<00:00, 26135.87it/s]\n",
            "100%|██████████| 52/52 [00:00<00:00, 35516.01it/s]\n",
            "100%|██████████| 52/52 [00:00<00:00, 27636.06it/s]\n",
            "100%|██████████| 52/52 [00:00<00:00, 223925.88it/s]\n",
            "100%|██████████| 52/52 [00:00<00:00, 241265.27it/s]\n",
            "100%|██████████| 52/52 [00:00<00:00, 9415.23it/s]\n",
            "100%|██████████| 52/52 [00:00<00:00, 8237.79it/s]\n",
            "100%|██████████| 52/52 [00:00<00:00, 93727.46it/s]\n",
            "100%|██████████| 52/52 [00:00<00:00, 15507.95it/s]\n"
          ],
          "name": "stderr"
        }
      ]
    },
    {
      "cell_type": "code",
      "metadata": {
        "id": "vc08LuFjIHAJ"
      },
      "source": [
        "filename = '/content/drive/MyDrive/d2v_model3i.pkl'\r\n",
        "pickle.dump(model3, open(filename, 'wb'))"
      ],
      "execution_count": null,
      "outputs": []
    },
    {
      "cell_type": "code",
      "metadata": {
        "colab": {
          "base_uri": "https://localhost:8080/"
        },
        "id": "ICej4F-9T7nU",
        "outputId": "c7b896f6-ca65-49bb-d9d9-52d127ed43bd"
      },
      "source": [
        "y_train, X_train = vec_for_learning(model3, train_tagged)\r\n",
        "y_test, X_test = vec_for_learning(model3, test_tagged)\r\n",
        "logreg = LogisticRegression(n_jobs=1, C=1e5)\r\n",
        "logreg.fit(X_train, y_train)\r\n",
        "y_pred = logreg.predict(X_test)\r\n",
        "y_pred_tr = logreg.predict(X_train)\r\n",
        "print('Testing accuracy %s' % accuracy_score(y_test, y_pred))\r\n",
        "print('Testing F1 score: {}'.format(f1_score(y_test, y_pred, average='weighted')))\r\n",
        "print('Train accuracy %s' % accuracy_score(y_train, y_pred_tr))\r\n",
        "print('Train F1 score: {}'.format(f1_score(y_train, y_pred_tr, average='weighted')))"
      ],
      "execution_count": null,
      "outputs": [
        {
          "output_type": "stream",
          "text": [
            "Testing accuracy 0.8695652173913043\n",
            "Testing F1 score: 0.8766798418972332\n",
            "Train accuracy 1.0\n",
            "Train F1 score: 1.0\n"
          ],
          "name": "stdout"
        }
      ]
    },
    {
      "cell_type": "code",
      "metadata": {
        "id": "shM41p_gIKja"
      },
      "source": [
        "filename = '/content/drive/MyDrive/best3.pkl'\r\n",
        "pickle.dump(logreg, open(filename, 'wb'))"
      ],
      "execution_count": null,
      "outputs": []
    },
    {
      "cell_type": "markdown",
      "metadata": {
        "id": "URu-Zo55OnUf"
      },
      "source": [
        "Poniżej testowanie wyników modelu."
      ]
    },
    {
      "cell_type": "code",
      "metadata": {
        "id": "jwu773RT1tDl"
      },
      "source": [
        "#class DataProcessor:\r\n",
        "#  def __init__(self):\r\n",
        "#    self.tokenizer = RegexpTokenizer(r'\\w+')\r\n",
        "#  def preprocess_text(self, text):\r\n",
        "#    text = text.lower()\r\n",
        "#    tokens = self.tokenizer.tokenize(text)\r\n",
        "#    tokens = [word.lower() for word in tokens]\r\n",
        "#    tokens = [word for word in tokens if word.isalpha()]\r\n",
        "#    return ' '.join(tokens)\r\n",
        "#  def preprocess_dataframe(self, dataframe, in_column = 'RawWiki', out_column = 'CleanWiki'):\r\n",
        "#    dataframe.loc[:, out_column] = dataframe.loc[:, in_column].apply(self.preprocess_text)"
      ],
      "execution_count": null,
      "outputs": []
    },
    {
      "cell_type": "code",
      "metadata": {
        "colab": {
          "base_uri": "https://localhost:8080/"
        },
        "id": "DEztHkVtzeOt",
        "outputId": "264f1b07-63cb-4f53-954c-54814226aedc"
      },
      "source": [
        "#from nltk.corpus import stopwords\r\n",
        "#from nltk.tokenize import RegexpTokenizer\r\n",
        "#doc2vec = pickle.load(open('/content/drive/MyDrive/d2v_model22i.pkl', 'rb'))\r\n",
        "#logreg = pickle.load(open('/content/drive/MyDrive/best101.pkl', 'rb'))\r\n",
        "#text = \"The tiger (Panthera tigris) is the largest extant cat species and a member of the genus Panthera. It is most recognisable for its dark vertical stripes on orange-brown fur with a lighter underside. It is an apex predator, primarily preying on ungulates such as deer and wild boar. It is territorial and generally a solitary but social predator, requiring large contiguous areas of habitat, which support its requirements for prey and rearing of its offspring. Tiger cubs stay with their mother for about two years, before they become independent and leave their mother's home range to establish their own. The tiger once ranged widely from the Eastern Anatolia Region in the west to the Amur River basin, and in the south from the foothills of the Himalayas to Bali in the Sunda islands. Since the early 20th century, tiger populations have lost at least 93% of their historic range and have been extirpated in Western and Central Asia, from the islands of Java and Bali, and in large areas of Southeast and South Asia and China. Today's tiger range is fragmented, stretching from Siberian temperate forests to subtropical and tropical forests on the Indian subcontinent and Sumatra.  The tiger is listed as endangered on the IUCN Red List. As of 2015, the global wild tiger population was estimated to number between 3,062 and 3,948 mature individuals, with most of the populations living in small pockets isolated from each other. India currently hosts the largest tiger population. Major reasons for population decline are habitat destruction, habitat fragmentation and poaching. Tigers are also victims of human–wildlife conflict, in particular in range countries with a high human population density. The tiger is among the most recognisable and popular of the world's charismatic megafauna. It featured prominently in ancient mythology and folklore and continues to be depicted in modern films and literature, appearing on many flags, coats of arms and as mascots for sporting teams. The tiger is the national animal of India, Bangladesh, Malaysia and South Korea.\"\r\n",
        "#clean_text = DataProcessor().preprocess_text(text)\r\n",
        "#def getVector(doc2vec, text):\r\n",
        "#  words = text.split()\r\n",
        "#  vector = doc2vec.infer_vector(words, steps=20)\r\n",
        "#  return vector\r\n",
        "#def predict(logreg, vector):\r\n",
        "#  return logreg.predict(vector.reshape(1, -1))[0]\r\n",
        "#v = getVector(doc2vec, clean_text)\r\n",
        "#o = predict(logreg, v)\r\n",
        "#print(o)\r\n",
        "#Should be Animals"
      ],
      "execution_count": null,
      "outputs": [
        {
          "output_type": "stream",
          "text": [
            "Animals\n"
          ],
          "name": "stdout"
        }
      ]
    }
  ]
}